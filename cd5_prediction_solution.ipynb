{
 "cells": [
  {
   "cell_type": "markdown",
   "id": "070f93dc",
   "metadata": {},
   "source": [
    "# Applied Machine Learning 2022 - Assignment 3\n",
    "\n",
    "### Student: Dimitris Bouris - 8190119\n",
    "\n",
    "## Is Science Becoming Less Disruptive?\n",
    "\n",
    "A [recent paper in Nature](https://www.nature.com/articles/s41586-022-05543-x) created a stir in the scientific community, arguing that science is becoming less disruptive over time. According to the study, there are fewer groundbreaking papers in recent years. It appears that trailblazers are rare and that most research tends to build and expand existing research rather than opening up new paths of inquiry.\n",
    "\n",
    "Needless to say, the paper created quite a bit of head-scratching: if science is becoming less disruptive, what, or who, is to blame? Could it be that the low hanging fruits have already been picked? That modern science requires over-specialisation, which entails working within a field of study, rather than exploring new vistas? The discussion raged even in mainstream media like [The Economist](https://www.economist.com/science-and-technology/2023/01/04/papers-and-patents-are-becoming-less-disruptive), [The New York Times](https://www.nytimes.com/2023/01/17/science/science-breakthroughs-disruption.html), [The Atlantic](https://www.theatlantic.com/newsletters/archive/2023/01/academia-research-scientific-papers-progress/672694/); then Nature returned with an [editorial on what it means and whether it matters](https://www.nature.com/articles/d41586-023-00183-1)."
   ]
  },
  {
   "cell_type": "markdown",
   "id": "1b6edd5b",
   "metadata": {},
   "source": [
    "### Question - Predicting CD5\n",
    "\n",
    "Disruption is measured by a metric, the [CD index](http://russellfunk.org/cdindex/), devised by the authors of the study. The CD is calculated over a time window, say five years (then it's called CD5), and it measures how likely is a work that cites a scientific paper to cite the works *that* paper cites. If follow-up work does not cite a paper's cited predecessors then it's likely that the paper has broken new ground.\n",
    "\n",
    "The CD index can be calculated for each paper, by finding the works that cite it and the works that the paper itself cites. You can find details in the Nature paper and also in [the original paper that introduced the metric](http://russellfunk.org/cdindex/static/papers/funk_ms_2017.pdf). But then an interesting question arises: is it possible to *predict* a paper's CD5 index by using only the paper itself, information on its authors, and information on its citations, without looking into the future work that cites it?\n",
    "\n",
    "Your task in this assignment, should you choose to accept it, is to create a Machine Learning model that can predict, as accurately as possible, the CD5 of a published paper.\n",
    "\n",
    "You must use *at least two* different Machine Learning approaches, one of them employing Neural Networks.\n",
    "\n",
    "The data that you will use is available [here](https://auebgr.sharepoint.com/:u:/s/AppliedMachineLearning2022/EWYKpAPnCBlItVY4Zyp1Wx4BOroJhlNWZALSpFRsgJEVxA?e=Y3P4Dy) (in MS-Teams, under Class Materials) in the form of an [SQLite](https://www.sqlite.org/) database. It is derived from the excellent [alexandria3k package](https://github.com/dspinellis/alexandria3k) written by [Professor Diomidis Spinellis](https://www2.dmst.aueb.gr/dds/). You can easily find the schema of the data with the standard SQLite facilities and you can also read the [documentation of alexandria3k](https://dspinellis.github.io/alexandria3k/). In particular, the data comprises part of the [publications graph](https://dspinellis.github.io/alexandria3k/cli-eg.html#publications-graph) for a 1% sample of all CrossRef available publications that have abstracts; an additional table in the database contains the CD5 index for papers.\n",
    "\n",
    "The existence of abstracts in the data is not accidental. As you can see in the Nature paper, the authors make a nod towards identifying text features that are related to how disruptive a paper is; you know enough, from the material we have covered, to try to leverage the abstracts for your task.\n",
    "\n",
    "The data provided is a minimum; if you wish to use more data, contact the course instructor."
   ]
  },
  {
   "cell_type": "markdown",
   "id": "dd2c65c3",
   "metadata": {},
   "source": [
    "**- In order to succesfully run the notebook the `publications_graph.db` file has to be in the same directory as this notebook**\n",
    "\n",
    "**- In total, the notebook takes 8 minutes to run**"
   ]
  },
  {
   "cell_type": "markdown",
   "id": "03a0f964",
   "metadata": {},
   "source": [
    "## Problem Definition"
   ]
  },
  {
   "cell_type": "markdown",
   "id": "9dee3cf5",
   "metadata": {},
   "source": [
    "As noted above, the CD index aims to capture the disruption level of a publication. By default the metric is caclulated using information before the papers publication (past), information about the published paper itself (present) and information about the citations of the paper (future). <br>\n",
    "\n",
    "The key factors which influence the metric are:\n",
    "- the authors\n",
    "- the subjects\n",
    "- the papers referenced\n",
    "- the number of citations the publication obtains from other papers\n",
    "\n",
    "Our goal in this assignment is to create a model to succesfully predict the CD index of a publication by expoliting only information about the paper itself (present) and the papers that it references (past). Using future information is forbidden."
   ]
  },
  {
   "cell_type": "markdown",
   "id": "c92113d3",
   "metadata": {},
   "source": [
    "## Facts to point out"
   ]
  },
  {
   "cell_type": "markdown",
   "id": "c147e9aa",
   "metadata": {},
   "source": [
    "- The sample provided (1% of total) might lead to biased metrics and models\n",
    "- The models below might not perform well when trained on the whole dataset as they have been tweaked to fit on current data"
   ]
  },
  {
   "cell_type": "markdown",
   "id": "9351b271",
   "metadata": {},
   "source": [
    "## Solution"
   ]
  },
  {
   "cell_type": "markdown",
   "id": "9622a914",
   "metadata": {},
   "source": [
    "The initial approach on this problem will be to try to leverage all the metrics that can arise from the paper itself and its citations (ex authors, subjects...). <br>\n",
    "\n",
    "The second approach would be to caclucate mertics and extract features from the title and the abstract of each publication and then combine them with the initial metrics."
   ]
  },
  {
   "cell_type": "markdown",
   "id": "6589a826",
   "metadata": {},
   "source": [
    "We will start with an overview of the data. The dataset was provided in the form of an SQLIte database so we will use the `sqlite3` library to make data extractions."
   ]
  },
  {
   "cell_type": "code",
   "execution_count": 1,
   "id": "d0e10a41",
   "metadata": {},
   "outputs": [],
   "source": [
    "import sqlite3\n",
    "import pandas as pd\n",
    "import matplotlib.pyplot as plt\n",
    "import numpy as np\n",
    "import langid\n",
    "import re"
   ]
  },
  {
   "cell_type": "markdown",
   "id": "941958ab",
   "metadata": {},
   "source": [
    "In order to understand the structure of the data, we will use `sqlite3` commands to get the database schema. <br>\n",
    "In total we have 6 tables.\n",
    "- `works`\n",
    "- `work_references`\n",
    "- `author_affiliations`\n",
    "- `work_subjects`\n",
    "- `work_authors`\n",
    "- `cdindex`\n",
    "\n",
    "We can see the full `alexandria3k` package database schema [here](https://dspinellis.github.io/alexandria3k/schema.html) in order to understand the relationships between the tables"
   ]
  },
  {
   "cell_type": "code",
   "execution_count": 2,
   "id": "f8716ab3",
   "metadata": {
    "scrolled": false
   },
   "outputs": [
    {
     "name": "stdout",
     "output_type": "stream",
     "text": [
      "CREATE TABLE works(\n",
      "id,\n",
      "published_month,\n",
      "abstract,\n",
      "title,\n",
      "published_day,\n",
      "doi,\n",
      "published_year\n",
      ")\n",
      "CREATE TABLE work_references(\n",
      "article_title,\n",
      "year,\n",
      "work_id,\n",
      "doi\n",
      ")\n",
      "CREATE TABLE author_affiliations(\n",
      "author_id,\n",
      "name\n",
      ")\n",
      "CREATE TABLE work_subjects(\n",
      "work_id,\n",
      "name\n",
      ")\n",
      "CREATE TABLE work_authors(\n",
      "id,\n",
      "work_id,\n",
      "orcid\n",
      ")\n",
      "CREATE TABLE cdindex(doi, cdindex)\n"
     ]
    }
   ],
   "source": [
    "# Connect to the database\n",
    "conn = sqlite3.connect('publications_graph.db')\n",
    "\n",
    "# Create a cursor to execute SQL commands\n",
    "cursor = conn.cursor()\n",
    "\n",
    "# Get the schema of the database\n",
    "cursor.execute(\"SELECT sql FROM sqlite_master WHERE type='table';\")\n",
    "\n",
    "# Fetch all the rows in the result set\n",
    "schema = cursor.fetchall()\n",
    "\n",
    "# Print the schema\n",
    "for table in schema:\n",
    "    print(table[0])"
   ]
  },
  {
   "cell_type": "markdown",
   "id": "e43f690d",
   "metadata": {},
   "source": [
    "As the unzipped size of the database is approximately 5GB, we will try to get an overview of each table's rows and columns and thus try to read only the data needed.\n",
    "\n",
    "- Notice that the table `cdindex` contains 116 mil lines.\n",
    "- This table contains the CD5 indexes foreach work (publication) and the unique identifier is the `doi`.\n",
    "- Based on the above schema, we will proceed by reading only the cdindex value for the publications in the `works` table."
   ]
  },
  {
   "cell_type": "code",
   "execution_count": 3,
   "id": "c8ed059e",
   "metadata": {},
   "outputs": [
    {
     "name": "stdout",
     "output_type": "stream",
     "text": [
      "Table: works\n",
      "Number of rows:  (149078,)\n",
      "Table: work_references\n",
      "Number of rows:  (2852181,)\n",
      "Table: author_affiliations\n",
      "Number of rows:  (327646,)\n",
      "Table: work_subjects\n",
      "Number of rows:  (234357,)\n",
      "Table: work_authors\n",
      "Number of rows:  (577214,)\n",
      "Table: cdindex\n",
      "Number of rows:  (116568934,)\n"
     ]
    }
   ],
   "source": [
    "# create a cursor to iterate over the tables\n",
    "cursor.execute(\"SELECT name from sqlite_master where type='table';\")\n",
    "tables = cursor.fetchall()\n",
    "# iterate over each table and get the name and number of rows\n",
    "for table in tables:\n",
    "    table_name = table[0]\n",
    "    print(\"Table:\", table_name)\n",
    "    cursor.execute(f\"SELECT count(*) from {table_name};\")\n",
    "    num_rows = cursor.fetchall()\n",
    "    print(\"Number of rows: \", num_rows[0])"
   ]
  },
  {
   "cell_type": "markdown",
   "id": "58f41609",
   "metadata": {},
   "source": [
    "We can now read all the tables from the database using simple SQL queries."
   ]
  },
  {
   "cell_type": "code",
   "execution_count": 4,
   "id": "8e65b318",
   "metadata": {},
   "outputs": [],
   "source": [
    "# read the works table \n",
    "works = pd.read_sql_query(\"SELECT * FROM works;\", conn)\n",
    "# read the work references\n",
    "work_ref = pd.read_sql_query(\"SELECT * FROM work_references;\", conn)\n",
    "# read the cd index table\n",
    "cdindex = pd.read_sql_query(\"SELECT * FROM cdindex WHERE doi IN (SELECT doi FROM works);\", conn)\n",
    "# read the subjects table\n",
    "subjects = pd.read_sql_query(\"SELECT * FROM work_subjects;\", conn)\n",
    "# read the authors table\n",
    "work_authors = pd.read_sql_query(\"SELECT * FROM work_authors;\", conn)\n",
    "# read the author affiliations table\n",
    "author_afill = pd.read_sql_query(\"SELECT * FROM author_affiliations;\", conn)"
   ]
  },
  {
   "cell_type": "markdown",
   "id": "78e05f1b",
   "metadata": {},
   "source": [
    "**We proceed with a quick overview of each table.** <br>\n",
    "1. Table `works`\n",
    "- contains info about each publication\n",
    "- every work is uniquely identified by the `id` or the `doi` attribute\n",
    "- we also have the title and the abstract for each paper\n",
    "- the columns `published_month` and `published_day` have many missing values"
   ]
  },
  {
   "cell_type": "code",
   "execution_count": 5,
   "id": "d5cf0f86",
   "metadata": {},
   "outputs": [
    {
     "data": {
      "text/html": [
       "<div>\n",
       "<style scoped>\n",
       "    .dataframe tbody tr th:only-of-type {\n",
       "        vertical-align: middle;\n",
       "    }\n",
       "\n",
       "    .dataframe tbody tr th {\n",
       "        vertical-align: top;\n",
       "    }\n",
       "\n",
       "    .dataframe thead th {\n",
       "        text-align: right;\n",
       "    }\n",
       "</style>\n",
       "<table border=\"1\" class=\"dataframe\">\n",
       "  <thead>\n",
       "    <tr style=\"text-align: right;\">\n",
       "      <th></th>\n",
       "      <th>id</th>\n",
       "      <th>published_month</th>\n",
       "      <th>abstract</th>\n",
       "      <th>title</th>\n",
       "      <th>published_day</th>\n",
       "      <th>doi</th>\n",
       "      <th>published_year</th>\n",
       "    </tr>\n",
       "  </thead>\n",
       "  <tbody>\n",
       "    <tr>\n",
       "      <th>34763</th>\n",
       "      <td>951396</td>\n",
       "      <td>4.0</td>\n",
       "      <td>&lt;jats:p&gt;Only 3%–5% of all brain metastases are...</td>\n",
       "      <td>A Review of the Clinical Outcomes for Patients...</td>\n",
       "      <td>11.0</td>\n",
       "      <td>10.1155/2013/652895</td>\n",
       "      <td>2013.0</td>\n",
       "    </tr>\n",
       "    <tr>\n",
       "      <th>49352</th>\n",
       "      <td>1542322</td>\n",
       "      <td>10.0</td>\n",
       "      <td>&lt;jats:p&gt;Equation (2) in the paper by J. Th. Ve...</td>\n",
       "      <td>Method's of Conducting Ships' Speed Trials</td>\n",
       "      <td>NaN</td>\n",
       "      <td>10.1017/s0373463300027946</td>\n",
       "      <td>1953.0</td>\n",
       "    </tr>\n",
       "    <tr>\n",
       "      <th>44776</th>\n",
       "      <td>1348199</td>\n",
       "      <td>11.0</td>\n",
       "      <td>&lt;jats:p&gt;Синтезированы гибридные нанокомпозитны...</td>\n",
       "      <td>Получение и сравнительный анализ свойств полим...</td>\n",
       "      <td>NaN</td>\n",
       "      <td>10.36236/1999-1590-2019-11-3-125-129</td>\n",
       "      <td>2019.0</td>\n",
       "    </tr>\n",
       "    <tr>\n",
       "      <th>8353</th>\n",
       "      <td>168517</td>\n",
       "      <td>11.0</td>\n",
       "      <td>&lt;jats:title&gt;Abstract&lt;/jats:title&gt;\\n           ...</td>\n",
       "      <td>Growth arrest and terminal differentiation of ...</td>\n",
       "      <td>1.0</td>\n",
       "      <td>10.1182/blood.v84.9.3095.3095</td>\n",
       "      <td>1994.0</td>\n",
       "    </tr>\n",
       "    <tr>\n",
       "      <th>78444</th>\n",
       "      <td>2575927</td>\n",
       "      <td>4.0</td>\n",
       "      <td>&lt;p&gt;The first chapter opens with scenes from Ch...</td>\n",
       "      <td>Negro Distrust of the Police Increased</td>\n",
       "      <td>22.0</td>\n",
       "      <td>10.5149/northcarolina/9781469649597.003.0003</td>\n",
       "      <td>2019.0</td>\n",
       "    </tr>\n",
       "  </tbody>\n",
       "</table>\n",
       "</div>"
      ],
      "text/plain": [
       "            id  published_month  \\\n",
       "34763   951396              4.0   \n",
       "49352  1542322             10.0   \n",
       "44776  1348199             11.0   \n",
       "8353    168517             11.0   \n",
       "78444  2575927              4.0   \n",
       "\n",
       "                                                abstract  \\\n",
       "34763  <jats:p>Only 3%–5% of all brain metastases are...   \n",
       "49352  <jats:p>Equation (2) in the paper by J. Th. Ve...   \n",
       "44776  <jats:p>Синтезированы гибридные нанокомпозитны...   \n",
       "8353   <jats:title>Abstract</jats:title>\\n           ...   \n",
       "78444  <p>The first chapter opens with scenes from Ch...   \n",
       "\n",
       "                                                   title  published_day  \\\n",
       "34763  A Review of the Clinical Outcomes for Patients...           11.0   \n",
       "49352         Method's of Conducting Ships' Speed Trials            NaN   \n",
       "44776  Получение и сравнительный анализ свойств полим...            NaN   \n",
       "8353   Growth arrest and terminal differentiation of ...            1.0   \n",
       "78444             Negro Distrust of the Police Increased           22.0   \n",
       "\n",
       "                                                doi  published_year  \n",
       "34763                           10.1155/2013/652895          2013.0  \n",
       "49352                     10.1017/s0373463300027946          1953.0  \n",
       "44776          10.36236/1999-1590-2019-11-3-125-129          2019.0  \n",
       "8353                  10.1182/blood.v84.9.3095.3095          1994.0  \n",
       "78444  10.5149/northcarolina/9781469649597.003.0003          2019.0  "
      ]
     },
     "execution_count": 5,
     "metadata": {},
     "output_type": "execute_result"
    }
   ],
   "source": [
    "works.sample(5)"
   ]
  },
  {
   "cell_type": "code",
   "execution_count": 6,
   "id": "b758b960",
   "metadata": {},
   "outputs": [
    {
     "name": "stdout",
     "output_type": "stream",
     "text": [
      "Total number of works:  149078\n"
     ]
    }
   ],
   "source": [
    "print(\"Total number of works: \",works['id'].nunique())"
   ]
  },
  {
   "cell_type": "code",
   "execution_count": 7,
   "id": "51d4307e",
   "metadata": {},
   "outputs": [
    {
     "name": "stdout",
     "output_type": "stream",
     "text": [
      "Number of na values in the published_month column:  15644\n",
      "Number of na values in the published_day column:  42271\n"
     ]
    }
   ],
   "source": [
    "print(\"Number of na values in the published_month column: \", sum(works['published_month'].isna()) )\n",
    "print(\"Number of na values in the published_day column: \", sum(works['published_day'].isna()) )"
   ]
  },
  {
   "cell_type": "markdown",
   "id": "4ff1e5c3",
   "metadata": {},
   "source": [
    "2. Table `work_references`\n",
    "- contains info about the references a publication makes to other publications\n",
    "- we are also provided with the title and the publication year of the referenced papers"
   ]
  },
  {
   "cell_type": "code",
   "execution_count": 8,
   "id": "3cd4aad9",
   "metadata": {},
   "outputs": [
    {
     "data": {
      "text/html": [
       "<div>\n",
       "<style scoped>\n",
       "    .dataframe tbody tr th:only-of-type {\n",
       "        vertical-align: middle;\n",
       "    }\n",
       "\n",
       "    .dataframe tbody tr th {\n",
       "        vertical-align: top;\n",
       "    }\n",
       "\n",
       "    .dataframe thead th {\n",
       "        text-align: right;\n",
       "    }\n",
       "</style>\n",
       "<table border=\"1\" class=\"dataframe\">\n",
       "  <thead>\n",
       "    <tr style=\"text-align: right;\">\n",
       "      <th></th>\n",
       "      <th>article_title</th>\n",
       "      <th>year</th>\n",
       "      <th>work_id</th>\n",
       "      <th>doi</th>\n",
       "    </tr>\n",
       "  </thead>\n",
       "  <tbody>\n",
       "    <tr>\n",
       "      <th>519244</th>\n",
       "      <td>None</td>\n",
       "      <td>None</td>\n",
       "      <td>823275</td>\n",
       "      <td>10.1111/1477-4658.00266</td>\n",
       "    </tr>\n",
       "    <tr>\n",
       "      <th>53285</th>\n",
       "      <td>None</td>\n",
       "      <td>None</td>\n",
       "      <td>98355</td>\n",
       "      <td>None</td>\n",
       "    </tr>\n",
       "    <tr>\n",
       "      <th>383455</th>\n",
       "      <td>None</td>\n",
       "      <td>2007</td>\n",
       "      <td>577884</td>\n",
       "      <td>None</td>\n",
       "    </tr>\n",
       "    <tr>\n",
       "      <th>1843141</th>\n",
       "      <td>None</td>\n",
       "      <td>2017</td>\n",
       "      <td>3049165</td>\n",
       "      <td>10.1186/s12917-017-1180-7</td>\n",
       "    </tr>\n",
       "    <tr>\n",
       "      <th>2779527</th>\n",
       "      <td>Uncertainties and limitations in measuring ε a...</td>\n",
       "      <td>1999</td>\n",
       "      <td>4327485</td>\n",
       "      <td>10.1175/1520-0426(1999)016&lt;1483:ualima&gt;2.0.co;2</td>\n",
       "    </tr>\n",
       "  </tbody>\n",
       "</table>\n",
       "</div>"
      ],
      "text/plain": [
       "                                             article_title  year  work_id  \\\n",
       "519244                                                None  None   823275   \n",
       "53285                                                 None  None    98355   \n",
       "383455                                                None  2007   577884   \n",
       "1843141                                               None  2017  3049165   \n",
       "2779527  Uncertainties and limitations in measuring ε a...  1999  4327485   \n",
       "\n",
       "                                                     doi  \n",
       "519244                           10.1111/1477-4658.00266  \n",
       "53285                                               None  \n",
       "383455                                              None  \n",
       "1843141                        10.1186/s12917-017-1180-7  \n",
       "2779527  10.1175/1520-0426(1999)016<1483:ualima>2.0.co;2  "
      ]
     },
     "execution_count": 8,
     "metadata": {},
     "output_type": "execute_result"
    }
   ],
   "source": [
    "work_ref.sample(5)"
   ]
  },
  {
   "cell_type": "markdown",
   "id": "a1148308",
   "metadata": {},
   "source": [
    "Notice that we have many missing values in both columns `article_title` and `year`"
   ]
  },
  {
   "cell_type": "code",
   "execution_count": 9,
   "id": "20f0001d",
   "metadata": {},
   "outputs": [
    {
     "name": "stdout",
     "output_type": "stream",
     "text": [
      "Number of missing values in the article_title column:  2311266\n",
      "Number of missing values in the year column:  1585474\n"
     ]
    }
   ],
   "source": [
    "print(\"Number of missing values in the article_title column: \", sum(work_ref['article_title'].isna()))\n",
    "print(\"Number of missing values in the year column: \", sum(work_ref['year'].isna()))"
   ]
  },
  {
   "cell_type": "markdown",
   "id": "e4ffe92d",
   "metadata": {},
   "source": [
    "Also, the `year` column does not only contain numerical (year) values"
   ]
  },
  {
   "cell_type": "code",
   "execution_count": 10,
   "id": "a8d5a6af",
   "metadata": {},
   "outputs": [
    {
     "data": {
      "text/plain": [
       "array([None, '1987', '1988', ..., '1992d', '1992c', '1999–2000'],\n",
       "      dtype=object)"
      ]
     },
     "execution_count": 10,
     "metadata": {},
     "output_type": "execute_result"
    }
   ],
   "source": [
    "work_ref['year'].unique()"
   ]
  },
  {
   "cell_type": "markdown",
   "id": "5e587b6e",
   "metadata": {},
   "source": [
    "3. Table `author_affiliations`\n",
    "- contains data about the affiliations an author belongs\n",
    "- one author can have multiple affiliations"
   ]
  },
  {
   "cell_type": "code",
   "execution_count": 11,
   "id": "9301874c",
   "metadata": {},
   "outputs": [
    {
     "data": {
      "text/html": [
       "<div>\n",
       "<style scoped>\n",
       "    .dataframe tbody tr th:only-of-type {\n",
       "        vertical-align: middle;\n",
       "    }\n",
       "\n",
       "    .dataframe tbody tr th {\n",
       "        vertical-align: top;\n",
       "    }\n",
       "\n",
       "    .dataframe thead th {\n",
       "        text-align: right;\n",
       "    }\n",
       "</style>\n",
       "<table border=\"1\" class=\"dataframe\">\n",
       "  <thead>\n",
       "    <tr style=\"text-align: right;\">\n",
       "      <th></th>\n",
       "      <th>author_id</th>\n",
       "      <th>name</th>\n",
       "    </tr>\n",
       "  </thead>\n",
       "  <tbody>\n",
       "    <tr>\n",
       "      <th>142094</th>\n",
       "      <td>29843259392</td>\n",
       "      <td>Bhabha Atomic Research Centre</td>\n",
       "    </tr>\n",
       "    <tr>\n",
       "      <th>272126</th>\n",
       "      <td>59630419971</td>\n",
       "      <td>Clinic of Cardiology, St. Olavs University Hos...</td>\n",
       "    </tr>\n",
       "    <tr>\n",
       "      <th>196196</th>\n",
       "      <td>42695737353</td>\n",
       "      <td>Instituto de Química</td>\n",
       "    </tr>\n",
       "    <tr>\n",
       "      <th>289881</th>\n",
       "      <td>62599675905</td>\n",
       "      <td>School of Computer Engineering, Chengdu Techno...</td>\n",
       "    </tr>\n",
       "    <tr>\n",
       "      <th>279367</th>\n",
       "      <td>61225287684</td>\n",
       "      <td>University of Florida Shands Children’s Hospit...</td>\n",
       "    </tr>\n",
       "  </tbody>\n",
       "</table>\n",
       "</div>"
      ],
      "text/plain": [
       "          author_id                                               name\n",
       "142094  29843259392                      Bhabha Atomic Research Centre\n",
       "272126  59630419971  Clinic of Cardiology, St. Olavs University Hos...\n",
       "196196  42695737353                               Instituto de Química\n",
       "289881  62599675905  School of Computer Engineering, Chengdu Techno...\n",
       "279367  61225287684  University of Florida Shands Children’s Hospit..."
      ]
     },
     "execution_count": 11,
     "metadata": {},
     "output_type": "execute_result"
    }
   ],
   "source": [
    "author_afill.sample(5)"
   ]
  },
  {
   "cell_type": "markdown",
   "id": "6af0af31",
   "metadata": {},
   "source": [
    "4. Table `work_subjects`\n",
    "- contains the descriptions of the subjects a work belongs\n",
    "- a work can have multiple subjects"
   ]
  },
  {
   "cell_type": "code",
   "execution_count": 12,
   "id": "cc64ddd2",
   "metadata": {},
   "outputs": [
    {
     "data": {
      "text/html": [
       "<div>\n",
       "<style scoped>\n",
       "    .dataframe tbody tr th:only-of-type {\n",
       "        vertical-align: middle;\n",
       "    }\n",
       "\n",
       "    .dataframe tbody tr th {\n",
       "        vertical-align: top;\n",
       "    }\n",
       "\n",
       "    .dataframe thead th {\n",
       "        text-align: right;\n",
       "    }\n",
       "</style>\n",
       "<table border=\"1\" class=\"dataframe\">\n",
       "  <thead>\n",
       "    <tr style=\"text-align: right;\">\n",
       "      <th></th>\n",
       "      <th>work_id</th>\n",
       "      <th>name</th>\n",
       "    </tr>\n",
       "  </thead>\n",
       "  <tbody>\n",
       "    <tr>\n",
       "      <th>48945</th>\n",
       "      <td>707140</td>\n",
       "      <td>Reproductive Medicine</td>\n",
       "    </tr>\n",
       "    <tr>\n",
       "      <th>136045</th>\n",
       "      <td>2592252</td>\n",
       "      <td>Linguistics and Language</td>\n",
       "    </tr>\n",
       "    <tr>\n",
       "      <th>78173</th>\n",
       "      <td>1295406</td>\n",
       "      <td>General Materials Science</td>\n",
       "    </tr>\n",
       "    <tr>\n",
       "      <th>24234</th>\n",
       "      <td>197639</td>\n",
       "      <td>Nephrology</td>\n",
       "    </tr>\n",
       "    <tr>\n",
       "      <th>215977</th>\n",
       "      <td>4000488</td>\n",
       "      <td>Spectroscopy</td>\n",
       "    </tr>\n",
       "  </tbody>\n",
       "</table>\n",
       "</div>"
      ],
      "text/plain": [
       "        work_id                       name\n",
       "48945    707140      Reproductive Medicine\n",
       "136045  2592252   Linguistics and Language\n",
       "78173   1295406  General Materials Science\n",
       "24234    197639                 Nephrology\n",
       "215977  4000488               Spectroscopy"
      ]
     },
     "execution_count": 12,
     "metadata": {},
     "output_type": "execute_result"
    }
   ],
   "source": [
    "subjects.sample(5)"
   ]
  },
  {
   "cell_type": "markdown",
   "id": "38630c1e",
   "metadata": {},
   "source": [
    "5. Table `work_authors`\n",
    "- contains author names and the corresponding work ids\n",
    "- the `id` is a database incremental and does not uniquely identify the author\n",
    "- the unique identifier is the `orcid` for which there are many missing values as we see later on"
   ]
  },
  {
   "cell_type": "code",
   "execution_count": 13,
   "id": "c4a05ed2",
   "metadata": {},
   "outputs": [
    {
     "data": {
      "text/html": [
       "<div>\n",
       "<style scoped>\n",
       "    .dataframe tbody tr th:only-of-type {\n",
       "        vertical-align: middle;\n",
       "    }\n",
       "\n",
       "    .dataframe tbody tr th {\n",
       "        vertical-align: top;\n",
       "    }\n",
       "\n",
       "    .dataframe thead th {\n",
       "        text-align: right;\n",
       "    }\n",
       "</style>\n",
       "<table border=\"1\" class=\"dataframe\">\n",
       "  <thead>\n",
       "    <tr style=\"text-align: right;\">\n",
       "      <th></th>\n",
       "      <th>id</th>\n",
       "      <th>work_id</th>\n",
       "      <th>orcid</th>\n",
       "    </tr>\n",
       "  </thead>\n",
       "  <tbody>\n",
       "    <tr>\n",
       "      <th>430858</th>\n",
       "      <td>55033757696</td>\n",
       "      <td>3358994</td>\n",
       "      <td>None</td>\n",
       "    </tr>\n",
       "    <tr>\n",
       "      <th>307490</th>\n",
       "      <td>43797070089</td>\n",
       "      <td>2673161</td>\n",
       "      <td>None</td>\n",
       "    </tr>\n",
       "    <tr>\n",
       "      <th>141945</th>\n",
       "      <td>18299781122</td>\n",
       "      <td>1116930</td>\n",
       "      <td>None</td>\n",
       "    </tr>\n",
       "    <tr>\n",
       "      <th>332615</th>\n",
       "      <td>47257403393</td>\n",
       "      <td>2884363</td>\n",
       "      <td>None</td>\n",
       "    </tr>\n",
       "    <tr>\n",
       "      <th>447501</th>\n",
       "      <td>56972820487</td>\n",
       "      <td>3477345</td>\n",
       "      <td>None</td>\n",
       "    </tr>\n",
       "  </tbody>\n",
       "</table>\n",
       "</div>"
      ],
      "text/plain": [
       "                 id  work_id orcid\n",
       "430858  55033757696  3358994  None\n",
       "307490  43797070089  2673161  None\n",
       "141945  18299781122  1116930  None\n",
       "332615  47257403393  2884363  None\n",
       "447501  56972820487  3477345  None"
      ]
     },
     "execution_count": 13,
     "metadata": {},
     "output_type": "execute_result"
    }
   ],
   "source": [
    "work_authors.sample(5)"
   ]
  },
  {
   "cell_type": "markdown",
   "id": "31995aaa",
   "metadata": {},
   "source": [
    "6. Table `cdindex`\n",
    "- contains a CD5 index for each paper\n",
    "- the work here is provided with the `doi` unique identifier\n",
    "- Notice that we also have some `nan` values for the `cdindex` of some papers"
   ]
  },
  {
   "cell_type": "code",
   "execution_count": 14,
   "id": "537c6918",
   "metadata": {},
   "outputs": [
    {
     "data": {
      "text/html": [
       "<div>\n",
       "<style scoped>\n",
       "    .dataframe tbody tr th:only-of-type {\n",
       "        vertical-align: middle;\n",
       "    }\n",
       "\n",
       "    .dataframe tbody tr th {\n",
       "        vertical-align: top;\n",
       "    }\n",
       "\n",
       "    .dataframe thead th {\n",
       "        text-align: right;\n",
       "    }\n",
       "</style>\n",
       "<table border=\"1\" class=\"dataframe\">\n",
       "  <thead>\n",
       "    <tr style=\"text-align: right;\">\n",
       "      <th></th>\n",
       "      <th>doi</th>\n",
       "      <th>cdindex</th>\n",
       "    </tr>\n",
       "  </thead>\n",
       "  <tbody>\n",
       "    <tr>\n",
       "      <th>69259</th>\n",
       "      <td>10.1136/bjo.2008.146381</td>\n",
       "      <td>-0.093023</td>\n",
       "    </tr>\n",
       "    <tr>\n",
       "      <th>92268</th>\n",
       "      <td>10.1590/1678-4162-9209</td>\n",
       "      <td>-0.001410</td>\n",
       "    </tr>\n",
       "    <tr>\n",
       "      <th>90996</th>\n",
       "      <td>10.5604/01.3001.0013.3079</td>\n",
       "      <td>NaN</td>\n",
       "    </tr>\n",
       "    <tr>\n",
       "      <th>111015</th>\n",
       "      <td>10.18224/hab.v13.1.2015.5-30</td>\n",
       "      <td>NaN</td>\n",
       "    </tr>\n",
       "    <tr>\n",
       "      <th>92222</th>\n",
       "      <td>10.1152/ajpendo.90425.2008</td>\n",
       "      <td>-0.010309</td>\n",
       "    </tr>\n",
       "  </tbody>\n",
       "</table>\n",
       "</div>"
      ],
      "text/plain": [
       "                                 doi   cdindex\n",
       "69259        10.1136/bjo.2008.146381 -0.093023\n",
       "92268         10.1590/1678-4162-9209 -0.001410\n",
       "90996      10.5604/01.3001.0013.3079       NaN\n",
       "111015  10.18224/hab.v13.1.2015.5-30       NaN\n",
       "92222     10.1152/ajpendo.90425.2008 -0.010309"
      ]
     },
     "execution_count": 14,
     "metadata": {},
     "output_type": "execute_result"
    }
   ],
   "source": [
    "cdindex.sample(5)"
   ]
  },
  {
   "cell_type": "markdown",
   "id": "ece14dce",
   "metadata": {},
   "source": [
    "### Data Cleaning"
   ]
  },
  {
   "cell_type": "markdown",
   "id": "783c72ee",
   "metadata": {},
   "source": [
    "- first of all, we will keep works for which we have info about their `cdindex`\n",
    "- as the cdindex table contains `nan` values, we apply the filtering after we drop them"
   ]
  },
  {
   "cell_type": "code",
   "execution_count": 15,
   "id": "125666e6",
   "metadata": {},
   "outputs": [
    {
     "data": {
      "text/plain": [
       "(73376, 80281)"
      ]
     },
     "execution_count": 15,
     "metadata": {},
     "output_type": "execute_result"
    }
   ],
   "source": [
    "cdindex.dropna(inplace=True)\n",
    "works = works[works['doi'].isin(cdindex['doi'])]\n",
    "work_ref['work_id'].nunique(), works['id'].nunique()"
   ]
  },
  {
   "cell_type": "markdown",
   "id": "e225ab3b",
   "metadata": {},
   "source": [
    "Based on the definition of the CD5 index and the way it is calculated, it is not correct to deal with papers which have been published within the 5 past years as their CD5 index cannot be properly calculated (\"The CD is calculated over a time window, say five years then it's called CD5\"). <br> \n",
    "\n",
    "So, for the stake of this analysis, we will keep papers with publication date before 2017."
   ]
  },
  {
   "cell_type": "code",
   "execution_count": 16,
   "id": "34dab016",
   "metadata": {},
   "outputs": [
    {
     "data": {
      "text/plain": [
       "(73376, 48422)"
      ]
     },
     "execution_count": 16,
     "metadata": {},
     "output_type": "execute_result"
    }
   ],
   "source": [
    "works = works[works['published_year'] <= 2017]\n",
    "work_ref['work_id'].nunique(), works['id'].nunique()"
   ]
  },
  {
   "cell_type": "markdown",
   "id": "779d0a31",
   "metadata": {},
   "source": [
    "- we also notice that the titles and abstracts are in multiple different languages\n",
    "- this will create problems in any nlp task so we decide to keep only those in english\n",
    "- we will use the `langid` library to identify the language of each paper based on the abstract"
   ]
  },
  {
   "cell_type": "code",
   "execution_count": 17,
   "id": "79763f79",
   "metadata": {},
   "outputs": [
    {
     "data": {
      "text/plain": [
       "47378     <jats:title>Abstract</jats:title>\\n           ...\n",
       "36838     <jats:p>Effective implementation of services f...\n",
       "80617     <jats:p>In todays economy, Chemical Engineeri...\n",
       "35211     <jats:title>Abstract</jats:title>\\n           ...\n",
       "79313     <jats:p>For a (molecular) graph, the first Zag...\n",
       "39021     <jats:p>Abstract. Since the advent of Computer...\n",
       "94639     <jats:title>ABSTRACT</jats:title>\\n          <...\n",
       "86191     <jats:p>As one of the principal failures, duct...\n",
       "16386     <jats:p> Ni , Zn , Pd and Pt tetra(pentafluoro...\n",
       "124811    <jats:p>The availability of methods for on-lin...\n",
       "Name: abstract, dtype: object"
      ]
     },
     "execution_count": 17,
     "metadata": {},
     "output_type": "execute_result"
    }
   ],
   "source": [
    "works['abstract'].sample(10)"
   ]
  },
  {
   "cell_type": "markdown",
   "id": "c4f6828c",
   "metadata": {},
   "source": [
    "- we also notice that the papers abstracts and titles have xml tags in them\n",
    "- we will remove them as they might affect the language identification"
   ]
  },
  {
   "cell_type": "code",
   "execution_count": 18,
   "id": "8e27312a",
   "metadata": {},
   "outputs": [
    {
     "data": {
      "text/plain": [
       "'<jats:title>Abstract</jats:title><jats:p>The photolysis of dilute solutions of octacyclosulphur or hexacyclosulphur in n-hexane with 253.6\\xa0nm UV radiation produces S and possibly S<jats:sub>2</jats:sub>. The ‘ring-opening’ yields of these sulphur molecules range from 0.2 to 0.7. When the hydrogen end-capped polyyne C<jats:sub>10</jats:sub>H<jats:sub>2</jats:sub> is irradiated in n-hexane, it transforms into unidentified products with a quantum yield of 3×10<jats:sup>−5</jats:sup>. When octacyclosulphur is added to the solution, the yield rises to 7×10<jats:sup>−3</jats:sup>. The putative sulphur-bearing product(s) could not be identified. It is suggested that sulphur-bearing molecules might be formed in astronomical settings by reactions of carbon molecules having triple or double C—C bonds with photolytically produced S and/or S<jats:sub>2</jats:sub>.</jats:p>'"
      ]
     },
     "execution_count": 18,
     "metadata": {},
     "output_type": "execute_result"
    }
   ],
   "source": [
    "works['abstract'][0]"
   ]
  },
  {
   "cell_type": "code",
   "execution_count": 19,
   "id": "2d7c367c",
   "metadata": {},
   "outputs": [
    {
     "data": {
      "text/plain": [
       "'On photolytic synthesis of sulphur-bearing organic molecules by reacting S or S<sub>2</sub> with the hydrogen end-capped polyyne C<sub>10</sub>H<sub>2</sub>'"
      ]
     },
     "execution_count": 19,
     "metadata": {},
     "output_type": "execute_result"
    }
   ],
   "source": [
    "works['title'][0]"
   ]
  },
  {
   "cell_type": "code",
   "execution_count": 20,
   "id": "652c5516",
   "metadata": {},
   "outputs": [],
   "source": [
    "# remove the jets titles and the text inside them using a regex\n",
    "def remove_xml_tags(text):\n",
    "    return re.sub(\"<.*?>\", \" \", text)\n",
    "\n",
    "# remove xml tags from both the title and abstract\n",
    "works[\"abstract\"] = works[\"abstract\"].apply(remove_xml_tags)\n",
    "works[\"title\"] = works[\"title\"].apply(remove_xml_tags)"
   ]
  },
  {
   "cell_type": "markdown",
   "id": "6e01ef89",
   "metadata": {},
   "source": [
    "- we use the `classify` method of the `langid` library and keep the language which has the biggest probability\n",
    "- the function takes approximately 3 mins to run so in order to save some time, a `.csv` file has been created with the language of each work."
   ]
  },
  {
   "cell_type": "code",
   "execution_count": 21,
   "id": "0ff3102e",
   "metadata": {},
   "outputs": [],
   "source": [
    "# works['lang'] = works['abstract'].apply(langid.classify)\n",
    "# works['lang'] = works['lang'].apply(lambda x: x[0])\n",
    "\n",
    "# read the csv containing the languages\n",
    "work_lang = pd.read_csv('data/work_languages.csv')\n",
    "works = pd.merge(works, work_lang, on='id')\n",
    "# filter out abstracts which are not written in english\n",
    "works = works[works['lang']=='en']"
   ]
  },
  {
   "cell_type": "markdown",
   "id": "dcdaf36e",
   "metadata": {},
   "source": [
    "After the initial cleaning steps, we can check the `cdindex` distribution.\n",
    "- most of the works have cdindex around 0 or 1\n",
    "- we have little or no works which have a `cdindex < -0.25` \n",
    "- we have little or no works which have a `0.25 < cdindex < 0.75` \n",
    "\n",
    "**Our data seem to be heavily skweed and imbalanced.** For this reason, from now on, we will avoid removing values from our dataset and try to use data imputation techniques."
   ]
  },
  {
   "cell_type": "code",
   "execution_count": 22,
   "id": "5f666bdf",
   "metadata": {},
   "outputs": [
    {
     "data": {
      "text/plain": [
       "Text(0.5, 1.0, 'CD5 Distribution')"
      ]
     },
     "execution_count": 22,
     "metadata": {},
     "output_type": "execute_result"
    },
    {
     "data": {
      "image/png": "[encoded data removed]",
      "text/plain": [
       "<Figure size 432x288 with 1 Axes>"
      ]
     },
     "metadata": {
      "needs_background": "light"
     },
     "output_type": "display_data"
    }
   ],
   "source": [
    "pd.merge(works, cdindex, on='doi')['cdindex'].hist()\n",
    "plt.title(\"CD5 Distribution\")"
   ]
  },
  {
   "cell_type": "markdown",
   "id": "16a5e1a3",
   "metadata": {},
   "source": [
    "### Initial simple metrics for each work\n",
    "1. mean publication year of the papers cited\n",
    "2. standard deviation of the publication year of the papers cited\n",
    "2. number of authors per paper\n",
    "3. number of references each paper makes\n",
    "4. number of subjects"
   ]
  },
  {
   "cell_type": "markdown",
   "id": "be4de537",
   "metadata": {},
   "source": [
    "1. **Average age of the papers cited - standard deviation of the publication year of the work cited**"
   ]
  },
  {
   "cell_type": "markdown",
   "id": "3eb8d831",
   "metadata": {},
   "source": [
    "To get the publication year of the cited papers, we will use the `year` column in the `work_ref` table. We notice that the column is not well formated. <br>\n",
    "The column contains values like:\n",
    "- \"2017a\"\n",
    "- \"28, 2019.\"\n",
    "- \"1901–04\"\n",
    "- \"1955/1908\"\n",
    "- \"1992 (2009)\"\n",
    "- \"1972–1973\"\n",
    "- \"In press\"\n",
    "- \"1945–51\"\n",
    "- \"2005 [1998]\"\n",
    "- \"2006, Fall\"\n",
    "- \"2011;35(10):1308–1317'\"\n",
    "\n",
    "We will use regular expressions to keep as many year values as we can.\n",
    "- notice that some columns contain 2 year values. In this case, one value represents the original and the other the publication date. We will try to keep the original value (min).\n",
    "- also, some year values may also contain page values so we try to filter them."
   ]
  },
  {
   "cell_type": "code",
   "execution_count": 23,
   "id": "3f7c514f",
   "metadata": {},
   "outputs": [
    {
     "data": {
      "text/plain": [
       "array(['None', '1987', '1988', ..., '1992d', '1992c', '1999–2000'],\n",
       "      dtype=object)"
      ]
     },
     "execution_count": 23,
     "metadata": {},
     "output_type": "execute_result"
    }
   ],
   "source": [
    "# convert the year values to string format\n",
    "work_ref['year'] = work_ref['year'].astype('str')\n",
    "work_ref['year'].unique()"
   ]
  },
  {
   "cell_type": "code",
   "execution_count": 24,
   "id": "023b11b2",
   "metadata": {},
   "outputs": [],
   "source": [
    "# replace the string 'None' with nan \n",
    "work_ref['year'] = work_ref['year'].replace('None', np.nan)\n",
    "# find all the numbers with 4 digits\n",
    "work_ref['year_clean'] = work_ref['year'].str.findall(r'(\\d{4})')\n",
    "# remove some wrong numbers\n",
    "work_ref['year_clean'] = work_ref['year_clean'].dropna().apply(lambda x: [val for val in x if float(val) <= 2023])\n",
    "work_ref['year_clean'] = work_ref['year_clean'].dropna().apply(lambda x: [val for val in x if float(val) >= 1940])\n",
    "# fill with nan paper for which we ended with no years\n",
    "work_ref['year_clean'] = work_ref['year_clean'].dropna().apply(lambda x: x if len(x) > 0 else np.nan)\n",
    "# in the case of more than one year, keep the mininum one\n",
    "work_ref['year_final'] = work_ref['year_clean'].dropna().apply(min)\n",
    "# convert to type float\n",
    "work_ref['year_final'] = work_ref['year_final'].astype('float')"
   ]
  },
  {
   "cell_type": "code",
   "execution_count": 25,
   "id": "39f4cf99",
   "metadata": {},
   "outputs": [],
   "source": [
    "# get the mean year of the referenced papers\n",
    "works_ref_year = work_ref.groupby(by='work_id')['year_final'].mean().to_frame(\"mean_age\")"
   ]
  },
  {
   "cell_type": "code",
   "execution_count": 26,
   "id": "51d4a86b",
   "metadata": {},
   "outputs": [
    {
     "data": {
      "image/png": "[encoded data removed]",
      "text/plain": [
       "<Figure size 432x288 with 1 Axes>"
      ]
     },
     "metadata": {
      "needs_background": "light"
     },
     "output_type": "display_data"
    }
   ],
   "source": [
    "works_ref_year.hist()\n",
    "_ = plt.title(\"Mean publication year of the works cited\")"
   ]
  },
  {
   "cell_type": "markdown",
   "id": "f9b1b413",
   "metadata": {},
   "source": [
    "We will also calculate the standard deviation of the publication year of the referenced papers"
   ]
  },
  {
   "cell_type": "code",
   "execution_count": 27,
   "id": "a57140a3",
   "metadata": {},
   "outputs": [],
   "source": [
    "# get the std of the year of the referenced papers\n",
    "works_ref_year_std =  work_ref.groupby(by='work_id')['year_final'].std().to_frame(\"ref_year_std\")"
   ]
  },
  {
   "cell_type": "markdown",
   "id": "263a62ea",
   "metadata": {},
   "source": [
    "2. **Number of authors per paper**"
   ]
  },
  {
   "cell_type": "code",
   "execution_count": 28,
   "id": "304ba3be",
   "metadata": {},
   "outputs": [],
   "source": [
    "work_num_authors = work_authors.groupby('work_id').size().to_frame(\"num_authors\")"
   ]
  },
  {
   "cell_type": "markdown",
   "id": "7227b81d",
   "metadata": {},
   "source": [
    "- notice that we have some outliers here\n",
    "- we filter out some data using the 0.98 `quantile()` function"
   ]
  },
  {
   "cell_type": "code",
   "execution_count": 29,
   "id": "8bf63bce",
   "metadata": {},
   "outputs": [
    {
     "data": {
      "image/png": "[encoded data removed]",
      "text/plain": [
       "<Figure size 432x288 with 1 Axes>"
      ]
     },
     "metadata": {
      "needs_background": "light"
     },
     "output_type": "display_data"
    }
   ],
   "source": [
    "work_num_authors.hist()\n",
    "_ = plt.title(\"Number of authors per paper\")"
   ]
  },
  {
   "cell_type": "markdown",
   "id": "9d0cc473",
   "metadata": {},
   "source": [
    "After the outlier removal, the distribution looks better"
   ]
  },
  {
   "cell_type": "code",
   "execution_count": 30,
   "id": "6e3c80fb",
   "metadata": {},
   "outputs": [
    {
     "data": {
      "image/png": "[encoded data removed]",
      "text/plain": [
       "<Figure size 432x288 with 1 Axes>"
      ]
     },
     "metadata": {
      "needs_background": "light"
     },
     "output_type": "display_data"
    }
   ],
   "source": [
    "# remove some outliers\n",
    "work_num_authors = work_num_authors[work_num_authors['num_authors'] < work_num_authors['num_authors'].quantile(0.98)]\n",
    "work_num_authors.hist()\n",
    "_ = plt.title(\"Number of authors per paper\")"
   ]
  },
  {
   "cell_type": "markdown",
   "id": "68fbd2ad",
   "metadata": {},
   "source": [
    "3. **Number of references a paper makes**"
   ]
  },
  {
   "cell_type": "code",
   "execution_count": 31,
   "id": "b503eb41",
   "metadata": {},
   "outputs": [],
   "source": [
    "work_num_references = work_ref.groupby(by='work_id')['doi'].count().to_frame(\"num_references\")"
   ]
  },
  {
   "cell_type": "markdown",
   "id": "0c5c2ffa",
   "metadata": {},
   "source": [
    "- again, we have some outliers which will be removed as above"
   ]
  },
  {
   "cell_type": "code",
   "execution_count": 32,
   "id": "2882ffe2",
   "metadata": {},
   "outputs": [
    {
     "data": {
      "image/png": "[encoded data removed]",
      "text/plain": [
       "<Figure size 432x288 with 1 Axes>"
      ]
     },
     "metadata": {
      "needs_background": "light"
     },
     "output_type": "display_data"
    }
   ],
   "source": [
    "work_num_references.hist()\n",
    "_ = plt.title(\"Number of references per paper\")"
   ]
  },
  {
   "cell_type": "code",
   "execution_count": 33,
   "id": "28169615",
   "metadata": {},
   "outputs": [
    {
     "data": {
      "image/png": "[encoded data removed]",
      "text/plain": [
       "<Figure size 432x288 with 1 Axes>"
      ]
     },
     "metadata": {
      "needs_background": "light"
     },
     "output_type": "display_data"
    }
   ],
   "source": [
    "# remove the outliers\n",
    "work_num_references = work_num_references[work_num_references['num_references'] < work_num_references['num_references'].quantile(0.98)]\n",
    "work_num_references.hist()\n",
    "_ = plt.title(\"Number of references per paper\")"
   ]
  },
  {
   "cell_type": "markdown",
   "id": "4c436090",
   "metadata": {},
   "source": [
    "4. **Number of subjects per paper**"
   ]
  },
  {
   "cell_type": "code",
   "execution_count": 34,
   "id": "35f0899a",
   "metadata": {},
   "outputs": [],
   "source": [
    "# calculate the number of subjects each paper references\n",
    "work_num_subjects = subjects.groupby(by='work_id').size().to_frame(\"num_subjects\")"
   ]
  },
  {
   "cell_type": "code",
   "execution_count": 35,
   "id": "ffbeb4e4",
   "metadata": {},
   "outputs": [
    {
     "data": {
      "image/png": "[encoded data removed]",
      "text/plain": [
       "<Figure size 432x288 with 1 Axes>"
      ]
     },
     "metadata": {
      "needs_background": "light"
     },
     "output_type": "display_data"
    }
   ],
   "source": [
    "work_num_subjects.hist()\n",
    "_ = plt.title(\"Number of subjects per paper\")"
   ]
  },
  {
   "cell_type": "markdown",
   "id": "c00ea143",
   "metadata": {},
   "source": [
    "We will use the metrics calculated up to now to create a regression model and check the proportion of the variance of the `cdindex` variable explained by them."
   ]
  },
  {
   "cell_type": "markdown",
   "id": "e62a2f6b",
   "metadata": {},
   "source": [
    "- We merge the metrics to the fact data using the `id` (work-id)\n",
    "- We use the left merge in order to avoid droping rows from our imbalanced sample\n",
    "    - because of the imbalanced dataset, we try to keep the most of our sample\n",
    "- `nan` values are filled with the `mean()` value of each metric\n",
    "- instead of using the average publication year of the papers cited, we use the average age of the papers cited by subtracting the value from the `publication_year`of the work\n",
    "- some of the values of the metric `mean_references_age` were negative so we replace them with `nan` and then fill them with the mean to avoid dropping them"
   ]
  },
  {
   "cell_type": "code",
   "execution_count": 36,
   "id": "583ab084",
   "metadata": {},
   "outputs": [
    {
     "data": {
      "text/html": [
       "<div>\n",
       "<style scoped>\n",
       "    .dataframe tbody tr th:only-of-type {\n",
       "        vertical-align: middle;\n",
       "    }\n",
       "\n",
       "    .dataframe tbody tr th {\n",
       "        vertical-align: top;\n",
       "    }\n",
       "\n",
       "    .dataframe thead th {\n",
       "        text-align: right;\n",
       "    }\n",
       "</style>\n",
       "<table border=\"1\" class=\"dataframe\">\n",
       "  <thead>\n",
       "    <tr style=\"text-align: right;\">\n",
       "      <th></th>\n",
       "      <th>cdindex</th>\n",
       "      <th>num_subjects</th>\n",
       "      <th>num_authors</th>\n",
       "      <th>num_references</th>\n",
       "      <th>mean_references_age</th>\n",
       "      <th>ref_year_std</th>\n",
       "    </tr>\n",
       "  </thead>\n",
       "  <tbody>\n",
       "    <tr>\n",
       "      <th>count</th>\n",
       "      <td>46164.000000</td>\n",
       "      <td>46164.000000</td>\n",
       "      <td>46164.000000</td>\n",
       "      <td>46164.000000</td>\n",
       "      <td>46164.000000</td>\n",
       "      <td>46164.000000</td>\n",
       "    </tr>\n",
       "    <tr>\n",
       "      <th>mean</th>\n",
       "      <td>0.299760</td>\n",
       "      <td>2.325664</td>\n",
       "      <td>3.594685</td>\n",
       "      <td>23.468839</td>\n",
       "      <td>11.827446</td>\n",
       "      <td>8.389787</td>\n",
       "    </tr>\n",
       "    <tr>\n",
       "      <th>std</th>\n",
       "      <td>0.461007</td>\n",
       "      <td>1.278080</td>\n",
       "      <td>2.379164</td>\n",
       "      <td>16.616962</td>\n",
       "      <td>5.593484</td>\n",
       "      <td>3.719458</td>\n",
       "    </tr>\n",
       "    <tr>\n",
       "      <th>min</th>\n",
       "      <td>-1.000000</td>\n",
       "      <td>1.000000</td>\n",
       "      <td>1.000000</td>\n",
       "      <td>0.000000</td>\n",
       "      <td>0.000000</td>\n",
       "      <td>0.000000</td>\n",
       "    </tr>\n",
       "    <tr>\n",
       "      <th>25%</th>\n",
       "      <td>-0.002168</td>\n",
       "      <td>1.000000</td>\n",
       "      <td>2.000000</td>\n",
       "      <td>12.000000</td>\n",
       "      <td>9.500000</td>\n",
       "      <td>7.366652</td>\n",
       "    </tr>\n",
       "    <tr>\n",
       "      <th>50%</th>\n",
       "      <td>0.000000</td>\n",
       "      <td>2.000000</td>\n",
       "      <td>3.000000</td>\n",
       "      <td>23.468839</td>\n",
       "      <td>11.827446</td>\n",
       "      <td>8.389787</td>\n",
       "    </tr>\n",
       "    <tr>\n",
       "      <th>75%</th>\n",
       "      <td>1.000000</td>\n",
       "      <td>3.000000</td>\n",
       "      <td>5.000000</td>\n",
       "      <td>27.000000</td>\n",
       "      <td>11.827446</td>\n",
       "      <td>8.389787</td>\n",
       "    </tr>\n",
       "    <tr>\n",
       "      <th>max</th>\n",
       "      <td>1.000000</td>\n",
       "      <td>11.000000</td>\n",
       "      <td>12.000000</td>\n",
       "      <td>107.000000</td>\n",
       "      <td>77.000000</td>\n",
       "      <td>46.669048</td>\n",
       "    </tr>\n",
       "  </tbody>\n",
       "</table>\n",
       "</div>"
      ],
      "text/plain": [
       "            cdindex  num_subjects   num_authors  num_references  \\\n",
       "count  46164.000000  46164.000000  46164.000000    46164.000000   \n",
       "mean       0.299760      2.325664      3.594685       23.468839   \n",
       "std        0.461007      1.278080      2.379164       16.616962   \n",
       "min       -1.000000      1.000000      1.000000        0.000000   \n",
       "25%       -0.002168      1.000000      2.000000       12.000000   \n",
       "50%        0.000000      2.000000      3.000000       23.468839   \n",
       "75%        1.000000      3.000000      5.000000       27.000000   \n",
       "max        1.000000     11.000000     12.000000      107.000000   \n",
       "\n",
       "       mean_references_age  ref_year_std  \n",
       "count         46164.000000  46164.000000  \n",
       "mean             11.827446      8.389787  \n",
       "std               5.593484      3.719458  \n",
       "min               0.000000      0.000000  \n",
       "25%               9.500000      7.366652  \n",
       "50%              11.827446      8.389787  \n",
       "75%              11.827446      8.389787  \n",
       "max              77.000000     46.669048  "
      ]
     },
     "execution_count": 36,
     "metadata": {},
     "output_type": "execute_result"
    }
   ],
   "source": [
    "fact_data = works.copy()\n",
    "fact_data.drop(columns=['doi', 'published_month', 'title', 'abstract', 'published_day', 'lang'], inplace=True)\n",
    "cdindex_work = pd.merge(works.loc[:,['doi','id']], cdindex, on='doi')\n",
    "fact_data = pd.merge(fact_data, cdindex_work.loc[:,['id', 'cdindex']], on='id')\n",
    "fact_data.set_index('id', inplace=True)\n",
    "\n",
    "# number of subjects\n",
    "fact_data = pd.merge(fact_data, work_num_subjects, left_index=True, right_index=True, how='left')\n",
    "# number of authors\n",
    "fact_data = pd.merge(fact_data, work_num_authors, left_index=True, right_index=True, how='left')\n",
    "# number of references\n",
    "fact_data = pd.merge(fact_data, work_num_references, left_index=True, right_index=True, how='left')\n",
    "# the mean age of the referenced papers\n",
    "fact_data = pd.merge(fact_data, works_ref_year, left_index=True, right_index=True, how='left')\n",
    "fact_data['mean_references_age'] = fact_data['published_year'] - fact_data['mean_age']\n",
    "fact_data.drop(columns='mean_age', inplace=True)\n",
    "# the age variance of the referenced papers\n",
    "fact_data = pd.merge(fact_data, works_ref_year_std, left_index=True, right_index=True, how='left')\n",
    "# replace the negative ages with nan\n",
    "fact_data['mean_references_age'] = fact_data['mean_references_age'].mask(fact_data['mean_references_age'] < 0, np.nan)\n",
    "\n",
    "# fill the nan values with the mean of each metric\n",
    "fact_data['num_subjects'] = fact_data['num_subjects'].fillna(fact_data['num_subjects'].mean())\n",
    "fact_data['num_authors'] = fact_data['num_authors'].fillna(fact_data['num_authors'].mean())\n",
    "fact_data['num_references'] = fact_data['num_references'].fillna(fact_data['num_references'].mean())\n",
    "fact_data['mean_references_age'] = fact_data['mean_references_age'].fillna(fact_data['mean_references_age'].mean())\n",
    "fact_data['ref_year_std'] = fact_data['ref_year_std'].fillna(fact_data['ref_year_std'].mean())\n",
    "\n",
    "fact_data.drop(columns='published_year', inplace=True)\n",
    "fact_data.describe()"
   ]
  },
  {
   "cell_type": "markdown",
   "id": "487431a1",
   "metadata": {},
   "source": [
    "The data imbalance persits\n",
    "- we expect that the model will not perform well when predicting `cdindex` values for which we have little training data"
   ]
  },
  {
   "cell_type": "code",
   "execution_count": 37,
   "id": "abb1b30b",
   "metadata": {},
   "outputs": [
    {
     "data": {
      "image/png": "[encoded data removed]",
      "text/plain": [
       "<Figure size 432x288 with 1 Axes>"
      ]
     },
     "metadata": {
      "needs_background": "light"
     },
     "output_type": "display_data"
    }
   ],
   "source": [
    "fact_data['cdindex'].hist()\n",
    "_ = plt.title(\"CD5 distribution\")"
   ]
  },
  {
   "cell_type": "markdown",
   "id": "8c2643a3",
   "metadata": {},
   "source": [
    "We then create a training and test dataset using the `train_test_split` from `sklearn`. We keep 30% of the data for testing purposes."
   ]
  },
  {
   "cell_type": "code",
   "execution_count": 38,
   "id": "afbb5ca9",
   "metadata": {},
   "outputs": [],
   "source": [
    "from sklearn.model_selection import train_test_split\n",
    "# split the features from the dependent variable\n",
    "cols_to_keep = fact_data.columns.difference(['cdindex'])\n",
    "X = fact_data.loc[:,cols_to_keep]\n",
    "y = fact_data['cdindex']\n",
    "# create a train and testing dataset\n",
    "X_train, X_test, y_train, y_test = train_test_split(X, y, random_state=42, test_size=0.3)"
   ]
  },
  {
   "cell_type": "markdown",
   "id": "fa804e56",
   "metadata": {},
   "source": [
    "We will use the xgb regressor from the `xgb` library.\n",
    "- xgb works well on skewed datasets\n",
    "- can identify non-linear relationships\n",
    "- our evaluation metrics will be the `mean_absolute_error`, `mean_squared_error` and the $R^2$ score on the test data"
   ]
  },
  {
   "cell_type": "code",
   "execution_count": 39,
   "id": "5752ddd7",
   "metadata": {},
   "outputs": [],
   "source": [
    "import xgboost as xgb\n",
    "from sklearn.metrics import mean_absolute_error\n",
    "from sklearn.metrics import mean_squared_error\n",
    "from sklearn.metrics import r2_score\n",
    "from sklearn.model_selection import GridSearchCV"
   ]
  },
  {
   "cell_type": "markdown",
   "id": "3fb7c83b",
   "metadata": {},
   "source": [
    "- we train the model with the optimal `max_depth`, `n_estimators` and `learning_rate` parameters on our datatset to also avoid overfitting\n",
    "- we check for overfitting by comparing the $R^2$ score on the training and test dataset\n",
    "\n",
    "\n",
    "Parameters Used:\n",
    "- `max_depth` : This parameter specifies the maximum depth of each tree in the XGBoost model. Increasing the value of max_depth makes the model more complex and allows it to learn more intricate relationships between the features and the target variable. However, setting this parameter too high can lead to overfitting.\n",
    "- `n_estimators` : This parameter specifies the number of trees in the XGBoost model. Increasing the value of n_estimators can improve the model's accuracy, but at the cost of increased computational time and memory usage.\n",
    "- `learning_rate` : This parameter controls the step size used during the gradient descent process in the XGBoost model. A smaller learning rate makes the model converge more slowly but can lead to better generalization performance. A larger learning rate allows the model to converge more quickly, but can lead to overfitting.\n",
    "\n",
    "The optimal parameter combination was identified through the `sklearn.model_selection.GridSearchCV` which enables the exhaustive search over specified parameter values for an estimator. "
   ]
  },
  {
   "cell_type": "code",
   "execution_count": 40,
   "id": "a6d63f31",
   "metadata": {},
   "outputs": [
    {
     "data": {
      "text/plain": [
       "XGBRegressor(base_score=0.5, booster='gbtree', callbacks=None,\n",
       "             colsample_bylevel=1, colsample_bynode=1, colsample_bytree=1,\n",
       "             early_stopping_rounds=None, enable_categorical=False,\n",
       "             eval_metric=None, feature_types=None, gamma=0, gpu_id=-1,\n",
       "             grow_policy='depthwise', importance_type=None,\n",
       "             interaction_constraints='', learning_rate=0.1, max_bin=256,\n",
       "             max_cat_threshold=64, max_cat_to_onehot=4, max_delta_step=0,\n",
       "             max_depth=4, max_leaves=0, min_child_weight=1, missing=nan,\n",
       "             monotone_constraints='()', n_estimators=200, n_jobs=0,\n",
       "             num_parallel_tree=1, predictor='auto', random_state=0, ...)"
      ]
     },
     "execution_count": 40,
     "metadata": {},
     "output_type": "execute_result"
    }
   ],
   "source": [
    "xgb_reg = xgb.XGBRegressor(max_depth=4, n_estimators=200, learning_rate=0.1)\n",
    "xgb_reg.fit(X_train, y_train)"
   ]
  },
  {
   "cell_type": "markdown",
   "id": "8ef8e42a",
   "metadata": {},
   "source": [
    "- at first glance, our model performs exceptionaly well \n",
    "- `mean_absolute_error` and `mean_squared_error` are very low (0.02 and 0.01 respectively)\n",
    "- $R^2$ score is very high (96%) meaning that our variables explain the 96% of the variance of the dependent `cdindex`"
   ]
  },
  {
   "cell_type": "code",
   "execution_count": 41,
   "id": "8b846ea5",
   "metadata": {},
   "outputs": [
    {
     "name": "stdout",
     "output_type": "stream",
     "text": [
      "MAE: 0.02\n",
      "MSE: 0.01\n",
      "R2 Score (Training): 0.97\n",
      "R2 Score (Test): 0.96\n"
     ]
    }
   ],
   "source": [
    "# get the predictions on the testing dataset\n",
    "preds = xgb_reg.predict(X_test)\n",
    "\n",
    "# calculate the evaluation metrics\n",
    "mae = mean_absolute_error(y_test, preds)\n",
    "mse = mean_squared_error(y_test, preds)\n",
    "r2 = r2_score(y_test, preds)\n",
    "\n",
    "# print the results\n",
    "print(f\"MAE: {mae:.2f}\")\n",
    "print(f\"MSE: {mse:.2f}\")\n",
    "print(f\"R2 Score (Training): {xgb_reg.score(X_train, y_train):.2f}\")\n",
    "print(f\"R2 Score (Test): {r2:.2f}\")"
   ]
  },
  {
   "cell_type": "markdown",
   "id": "e233e48c",
   "metadata": {},
   "source": [
    "But if we plot the predicted values in comparisson to the actual ones the results do not seem that promising. We expect the dots to gather around the diagonal red line but the reality is different.\n",
    "- the model performs well for `cdindex` values around 0 and 1\n",
    "    - those were the values for which we had a lot of training data\n",
    "- for all the other `cdindex` values, the model predicts 0 which is wrong\n",
    "- what causes this problem is our sample! The model has little or no sample to train on those `cdindex` values so it is expected that it also fails to predict them"
   ]
  },
  {
   "cell_type": "code",
   "execution_count": 42,
   "id": "8159873b",
   "metadata": {},
   "outputs": [
    {
     "data": {
      "image/png": "[encoded data removed]",
      "text/plain": [
       "<Figure size 360x360 with 1 Axes>"
      ]
     },
     "metadata": {
      "needs_background": "light"
     },
     "output_type": "display_data"
    }
   ],
   "source": [
    "fig, ax = plt.subplots(figsize=(5, 5))\n",
    "plt.scatter(y_test, preds, alpha=0.3)\n",
    "ax.plot([0, 1], [0, 1], transform=ax.transAxes, ls=\"--\", c=\"red\")\n",
    "plt.title(\"XGB Regressor\")\n",
    "plt.ylabel(\"Model predictions\")\n",
    "plt.xlabel(\"Truths\")\n",
    "plt.xlim([-1.1, 1.1])\n",
    "_ = plt.ylim([-1.1, 1.1])"
   ]
  },
  {
   "cell_type": "markdown",
   "id": "0384bff8",
   "metadata": {},
   "source": [
    "**Fact:** Although the Truth vs Predictions plot is not that good, the $R^2$ metric is exceptionally high. This happens because of the fact that the values that the model fails to predict account for a very small percentage of the total sample and thus do not affect the `mean_absolute_error` and `mean_squared_error` metrics."
   ]
  },
  {
   "cell_type": "markdown",
   "id": "f7f4f92b",
   "metadata": {},
   "source": [
    "Below we can also see the feature importances with the number of references being the most influential factor."
   ]
  },
  {
   "cell_type": "code",
   "execution_count": 43,
   "id": "f97846c8",
   "metadata": {
    "scrolled": false
   },
   "outputs": [
    {
     "data": {
      "image/png": "[encoded data removed]",
      "text/plain": [
       "<Figure size 576x288 with 1 Axes>"
      ]
     },
     "metadata": {
      "needs_background": "light"
     },
     "output_type": "display_data"
    }
   ],
   "source": [
    "fig = plt.figure(figsize=(8, 4))\n",
    "_ = xgb.plot_importance(xgb_reg, ax = fig.gca())"
   ]
  },
  {
   "cell_type": "markdown",
   "id": "e614f377",
   "metadata": {},
   "source": [
    "### Feature Extraction "
   ]
  },
  {
   "cell_type": "markdown",
   "id": "b15b2973",
   "metadata": {},
   "source": [
    "We continue by leveraging the title and the abstract of each paper using nlp techniques to extract features which further explain the variation of the `cdindex`. We will also exploit the author affiliations and the subject titles."
   ]
  },
  {
   "cell_type": "markdown",
   "id": "229d11dc",
   "metadata": {},
   "source": [
    "**1. Differentiation in Subjects**\n",
    "\n",
    "\n",
    "- As noted above, one work usually references more than one subjects.\n",
    "- The subjects represent the topic of the paper.\n",
    "- Our target with this metric is to find how different subjects that a paper references are.\n",
    "- We do that by comparing their titles and more specifically their vocabulary.\n",
    "- A high value in this metric indicates that the subjects referenced have high differentiation.\n",
    "- A low value in this metric indicates that the subjects referenced are similar to each other.\n",
    "\n",
    "Example: Lets say that a paper references the subjects sub1:\"Computer Science\" and sub2:\"Computer Vision\". Those subjects are quite similar. The metric will identify that they have a word in common (\"Computer\") and thus return a low value .\n",
    "On the other hand, if a paper references the subjects sub1:\"Nature\" and sub2:\"Neural Networks\" the metric, accounting for the number of different words between them will return a high value."
   ]
  },
  {
   "cell_type": "code",
   "execution_count": 44,
   "id": "07518080",
   "metadata": {},
   "outputs": [],
   "source": [
    "# read the subjects table\n",
    "subjects = pd.read_sql_query(\"SELECT * FROM work_subjects;\", conn)\n",
    "subjects = pd.merge(subjects, cdindex_work, left_on='work_id', right_on='id')"
   ]
  },
  {
   "cell_type": "markdown",
   "id": "cdd49663",
   "metadata": {},
   "source": [
    "we merge all the subject names for each paper to a single string to perform the word counts"
   ]
  },
  {
   "cell_type": "code",
   "execution_count": 45,
   "id": "56433522",
   "metadata": {},
   "outputs": [],
   "source": [
    "merged_subjects = subjects.groupby(by='work_id')['name'].apply(' '.join).reset_index()\n",
    "merged_subjects = pd.merge(merged_subjects, cdindex_work, left_on='work_id', right_on='id')"
   ]
  },
  {
   "cell_type": "markdown",
   "id": "3f072164",
   "metadata": {},
   "source": [
    "In order to improve the accuracy of our calculations on the text, we will implement a preprocessing step. More specifically:\n",
    "- all words are converted to lowercase\n",
    "- each sentence is being split to words and saved in a list \n",
    "- all the numerical characters are removed\n",
    "- all the words that are less than three characters long are being removed\n",
    "- words are stemmed and lemmatized \n",
    "\n",
    "\n",
    "*Stemming and lemmatization are both techniques used in natural language processing (NLP) to normalize words and reduce their inflected forms to their base or dictionary form (ex running --> run).* We use the `nltk` library and the functions `WordNetLemmatizer()` and the `PorterStemmer()` to perform this task."
   ]
  },
  {
   "cell_type": "code",
   "execution_count": 46,
   "id": "22811c30",
   "metadata": {},
   "outputs": [],
   "source": [
    "from nltk.tokenize import word_tokenize\n",
    "from nltk.stem import WordNetLemmatizer\n",
    "from nltk.stem import PorterStemmer\n",
    "\n",
    "lemmatizer = WordNetLemmatizer()\n",
    "stemmer = PorterStemmer()\n",
    "\n",
    "# Define a function to tokenize the words in a sentence\n",
    "def tokenize_words(sentence):\n",
    "    # tokenize each word\n",
    "    tokens = word_tokenize(sentence.lower())\n",
    "    # remove numeric characters \n",
    "    tokens = [token for token in tokens if not re.match(r'^-?\\d+\\.\\d+|-?\\d+$', token)]\n",
    "    # remove words with less than 3 characters\n",
    "    tokens = [token for token in tokens if len(token) >=3]\n",
    "    # lemmatize\n",
    "    lemmas = [lemmatizer.lemmatize(token, pos='n') for token in tokens]\n",
    "    # perform stemming\n",
    "    stemmed_words = [stemmer.stem(word) for word in lemmas]\n",
    "    return stemmed_words\n",
    "\n",
    "\n",
    "# Apply the tokenize_words function to the 'name' column of the dataframe\n",
    "merged_subjects['name'] = merged_subjects['name'].apply(tokenize_words)"
   ]
  },
  {
   "cell_type": "markdown",
   "id": "0d973b61",
   "metadata": {},
   "source": [
    "After the preprocessing step, we can add all the words in a dictionary and also create a corpus which we will then use to make the calculations needed."
   ]
  },
  {
   "cell_type": "code",
   "execution_count": 47,
   "id": "a722c85c",
   "metadata": {},
   "outputs": [],
   "source": [
    "from gensim.corpora import Dictionary\n",
    "# create the dictionary\n",
    "dictionary_subjects = Dictionary(merged_subjects['name'])\n",
    "# create the corpus\n",
    "corpus_subjects = [ dictionary_subjects.doc2bow(doc) for doc in merged_subjects['name']]"
   ]
  },
  {
   "cell_type": "markdown",
   "id": "479eb6ee",
   "metadata": {},
   "source": [
    "Then, we iterate over the corpus and calculate the `total_words` and the `unique_words` per papers subjects and finaly the `unique_ratio` as the division of those two."
   ]
  },
  {
   "cell_type": "code",
   "execution_count": 48,
   "id": "07182823",
   "metadata": {},
   "outputs": [],
   "source": [
    "# unique to total words ratio \n",
    "word_counts = []\n",
    "\n",
    "# Loop through each document in the corpus\n",
    "for doc in corpus_subjects:\n",
    "    # Compute the total word count for the document by summing the word counts\n",
    "    total_words = sum(count for _, count in doc)\n",
    "    unique_words = len(doc)\n",
    "    # Compute the ratio of unique words to total words\n",
    "    unique_ratio = unique_words / total_words\n",
    "    # Append the total word count for the document to the word_counts list\n",
    "    word_counts.append(unique_ratio)\n",
    "word_counts = pd.Series(word_counts,name='subject_word_variation')"
   ]
  },
  {
   "cell_type": "markdown",
   "id": "40956a51",
   "metadata": {},
   "source": [
    "The results are then saved in a dataframe which has the `id` (work_id) as index."
   ]
  },
  {
   "cell_type": "code",
   "execution_count": 49,
   "id": "1258e832",
   "metadata": {},
   "outputs": [],
   "source": [
    "num_subjects = subjects.groupby(by='work_id').size().to_frame('num_subjects').reset_index()\n",
    "\n",
    "p = pd.concat([merged_subjects, word_counts], axis=1)\n",
    "p.set_index('work_id', inplace=True)\n",
    "p = p['subject_word_variation']"
   ]
  },
  {
   "cell_type": "markdown",
   "id": "2124cf2d",
   "metadata": {},
   "source": [
    "But there is a problem with the current implementation of the metric. \n",
    "\n",
    "- Imagine that a paper references a single subject only\n",
    "- The metric will most likely return 100% as the probability of the words in the title of the single subject to be different is high.\n",
    "- This way, the differentiation we want is not captured in a correct way \n",
    "- Taking into account the realization above, we will proceed to alleviating this effect by multiplying the metric we calculated with the  value `number of subjects of the paper` / `max number of subjects`\n",
    "\n",
    "Thus, a paper with a single subject and inital metric 100%, after the modification would get a value of 100% * 1/12 = 0.08 indicating a low differentiation (supposing that the max number of subjects is 12). "
   ]
  },
  {
   "cell_type": "code",
   "execution_count": 50,
   "id": "ba9e5008",
   "metadata": {},
   "outputs": [],
   "source": [
    "# merge the metric calculated for each paper with the number of subjects the paper references\n",
    "v = pd.merge(p, num_subjects, left_index=True, right_on='work_id')\n",
    "# calculate the new metric\n",
    "v ['subjects_differentiation'] = v['subject_word_variation'] * (v['num_subjects'] / v['num_subjects'].max())\n",
    "v.set_index('work_id', inplace=True)"
   ]
  },
  {
   "cell_type": "markdown",
   "id": "5da095f6",
   "metadata": {},
   "source": [
    "- for most papers, the subject differentiation is low meaning that they mostly reference similar subjects"
   ]
  },
  {
   "cell_type": "code",
   "execution_count": 51,
   "id": "8c8d3845",
   "metadata": {},
   "outputs": [
    {
     "data": {
      "image/png": "[encoded data removed]",
      "text/plain": [
       "<Figure size 432x288 with 1 Axes>"
      ]
     },
     "metadata": {
      "needs_background": "light"
     },
     "output_type": "display_data"
    }
   ],
   "source": [
    "v['subjects_differentiation'].hist()\n",
    "_ = plt.title(\"Subjects Differentiation\")"
   ]
  },
  {
   "cell_type": "markdown",
   "id": "0b9da21d",
   "metadata": {},
   "source": [
    "**2. Number of subjects introduced**\n",
    "\n",
    "This metric aims to count how many of the subjects a paper references have not been referenced before, meaning that the publication introduces a new subject category. For example, the paper that introduced the subject \"Quantum computing\" was firstly introduced by a publication in 1980 and before that the term did not exist as a category. <br>\n",
    "\n",
    "We expect that a paper which introduces subjects has a higher probability of being disruptive than a paper which uses pre-existing subjects. <br>\n",
    "\n",
    "This metric however would perform better when calculated on the whole publications graph. When used in a small proportion of the whole dataset, the metric identifies papers which have introduced many subjects but we cannot be sure that those subjects have not been introduced by another publication which is not included in our sample."
   ]
  },
  {
   "cell_type": "markdown",
   "id": "b2fe7e7a",
   "metadata": {},
   "source": [
    "Firstly, we set the year that each subject was introduced as the mininum publication year of the papers that reference it"
   ]
  },
  {
   "cell_type": "code",
   "execution_count": 52,
   "id": "f298f02e",
   "metadata": {},
   "outputs": [],
   "source": [
    "subjects_year = pd.merge(works, subjects, left_on='id', right_on='id')\n",
    "year_introduction = subjects_year.groupby(by='name')['published_year'].min().to_frame(\"year_introduction\")"
   ]
  },
  {
   "cell_type": "markdown",
   "id": "c5c03057",
   "metadata": {},
   "source": [
    "We assume that a paper introduces a subject when the introduction year of the subject we calculated above is equal to the publication year of the paper. <br>\n",
    "\n",
    "To more accurately define this metric we could use a more precise comparison technique by exploiting the month and day other than the year, but due to missing values in our dataset, this was not possible."
   ]
  },
  {
   "cell_type": "code",
   "execution_count": 53,
   "id": "fa0f0a6b",
   "metadata": {},
   "outputs": [],
   "source": [
    "subjects_year = pd.merge(subjects_year, year_introduction, right_index=True, left_on='name')\n",
    "subjects_year['same_Year'] = subjects_year.apply(lambda row: 1 if row['published_year'] == row['year_introduction'] else 0, axis=1)"
   ]
  },
  {
   "cell_type": "code",
   "execution_count": 54,
   "id": "cdfc9ea5",
   "metadata": {},
   "outputs": [],
   "source": [
    "# calculate the total number of subjects introduced per paper\n",
    "subjects_introduced = subjects_year.groupby('id')['same_Year'].sum().to_frame(\"subjects_introduced\")\n",
    "num_subjects.set_index('work_id', inplace=True)\n",
    "subjects_introduced = pd.merge(subjects_introduced, num_subjects['num_subjects'], left_index=True, right_index=True)\n",
    "# weigh the above metric with the total number of subjects a paper references\n",
    "subjects_introduced['subjects_introduced'] = subjects_introduced['subjects_introduced'] / subjects_introduced['num_subjects']"
   ]
  },
  {
   "cell_type": "markdown",
   "id": "1d1a4886",
   "metadata": {},
   "source": [
    "- Notice that most papers do not seem to introduce any new subject (0% of their subjects are newly intoduced)\n",
    "- Only a small proportion of the works has a 100% new subjects."
   ]
  },
  {
   "cell_type": "code",
   "execution_count": 55,
   "id": "a59e3955",
   "metadata": {},
   "outputs": [
    {
     "data": {
      "image/png": "[encoded data removed]",
      "text/plain": [
       "<Figure size 432x288 with 1 Axes>"
      ]
     },
     "metadata": {
      "needs_background": "light"
     },
     "output_type": "display_data"
    }
   ],
   "source": [
    "subjects_introduced['subjects_introduced'].hist()\n",
    "_ = plt.title(\"Subjects Introduced / Total Subjects\")"
   ]
  },
  {
   "cell_type": "markdown",
   "id": "024e3ce4",
   "metadata": {},
   "source": [
    "**3. Age of the subjects combination**\n",
    "\n",
    "This metric finds for each paper the age of the subjects combination it references. <br>\n",
    "\n",
    "- a low value in this metric indicates that the combination is new\n",
    "- whereas a high value indicates that the combination is relatively aged\n",
    "\n",
    "Example: A paper published in 2010 references the subjects \"Neural Networks\", \"Computing\" and \"Data Analytics\". Lets say that the first paper including the exact same combination of subjects was published in 2006. The metric will return 2010-2006 = 4 years.\n",
    "\n",
    "**Note:** As we explained above about the metric \"Number of subjects introduced\", for the exact same reasons this metric would also be more accurate when implemented on the whole publications graph."
   ]
  },
  {
   "cell_type": "markdown",
   "id": "92e50a89",
   "metadata": {},
   "source": [
    "Firstly, we group by the work_id to get the subjects per paper and then we create a sorted tuple out of them."
   ]
  },
  {
   "cell_type": "code",
   "execution_count": 56,
   "id": "75c59ed6",
   "metadata": {},
   "outputs": [],
   "source": [
    "subject_tuples = subjects_year.loc[:,['id', 'name', 'published_year']]\n",
    "# create a sorted tuple to make sure that all the permutations of the same combination are captured\n",
    "subject_tuples = subject_tuples.groupby(by='id')['name'].apply(lambda x: tuple(sorted(x))).to_frame(\"combination\").reset_index()\n",
    "subject_tuples = pd.merge(subject_tuples, works.loc[:,['id', 'published_year']], on='id')"
   ]
  },
  {
   "cell_type": "markdown",
   "id": "8d4c3511",
   "metadata": {},
   "source": [
    "Then, we identify the year that the combination first appears in a publication."
   ]
  },
  {
   "cell_type": "code",
   "execution_count": 57,
   "id": "4b80dd14",
   "metadata": {},
   "outputs": [],
   "source": [
    "year_comb_introduced = subject_tuples.groupby(by='combination')['published_year'].min().to_frame(\"year_comb_introduced\").reset_index()"
   ]
  },
  {
   "cell_type": "markdown",
   "id": "bfe9c0df",
   "metadata": {},
   "source": [
    "Finally, for each paper, we subtract the year that the combination was introduced from the publication year of the paper."
   ]
  },
  {
   "cell_type": "code",
   "execution_count": 58,
   "id": "604d33de",
   "metadata": {},
   "outputs": [],
   "source": [
    "subject_tuples = pd.merge(subject_tuples, year_comb_introduced, on='combination')\n",
    "subject_tuples['age_of_subject_comb'] = subject_tuples['published_year'] - subject_tuples['year_comb_introduced']\n",
    "age_of_comb = subject_tuples.loc[:,['id', 'age_of_subject_comb']]\n",
    "age_of_comb.set_index('id', inplace=True)"
   ]
  },
  {
   "cell_type": "markdown",
   "id": "f288e314",
   "metadata": {},
   "source": [
    "- Most papers reference subject combinations which are new"
   ]
  },
  {
   "cell_type": "code",
   "execution_count": 59,
   "id": "38960e1c",
   "metadata": {},
   "outputs": [
    {
     "data": {
      "image/png": "[encoded data removed]",
      "text/plain": [
       "<Figure size 432x288 with 1 Axes>"
      ]
     },
     "metadata": {
      "needs_background": "light"
     },
     "output_type": "display_data"
    }
   ],
   "source": [
    "age_of_comb.hist()\n",
    "_ = plt.title(\"Age of subjects combination\")"
   ]
  },
  {
   "cell_type": "markdown",
   "id": "01ea3520",
   "metadata": {},
   "source": [
    "**4. Number of previous similar publications**\n",
    "\n",
    "This metric counts how many publications existed with the same subject combination before the works publication (year). In a more precise implementation of the metric, we could calcuate the number of publications before the exact publication date of the paper (year-month-day) but unfortunately our dataset had many missing values on those attributes.\n",
    "- if the metric is high, it indicates that there have been lots of papers with those subject combination\n",
    "- whereas if the metric is low, the discussion around the subjects was limited before the works publication"
   ]
  },
  {
   "cell_type": "markdown",
   "id": "a81f667b",
   "metadata": {},
   "source": [
    "At first, we count the number of publications per combination and year."
   ]
  },
  {
   "cell_type": "code",
   "execution_count": 60,
   "id": "8462c96c",
   "metadata": {},
   "outputs": [],
   "source": [
    "papers_before = subject_tuples.groupby(['combination', 'published_year']).size().to_frame(\"num_papers\").reset_index()"
   ]
  },
  {
   "cell_type": "markdown",
   "id": "030bb245",
   "metadata": {},
   "source": [
    "Then, for each combination, we calculate the number of papers \"up to this\" year as the rolling sum of the years before."
   ]
  },
  {
   "cell_type": "code",
   "execution_count": 61,
   "id": "ebbae122",
   "metadata": {},
   "outputs": [],
   "source": [
    "papers_before['papers_before'] = papers_before.groupby(['combination'])['num_papers'] \\\n",
    "    .transform(lambda x: x.shift().rolling(len(x), 1).sum())"
   ]
  },
  {
   "cell_type": "markdown",
   "id": "da99b409",
   "metadata": {},
   "source": [
    "Finally, we merge the above results with the works."
   ]
  },
  {
   "cell_type": "code",
   "execution_count": 62,
   "id": "c0e19858",
   "metadata": {},
   "outputs": [],
   "source": [
    "papers_before =  pd.merge(subject_tuples.loc[:,['id', 'combination','published_year']], \\\n",
    "                          papers_before, on=['combination', 'published_year'])\n",
    "papers_before.fillna(0, inplace=True)"
   ]
  },
  {
   "cell_type": "code",
   "execution_count": 63,
   "id": "86956f50",
   "metadata": {},
   "outputs": [],
   "source": [
    "papers_before.drop(columns=['combination', 'published_year', 'num_papers'], inplace=True)\n",
    "papers_before.set_index('id', inplace=True)"
   ]
  },
  {
   "cell_type": "markdown",
   "id": "40083d3c",
   "metadata": {},
   "source": [
    "- The interesting fact here is that most of the papers reference subject combinations for which there are no other previous publications\n",
    "\n",
    "**Note:** As with other metrics, this calculation would be more precise when used on the whole dataset."
   ]
  },
  {
   "cell_type": "code",
   "execution_count": 64,
   "id": "b6369913",
   "metadata": {},
   "outputs": [
    {
     "data": {
      "image/png": "[encoded data removed]",
      "text/plain": [
       "<Figure size 432x288 with 1 Axes>"
      ]
     },
     "metadata": {
      "needs_background": "light"
     },
     "output_type": "display_data"
    }
   ],
   "source": [
    "papers_before.hist(bins=70)\n",
    "_ = plt.title(\"Number of previous publications of the subject combination\")"
   ]
  },
  {
   "cell_type": "markdown",
   "id": "1b2d4702",
   "metadata": {},
   "source": [
    "**5. Number of words per title and abstract**\n",
    "\n",
    "As a first implementation of the NLP techniques on the titles and abstracts we calculate their size in words. "
   ]
  },
  {
   "cell_type": "code",
   "execution_count": 65,
   "id": "32069471",
   "metadata": {},
   "outputs": [],
   "source": [
    "text = works.loc[:,['doi','id','abstract', 'title']]"
   ]
  },
  {
   "cell_type": "code",
   "execution_count": 66,
   "id": "a5783e3d",
   "metadata": {},
   "outputs": [],
   "source": [
    "text = pd.merge(text, cdindex, on='doi')\n",
    "text.reset_index(drop=True, inplace=True)"
   ]
  },
  {
   "cell_type": "markdown",
   "id": "0fdcf73d",
   "metadata": {},
   "source": [
    "again, we will use a similar approach when preprocessing and tokenizing the words (both for abstracts and titles) as we did with subjects"
   ]
  },
  {
   "cell_type": "code",
   "execution_count": 67,
   "id": "985d5555",
   "metadata": {},
   "outputs": [],
   "source": [
    "from nltk.tokenize import word_tokenize\n",
    "from nltk.stem import WordNetLemmatizer\n",
    "from nltk.stem import PorterStemmer\n",
    "\n",
    "\n",
    "\n",
    "lemmatizer = WordNetLemmatizer()\n",
    "stemmer = PorterStemmer()\n",
    "\n",
    "# Define a function to tokenize the words in a sentence\n",
    "def tokenize_words(sentence):\n",
    "    # tokenize the words\n",
    "    tokens = word_tokenize(sentence.lower())\n",
    "    # remove numeric values\n",
    "    tokens = [token for token in tokens if not re.match(r'^-?\\d+\\.\\d+|-?\\d+$', token)]\n",
    "    # keep words with more than 3 characters\n",
    "    tokens = [token for token in tokens if len(token) >=3]\n",
    "    # lemmatize \n",
    "    lemmas = [lemmatizer.lemmatize(token, pos='v') for token in tokens]\n",
    "    # tokenize \n",
    "    stemmed_words = [stemmer.stem(word) for word in lemmas]\n",
    "    return stemmed_words\n",
    "\n",
    "\n",
    "# Apply the tokenize_words function to the 'abstract' and 'title' column of the dataframe\n",
    "text['abstract'] = text['abstract'].apply(tokenize_words)\n",
    "text['title'] = text['title'].apply(tokenize_words)"
   ]
  },
  {
   "cell_type": "markdown",
   "id": "8e4f8091",
   "metadata": {},
   "source": [
    "this time, we also filter out words that appear in less than 10% or more than 50% of the documents."
   ]
  },
  {
   "cell_type": "code",
   "execution_count": 68,
   "id": "940fae84",
   "metadata": {},
   "outputs": [],
   "source": [
    "# Remove rare and common tokens.\n",
    "from gensim.corpora import Dictionary\n",
    "\n",
    "# Create a dictionary representation of the documents.\n",
    "dictionary_abstracts = Dictionary(text['abstract'])\n",
    "dictionary_titles = Dictionary(text['title'])\n",
    "# filter out some outliers\n",
    "dictionary_abstracts.filter_extremes(no_below=0.1, no_above=0.5)\n",
    "dictionary_titles.filter_extremes(no_below=0.1, no_above=0.5)"
   ]
  },
  {
   "cell_type": "code",
   "execution_count": 69,
   "id": "713c6d27",
   "metadata": {},
   "outputs": [],
   "source": [
    "# create a corpus for both the abstracts and titles\n",
    "corpus_abstracts = [ dictionary_abstracts.doc2bow(doc) for doc in text['abstract']]\n",
    "corpus_titles = [ dictionary_abstracts.doc2bow(doc) for doc in text['title']]"
   ]
  },
  {
   "cell_type": "markdown",
   "id": "7c2fdcc4",
   "metadata": {},
   "source": [
    "Then, we can count the words for each abstract and title"
   ]
  },
  {
   "cell_type": "code",
   "execution_count": 70,
   "id": "fca3a29f",
   "metadata": {},
   "outputs": [],
   "source": [
    "# Word count for abstracts\n",
    "word_counts = []\n",
    "\n",
    "# Loop through each document in the corpus\n",
    "for doc in corpus_abstracts:\n",
    "    # Compute the total word count for the document by summing the word counts\n",
    "    total_words = sum(count for _, count in doc)\n",
    "    # Append the total word count for the document to the word_counts list\n",
    "    word_counts.append(total_words)\n",
    "word_counts = pd.Series(word_counts,name='word_count_abstract')\n",
    "text = pd.concat([text, word_counts], axis=1)"
   ]
  },
  {
   "cell_type": "code",
   "execution_count": 71,
   "id": "995995ed",
   "metadata": {},
   "outputs": [],
   "source": [
    "# word count for titles\n",
    "word_counts = []\n",
    "\n",
    "# Loop through each document in the corpus\n",
    "for doc in corpus_titles:\n",
    "    # Compute the total word count for the document by summing the word counts\n",
    "    total_words = sum(count for _, count in doc)\n",
    "    # Append the total word count for the document to the word_counts list\n",
    "    word_counts.append(total_words)\n",
    "word_counts = pd.Series(word_counts,name='word_count_titles')\n",
    "text = pd.concat([text, word_counts], axis=1)"
   ]
  },
  {
   "cell_type": "markdown",
   "id": "90588f76",
   "metadata": {},
   "source": [
    "- notice that there are papers with titles and abstracts with no words left inside\n",
    "- we will drop them"
   ]
  },
  {
   "cell_type": "code",
   "execution_count": 72,
   "id": "e3fc4210",
   "metadata": {},
   "outputs": [
    {
     "data": {
      "text/plain": [
       "(0, 0)"
      ]
     },
     "execution_count": 72,
     "metadata": {},
     "output_type": "execute_result"
    }
   ],
   "source": [
    "text['word_count_abstract'].min(), text['word_count_titles'].min()"
   ]
  },
  {
   "cell_type": "code",
   "execution_count": 73,
   "id": "bfa360ce",
   "metadata": {},
   "outputs": [],
   "source": [
    "# remove papers with no characters in the abstract and title \n",
    "text = text[(text['word_count_abstract'] != 0) & ((text['word_count_titles'] != 0))]\n",
    "text.reset_index(drop=True, inplace=True)\n",
    "# create the new corpuses\n",
    "corpus_abstracts = [ dictionary_abstracts.doc2bow(doc) for doc in text['abstract']]\n",
    "corpus_titles = [ dictionary_abstracts.doc2bow(doc) for doc in text['title']]"
   ]
  },
  {
   "cell_type": "code",
   "execution_count": 74,
   "id": "28657f52",
   "metadata": {
    "scrolled": false
   },
   "outputs": [
    {
     "data": {
      "text/html": [
       "<div>\n",
       "<style scoped>\n",
       "    .dataframe tbody tr th:only-of-type {\n",
       "        vertical-align: middle;\n",
       "    }\n",
       "\n",
       "    .dataframe tbody tr th {\n",
       "        vertical-align: top;\n",
       "    }\n",
       "\n",
       "    .dataframe thead th {\n",
       "        text-align: right;\n",
       "    }\n",
       "</style>\n",
       "<table border=\"1\" class=\"dataframe\">\n",
       "  <thead>\n",
       "    <tr style=\"text-align: right;\">\n",
       "      <th></th>\n",
       "      <th>doi</th>\n",
       "      <th>id</th>\n",
       "      <th>abstract</th>\n",
       "      <th>title</th>\n",
       "      <th>cdindex</th>\n",
       "      <th>word_count_abstract</th>\n",
       "      <th>word_count_titles</th>\n",
       "    </tr>\n",
       "  </thead>\n",
       "  <tbody>\n",
       "    <tr>\n",
       "      <th>27475</th>\n",
       "      <td>10.5194/acp-2016-281</td>\n",
       "      <td>2394582</td>\n",
       "      <td>[abstract, estim, the, amount, methan, ch4, em...</td>\n",
       "      <td>[methan, emiss, from, dairi, the, lo, angel, b...</td>\n",
       "      <td>1.000000</td>\n",
       "      <td>145</td>\n",
       "      <td>7</td>\n",
       "    </tr>\n",
       "    <tr>\n",
       "      <th>37601</th>\n",
       "      <td>10.1115/1.2896124</td>\n",
       "      <td>3425065</td>\n",
       "      <td>[the, invers, dynam, robot, manipul, base, fle...</td>\n",
       "      <td>[invers, dynam, flexibl, robot, arm, model, an...</td>\n",
       "      <td>1.000000</td>\n",
       "      <td>68</td>\n",
       "      <td>9</td>\n",
       "    </tr>\n",
       "    <tr>\n",
       "      <th>27534</th>\n",
       "      <td>10.1177/1087054716646449</td>\n",
       "      <td>2395934</td>\n",
       "      <td>[object, thi, studi, investig, the, relationsh...</td>\n",
       "      <td>[the, relationship, between, parent, affect, t...</td>\n",
       "      <td>-0.000033</td>\n",
       "      <td>103</td>\n",
       "      <td>12</td>\n",
       "    </tr>\n",
       "    <tr>\n",
       "      <th>22625</th>\n",
       "      <td>10.1177/088740349200600105</td>\n",
       "      <td>1820299</td>\n",
       "      <td>[the, variou, method, select, state, trial, co...</td>\n",
       "      <td>[account, independ, myth, judici, select]</td>\n",
       "      <td>0.000000</td>\n",
       "      <td>54</td>\n",
       "      <td>5</td>\n",
       "    </tr>\n",
       "    <tr>\n",
       "      <th>10989</th>\n",
       "      <td>10.3141/1898-04</td>\n",
       "      <td>755200</td>\n",
       "      <td>[agent-bas, travel, demand, model, develop, wh...</td>\n",
       "      <td>[agent-bas, approach, travel, demand, model, e...</td>\n",
       "      <td>0.000000</td>\n",
       "      <td>129</td>\n",
       "      <td>7</td>\n",
       "    </tr>\n",
       "  </tbody>\n",
       "</table>\n",
       "</div>"
      ],
      "text/plain": [
       "                              doi       id  \\\n",
       "27475        10.5194/acp-2016-281  2394582   \n",
       "37601           10.1115/1.2896124  3425065   \n",
       "27534    10.1177/1087054716646449  2395934   \n",
       "22625  10.1177/088740349200600105  1820299   \n",
       "10989             10.3141/1898-04   755200   \n",
       "\n",
       "                                                abstract  \\\n",
       "27475  [abstract, estim, the, amount, methan, ch4, em...   \n",
       "37601  [the, invers, dynam, robot, manipul, base, fle...   \n",
       "27534  [object, thi, studi, investig, the, relationsh...   \n",
       "22625  [the, variou, method, select, state, trial, co...   \n",
       "10989  [agent-bas, travel, demand, model, develop, wh...   \n",
       "\n",
       "                                                   title   cdindex  \\\n",
       "27475  [methan, emiss, from, dairi, the, lo, angel, b...  1.000000   \n",
       "37601  [invers, dynam, flexibl, robot, arm, model, an...  1.000000   \n",
       "27534  [the, relationship, between, parent, affect, t... -0.000033   \n",
       "22625          [account, independ, myth, judici, select]  0.000000   \n",
       "10989  [agent-bas, approach, travel, demand, model, e...  0.000000   \n",
       "\n",
       "       word_count_abstract  word_count_titles  \n",
       "27475                  145                  7  \n",
       "37601                   68                  9  \n",
       "27534                  103                 12  \n",
       "22625                   54                  5  \n",
       "10989                  129                  7  "
      ]
     },
     "execution_count": 74,
     "metadata": {},
     "output_type": "execute_result"
    }
   ],
   "source": [
    "text.sample(5)"
   ]
  },
  {
   "cell_type": "markdown",
   "id": "c5587e68",
   "metadata": {},
   "source": [
    "We can see the min, max and average size of the titles and abstracts below."
   ]
  },
  {
   "cell_type": "code",
   "execution_count": 75,
   "id": "31300ceb",
   "metadata": {},
   "outputs": [
    {
     "data": {
      "text/html": [
       "<div>\n",
       "<style scoped>\n",
       "    .dataframe tbody tr th:only-of-type {\n",
       "        vertical-align: middle;\n",
       "    }\n",
       "\n",
       "    .dataframe tbody tr th {\n",
       "        vertical-align: top;\n",
       "    }\n",
       "\n",
       "    .dataframe thead th {\n",
       "        text-align: right;\n",
       "    }\n",
       "</style>\n",
       "<table border=\"1\" class=\"dataframe\">\n",
       "  <thead>\n",
       "    <tr style=\"text-align: right;\">\n",
       "      <th></th>\n",
       "      <th>Word Count Abstract</th>\n",
       "      <th>Word Count Title</th>\n",
       "    </tr>\n",
       "  </thead>\n",
       "  <tbody>\n",
       "    <tr>\n",
       "      <th>count</th>\n",
       "      <td>46040.000000</td>\n",
       "      <td>46040.000000</td>\n",
       "    </tr>\n",
       "    <tr>\n",
       "      <th>mean</th>\n",
       "      <td>107.108666</td>\n",
       "      <td>8.272242</td>\n",
       "    </tr>\n",
       "    <tr>\n",
       "      <th>std</th>\n",
       "      <td>56.061818</td>\n",
       "      <td>3.486382</td>\n",
       "    </tr>\n",
       "    <tr>\n",
       "      <th>min</th>\n",
       "      <td>1.000000</td>\n",
       "      <td>1.000000</td>\n",
       "    </tr>\n",
       "    <tr>\n",
       "      <th>25%</th>\n",
       "      <td>68.000000</td>\n",
       "      <td>6.000000</td>\n",
       "    </tr>\n",
       "    <tr>\n",
       "      <th>50%</th>\n",
       "      <td>102.000000</td>\n",
       "      <td>8.000000</td>\n",
       "    </tr>\n",
       "    <tr>\n",
       "      <th>75%</th>\n",
       "      <td>141.000000</td>\n",
       "      <td>10.000000</td>\n",
       "    </tr>\n",
       "    <tr>\n",
       "      <th>max</th>\n",
       "      <td>1413.000000</td>\n",
       "      <td>72.000000</td>\n",
       "    </tr>\n",
       "  </tbody>\n",
       "</table>\n",
       "</div>"
      ],
      "text/plain": [
       "       Word Count Abstract  Word Count Title\n",
       "count         46040.000000      46040.000000\n",
       "mean            107.108666          8.272242\n",
       "std              56.061818          3.486382\n",
       "min               1.000000          1.000000\n",
       "25%              68.000000          6.000000\n",
       "50%             102.000000          8.000000\n",
       "75%             141.000000         10.000000\n",
       "max            1413.000000         72.000000"
      ]
     },
     "execution_count": 75,
     "metadata": {},
     "output_type": "execute_result"
    }
   ],
   "source": [
    "# describe both series\n",
    "desc1 = text['word_count_abstract'].describe()\n",
    "desc2 = text['word_count_titles'].describe()\n",
    "\n",
    "# concatenate into a single table\n",
    "result = pd.concat([desc1, desc2], axis=1)\n",
    "result.columns = ['Word Count Abstract', 'Word Count Title']\n",
    "result"
   ]
  },
  {
   "cell_type": "markdown",
   "id": "d407067a",
   "metadata": {},
   "source": [
    "**6. Type-token ratio per abstract**\n",
    "\n",
    "This metric aims to identify the diversity of words used in each abstract. We divide the number of unique words appearing in the abstract by the total number of words. We expect that a revolutionary and disruptive publication would need a diverse vocabulary to express the new idea in contrary to a non disruptive paper. <br>\n",
    "- high type-token ratio indicate great diversity\n",
    "- low type-token ratio indicate less diversity\n",
    "\n",
    "Note: We could apply this metric to the titles too but the small number of words would always lead to a high value."
   ]
  },
  {
   "cell_type": "code",
   "execution_count": 76,
   "id": "baa93dac",
   "metadata": {},
   "outputs": [],
   "source": [
    "# unique to total words ratio \n",
    "word_counts = []\n",
    "\n",
    "# Loop through each document in the corpus\n",
    "for doc in corpus_abstracts:\n",
    "    # Compute the total word count for the document by summing the word counts\n",
    "    total_words = sum(count for _, count in doc)\n",
    "    unique_words = len(doc)\n",
    "    # Compute the ratio of unique words to total words\n",
    "    unique_ratio = unique_words / total_words\n",
    "    # Append the total word count for the document to the word_counts list\n",
    "    word_counts.append(unique_ratio)\n",
    "word_counts = pd.Series(word_counts,name='word_ratio_abstract')\n",
    "text = pd.concat([text, word_counts], axis=1)\n",
    "text.set_index('id', inplace=True)"
   ]
  },
  {
   "cell_type": "markdown",
   "id": "306796c8",
   "metadata": {},
   "source": [
    "- Papers with high diversity in their vocabulary are limited\n",
    "- Most of them have a type-token ratio around 0.7"
   ]
  },
  {
   "cell_type": "code",
   "execution_count": 77,
   "id": "c474aa01",
   "metadata": {},
   "outputs": [
    {
     "data": {
      "image/png": "[encoded data removed]",
      "text/plain": [
       "<Figure size 432x288 with 1 Axes>"
      ]
     },
     "metadata": {
      "needs_background": "light"
     },
     "output_type": "display_data"
    }
   ],
   "source": [
    "text['word_ratio_abstract'].hist()\n",
    "_ = plt.title(\"Type-token ratio for Abstracts\")"
   ]
  },
  {
   "cell_type": "markdown",
   "id": "46489643",
   "metadata": {},
   "source": [
    "**7. Words indicating new or improvement in abstracts**\n",
    "\n",
    "We expect that a disruptive publication would contain more verbs evoking creation, discovery or perception than a publication which builds on top of other works. We also expect that publications improving existing works would mostly contain verbs indicating improvement, application or assesment. <br>\n",
    "\n",
    "We will count the occurrence of those two clusters of words inside each abstract and create a single metric by subtracting those counts. <br>\n",
    "- a positive value means that the words evoking new outweigh the words indicating improvement \n",
    "- a negative value means that the words indicating improvement outweigh the words evoking new\n",
    "- a zero value means that none of the two word clusters stands out\n",
    "\n",
    "The choice to only count verbs is not rational. Verbs have an intertemporal meaning in the vocabulary in contrast to nouns and adjectives which may represent special terminology and thus counting them would lead to using future information.\n",
    "\n",
    "Example: An abstract contains 7 words evoking creation and 3 words indicating improvement. Our metric would be 7-3=4 > 0"
   ]
  },
  {
   "cell_type": "code",
   "execution_count": 78,
   "id": "84d797cc",
   "metadata": {},
   "outputs": [],
   "source": [
    "# we will use the preprocessed abstracts we created above\n",
    "from gensim.corpora import Dictionary\n",
    "\n",
    "# Create a dictionary representation of the documents.\n",
    "dictionary = Dictionary(text['abstract'])\n",
    "corpus = [dictionary.doc2bow(doc) for doc in text['abstract']]"
   ]
  },
  {
   "cell_type": "markdown",
   "id": "d0b22158",
   "metadata": {},
   "source": [
    "We will search for the words below:\n",
    "\n",
    "The verbs `develop` , `design`, `present`, `structure`, `form`, `provide`, `increase`, `introduce` indicate creation and new. <br>\n",
    "\n",
    "On the other hand the verbs `improve`, `enhance`, `increase`, `use`, `include`, `associate`, `mediate`, `assess` evoke improvement of existing works.\n",
    "\n",
    "The selection of those words was based on modern grammar and the Supplementary info of the Nature publication (\"Papers and patents are becoming less disruptive over time\")"
   ]
  },
  {
   "cell_type": "code",
   "execution_count": 79,
   "id": "068c337f",
   "metadata": {},
   "outputs": [],
   "source": [
    "# the list below contains the stemmed and lemamtized form of the verbs indicating new\n",
    "words_indicating_new = ['develop', 'design', 'present', 'structur', 'form', 'provid', 'increas', 'introduc']\n",
    "words_indicating_new_counts = []\n",
    "for i in range(len(corpus)):\n",
    "    # count the occurence of each word in the above list in each document\n",
    "    word_count = sum([freq for (word_id, freq) in corpus[i] if dictionary[word_id] in words_indicating_new])\n",
    "    words_indicating_new_counts.append(word_count)\n",
    "word_counts_new = pd.Series(words_indicating_new_counts,name='words_new')"
   ]
  },
  {
   "cell_type": "code",
   "execution_count": 80,
   "id": "913f873a",
   "metadata": {},
   "outputs": [],
   "source": [
    "# the list below contains the stemmed and lemamtized form of the verbs evoking improvement\n",
    "words_indicating_improvment = ['improv', 'enhanc', 'increas', 'use', 'includ', 'associ', 'mediat', 'assess']\n",
    "words_indicating_improvment_counts = []\n",
    "for i in range(len(corpus)):\n",
    "    # count the occurence of each word in the above list in each document\n",
    "    word_count = sum([freq for (word_id, freq) in corpus[i] if dictionary[word_id] in words_indicating_improvment])\n",
    "    words_indicating_improvment_counts.append(word_count)\n",
    "word_counts_improv = pd.Series(words_indicating_improvment_counts,name='words_improve')"
   ]
  },
  {
   "cell_type": "markdown",
   "id": "e2115c20",
   "metadata": {},
   "source": [
    "Finally, we subtract the two counts to get the metric"
   ]
  },
  {
   "cell_type": "code",
   "execution_count": 81,
   "id": "776c4f37",
   "metadata": {},
   "outputs": [],
   "source": [
    "text.reset_index(inplace=True)\n",
    "text = pd.concat([text, word_counts_new], axis=1)\n",
    "text = pd.concat([text, word_counts_improv], axis=1)\n",
    "# subtract the words indicating new from the ones indicating improvement\n",
    "text['new/improv'] = text['words_new'] - text['words_improve']\n",
    "text.drop(columns=['words_new', 'words_improve'], inplace=True)\n",
    "text.set_index('id', inplace=True)"
   ]
  },
  {
   "cell_type": "markdown",
   "id": "85412a63",
   "metadata": {},
   "source": [
    "Most papers seem to be neutral meaning that neither the words indicating new nor the ones idicating improvement stand out"
   ]
  },
  {
   "cell_type": "code",
   "execution_count": 82,
   "id": "1a786bed",
   "metadata": {},
   "outputs": [
    {
     "data": {
      "image/png": "[encoded data removed]",
      "text/plain": [
       "<Figure size 432x288 with 1 Axes>"
      ]
     },
     "metadata": {
      "needs_background": "light"
     },
     "output_type": "display_data"
    }
   ],
   "source": [
    "text['new/improv'].hist(bins=70)\n",
    "_ = plt.title(\"Number of Words indicating New - Improvement\")"
   ]
  },
  {
   "cell_type": "markdown",
   "id": "31d01f6b",
   "metadata": {},
   "source": [
    "**8. Differentiation in the author affiliations**\n",
    "\n",
    "This metric aims to exploit the different \"titles\" (affiliations) of the authors of a publication to find how similar they are. In general, an author affiliation might contain an institution name, a department or division and the city and country. So looking for differences in the words will indicate the level of similarity.\n",
    "\n",
    "The core idea behind this metric is similar to the \"Subject Differentiation\" calculated above.\n",
    "\n",
    "- We will use word comparing again.\n",
    "- A high value in this metric indicates that the authors have differences between them\n",
    "- A low value in this metric indicates that the authors have a lot in common"
   ]
  },
  {
   "cell_type": "code",
   "execution_count": 83,
   "id": "8bfe15b6",
   "metadata": {},
   "outputs": [],
   "source": [
    "work_authors_afill  = pd.merge(work_authors, author_afill, left_on='id', right_on='author_id')"
   ]
  },
  {
   "cell_type": "markdown",
   "id": "81f3b76a",
   "metadata": {},
   "source": [
    "some affiliations contain `\\n` characters so we remove them."
   ]
  },
  {
   "cell_type": "code",
   "execution_count": 84,
   "id": "d46b8558",
   "metadata": {},
   "outputs": [
    {
     "name": "stderr",
     "output_type": "stream",
     "text": [
      "/var/folders/v7/cd7r3hf1229b9tnytv_qr8hm0000gn/T/ipykernel_23878/971487264.py:4: FutureWarning: The default value of regex will change from True to False in a future version.\n",
      "  af['name'] = af['name'].str.replace(r'\\n', ' ')\n"
     ]
    }
   ],
   "source": [
    "af = work_authors_afill.loc[:,['work_id', 'name']]\n",
    "af.dropna(inplace=True)\n",
    "# replace \\n character with \" \"\n",
    "af['name'] = af['name'].str.replace(r'\\n', ' ')"
   ]
  },
  {
   "cell_type": "markdown",
   "id": "e2caaade",
   "metadata": {},
   "source": [
    "exactly as we did with subjects, we continue with merging all the affiliation names per work in a single string"
   ]
  },
  {
   "cell_type": "code",
   "execution_count": 85,
   "id": "8bc65083",
   "metadata": {},
   "outputs": [
    {
     "data": {
      "text/html": [
       "<div>\n",
       "<style scoped>\n",
       "    .dataframe tbody tr th:only-of-type {\n",
       "        vertical-align: middle;\n",
       "    }\n",
       "\n",
       "    .dataframe tbody tr th {\n",
       "        vertical-align: top;\n",
       "    }\n",
       "\n",
       "    .dataframe thead th {\n",
       "        text-align: right;\n",
       "    }\n",
       "</style>\n",
       "<table border=\"1\" class=\"dataframe\">\n",
       "  <thead>\n",
       "    <tr style=\"text-align: right;\">\n",
       "      <th></th>\n",
       "      <th>work_id</th>\n",
       "      <th>name</th>\n",
       "    </tr>\n",
       "  </thead>\n",
       "  <tbody>\n",
       "    <tr>\n",
       "      <th>0</th>\n",
       "      <td>239</td>\n",
       "      <td>Styperson House Adlington, Macclesfield, Chesh...</td>\n",
       "    </tr>\n",
       "    <tr>\n",
       "      <th>1</th>\n",
       "      <td>299</td>\n",
       "      <td>Biomolecular Science Center, University of Cen...</td>\n",
       "    </tr>\n",
       "    <tr>\n",
       "      <th>2</th>\n",
       "      <td>373</td>\n",
       "      <td>Technische Universität Dresden, Institute of M...</td>\n",
       "    </tr>\n",
       "    <tr>\n",
       "      <th>3</th>\n",
       "      <td>471</td>\n",
       "      <td>Portsmouth Polytechnic, Department of Geology ...</td>\n",
       "    </tr>\n",
       "    <tr>\n",
       "      <th>4</th>\n",
       "      <td>517</td>\n",
       "      <td>Applied Geology Ltd., Thorburn Associates Camd...</td>\n",
       "    </tr>\n",
       "  </tbody>\n",
       "</table>\n",
       "</div>"
      ],
      "text/plain": [
       "   work_id                                               name\n",
       "0      239  Styperson House Adlington, Macclesfield, Chesh...\n",
       "1      299  Biomolecular Science Center, University of Cen...\n",
       "2      373  Technische Universität Dresden, Institute of M...\n",
       "3      471  Portsmouth Polytechnic, Department of Geology ...\n",
       "4      517  Applied Geology Ltd., Thorburn Associates Camd..."
      ]
     },
     "execution_count": 85,
     "metadata": {},
     "output_type": "execute_result"
    }
   ],
   "source": [
    "af = af.groupby(by='work_id')['name'].apply(' '.join).reset_index()\n",
    "af.head(5)"
   ]
  },
  {
   "cell_type": "markdown",
   "id": "06529de4",
   "metadata": {},
   "source": [
    "we implement nlp preprocessing methods too"
   ]
  },
  {
   "cell_type": "code",
   "execution_count": 86,
   "id": "cb87f0b3",
   "metadata": {},
   "outputs": [],
   "source": [
    "from nltk.tokenize import word_tokenize\n",
    "from nltk.stem import WordNetLemmatizer\n",
    "lemmatizer = WordNetLemmatizer()\n",
    "stemmer = PorterStemmer()\n",
    "\n",
    "# Define a function to tokenize the words in a sentence\n",
    "def tokenize_words(sentence):\n",
    "    # lower all the words and tokenize the sentence\n",
    "    tokens = word_tokenize(sentence.lower())\n",
    "    # remove numeric characters\n",
    "    tokens = [token for token in tokens if not re.match(r'^-?\\d+\\.\\d+|-?\\d+$', token)]\n",
    "    # remove words with less than 3 characters\n",
    "    tokens = [token for token in tokens if len(token) >=3]\n",
    "    # lemmatize\n",
    "    lemmas = [lemmatizer.lemmatize(token, pos='n') for token in tokens]\n",
    "    # stemm the words\n",
    "    stemmed_words = [stemmer.stem(word) for word in lemmas]\n",
    "    return stemmed_words\n",
    "\n",
    "\n",
    "# Apply the tokenize_words function to the 'name' column of the dataframe\n",
    "af['name'] = af['name'].apply(tokenize_words)"
   ]
  },
  {
   "cell_type": "code",
   "execution_count": 87,
   "id": "7661b1d9",
   "metadata": {},
   "outputs": [],
   "source": [
    "from gensim.corpora import Dictionary\n",
    "# create the dictionary\n",
    "dictionary_afill = Dictionary(af['name'])\n",
    "# create the corpus\n",
    "corpus_afill = [dictionary_subjects.doc2bow(doc) for doc in af['name']]"
   ]
  },
  {
   "cell_type": "code",
   "execution_count": 88,
   "id": "35ec5955",
   "metadata": {},
   "outputs": [],
   "source": [
    "# word count for titles\n",
    "word_counts = []\n",
    "\n",
    "# Loop through each document in the corpus\n",
    "for doc in corpus_afill:\n",
    "    # Compute the total word count for the document by summing the word counts\n",
    "    total_words = sum(count for _, count in doc)\n",
    "    # Append the total word count for the document to the word_counts list\n",
    "    word_counts.append(total_words)\n",
    "word_counts = pd.Series(word_counts,name='word_count_affil')\n",
    "af = pd.concat([af, word_counts], axis=1)"
   ]
  },
  {
   "cell_type": "markdown",
   "id": "a90c399b",
   "metadata": {},
   "source": [
    "there are some affiliation strings which do not contain any words after the tokenization, so we remove them"
   ]
  },
  {
   "cell_type": "code",
   "execution_count": 89,
   "id": "a5bde562",
   "metadata": {},
   "outputs": [],
   "source": [
    "# remove papers with no characters in the affiliations\n",
    "af = af[af['word_count_affil'] != 0]\n",
    "af.reset_index(drop=True, inplace=True)\n",
    "\n",
    "# create the new dictionary and corpus\n",
    "dictionary_afill = Dictionary(af['name'])\n",
    "corpus_afill = [ dictionary_afill.doc2bow(doc) for doc in af['name']]"
   ]
  },
  {
   "cell_type": "code",
   "execution_count": 90,
   "id": "16e62062",
   "metadata": {},
   "outputs": [],
   "source": [
    "# unique to total words ratio \n",
    "word_counts = []\n",
    "\n",
    "# Loop through each document in the corpus\n",
    "for doc in corpus_afill:\n",
    "    # Compute the total word count for the document by summing the word counts\n",
    "    total_words = sum(count for _, count in doc)\n",
    "    unique_words = len(doc)\n",
    "    # Compute the ratio of unique words to total words\n",
    "    unique_ratio = unique_words / total_words\n",
    "    # Append the total word count for the document to the word_counts list\n",
    "    word_counts.append(unique_ratio)\n",
    "word_counts = pd.Series(word_counts,name='affil_ratio')\n",
    "af = pd.concat([af, word_counts], axis=1)"
   ]
  },
  {
   "cell_type": "markdown",
   "id": "447b14af",
   "metadata": {},
   "source": [
    "finally, we save the results in a dataframe"
   ]
  },
  {
   "cell_type": "code",
   "execution_count": 91,
   "id": "fcce3d98",
   "metadata": {},
   "outputs": [],
   "source": [
    "balance_factor = af['word_count_affil'].min() / af['word_count_affil'].max()\n",
    "af = af.loc[:,['work_id', 'affil_ratio']]\n",
    "af['affil_ratio'] = af['affil_ratio']\n",
    "af.set_index('work_id', inplace=True)"
   ]
  },
  {
   "cell_type": "markdown",
   "id": "d11ece31",
   "metadata": {},
   "source": [
    "- For most papers, the type-token ratio in the affiliations is low indicating that the paper authors usually have similar affiliations and thus similar characteristics\n",
    "- There are also some papers with a high author affiliation differentiation"
   ]
  },
  {
   "cell_type": "code",
   "execution_count": 92,
   "id": "80d555e9",
   "metadata": {},
   "outputs": [
    {
     "data": {
      "image/png": "[encoded data removed]",
      "text/plain": [
       "<Figure size 432x288 with 1 Axes>"
      ]
     },
     "metadata": {
      "needs_background": "light"
     },
     "output_type": "display_data"
    }
   ],
   "source": [
    "af.hist()\n",
    "_ = plt.title(\"Author Affiliation differentiation\")"
   ]
  },
  {
   "cell_type": "markdown",
   "id": "770736e0",
   "metadata": {},
   "source": [
    "- After having used nlp techniques to extract features from the text, we can proceed to creating a new regression model to ultimately predict the `cdindex` more precisely\n",
    "- We will use the same `XGBRegressor()` as we did above but also include some of the new metrics created"
   ]
  },
  {
   "cell_type": "markdown",
   "id": "ee5bd0b2",
   "metadata": {},
   "source": [
    "We start by creating the fact table and merging all the features. The features we will add are the following:\n",
    "\n",
    "\n",
    "- number of subjects\n",
    "- number of authors\n",
    "- number of references\n",
    "- type-token ratio abstract\n",
    "- word count title \n",
    "- subjects variation\n",
    "- age of subject combination\n",
    "- count of words indicating new and improvement\n",
    "- mean age of referenced papers\n",
    "    - we calculate that by subtracting the mean references publication year from the work publication year\n",
    "- standard deviation of the publication year of the referenced papers\n",
    "\n",
    "\n",
    "**Importnant Note:** The metrics added to this model are the best ones based on the current dataset. In the event of a more balanced and complete dataset, another feature combination could perform better meaning that some of the variables we calculated before which were not included (ex number of similar publications) could help our model be more precise with another dataset."
   ]
  },
  {
   "cell_type": "code",
   "execution_count": 93,
   "id": "0306341d",
   "metadata": {},
   "outputs": [],
   "source": [
    "fact_data = works.copy()\n",
    "fact_data.drop(columns=['doi', 'published_month', 'title', 'abstract', 'published_day', 'lang'], inplace=True)\n",
    "cdindex_work = pd.merge(works.loc[:,['doi','id']], cdindex, on='doi')\n",
    "fact_data = pd.merge(fact_data, cdindex_work.loc[:,['id', 'cdindex']], on='id')\n",
    "fact_data.set_index('id', inplace=True)\n",
    "\n",
    "# number of subjects\n",
    "fact_data = pd.merge(fact_data, work_num_subjects, left_index=True, right_index=True, how='left')\n",
    "# number of authors\n",
    "fact_data = pd.merge(fact_data, work_num_authors, left_index=True, right_index=True, how='left')\n",
    "# number of references\n",
    "fact_data = pd.merge(fact_data, work_num_references, left_index=True, right_index=True, how='left')\n",
    "# token ratio per paper\n",
    "fact_data = pd.merge(fact_data, text['word_ratio_abstract'], left_index=True, right_index=True)\n",
    "# size of title\n",
    "fact_data = pd.merge(fact_data, text['word_count_titles'], left_index=True, right_index=True)\n",
    "# word_ratio subjects\n",
    "fact_data = pd.merge(fact_data, v['subjects_differentiation'], left_index=True, right_index=True)\n",
    "# age of combination\n",
    "fact_data = pd.merge(fact_data, age_of_comb, left_index=True, right_index=True)\n",
    "# new - improve words\n",
    "fact_data = pd.merge(fact_data, text['new/improv'], left_index=True, right_index=True, how='left')\n",
    "# the mean age of the referenced papers\n",
    "fact_data = pd.merge(fact_data, works_ref_year, left_index=True, right_index=True, how='left')\n",
    "fact_data['mean_references_age'] = fact_data['published_year'] - fact_data['mean_age']\n",
    "fact_data.drop(columns='mean_age', inplace=True)\n",
    "# the age standard deviation of the referenced papers\n",
    "fact_data = pd.merge(fact_data, works_ref_year_std, left_index=True, right_index=True, how='left')\n",
    "\n",
    "\n",
    "fact_data.drop(columns=['published_year'], inplace=True)\n",
    "\n",
    "# replace negative references_age values with nan to then fill them with the mean\n",
    "fact_data['mean_references_age'] = fact_data['mean_references_age'].mask(fact_data['mean_references_age'] < 0, np.nan)\n",
    "\n",
    "# fill nan values with the mean of each metric\n",
    "fact_data['num_subjects'] = fact_data['num_subjects'].fillna(fact_data['num_subjects'].mean())\n",
    "fact_data['num_authors'] = fact_data['num_authors'].fillna(fact_data['num_authors'].mean())\n",
    "fact_data['num_references'] = fact_data['num_references'].fillna(fact_data['num_references'].mean())\n",
    "fact_data['mean_references_age'] = fact_data['mean_references_age'].fillna(fact_data['mean_references_age'].mean())\n",
    "fact_data['ref_year_std'] = fact_data['ref_year_std'].fillna(fact_data['ref_year_std'].mean())\n",
    "\n",
    "# fact_data['affil_ratio'] = fact_data['affil_ratio'].fillna(fact_data['affil_ratio'].mean())\n",
    "fact_data['new/improv'] = fact_data['new/improv'].fillna(fact_data['new/improv'].mean())"
   ]
  },
  {
   "cell_type": "markdown",
   "id": "cad02634",
   "metadata": {},
   "source": [
    "Then, we create the train and test dataset."
   ]
  },
  {
   "cell_type": "code",
   "execution_count": 94,
   "id": "3bef9e88",
   "metadata": {},
   "outputs": [],
   "source": [
    "# split the features from the dependent variable\n",
    "cols_to_keep = fact_data.columns.difference(['cdindex'])\n",
    "X = fact_data.loc[:,cols_to_keep]\n",
    "y = fact_data['cdindex']\n",
    "\n",
    "# create a train and testing dataset\n",
    "X_train, X_test, y_train, y_test = train_test_split(X, y, random_state=42, test_size=0.3)"
   ]
  },
  {
   "cell_type": "markdown",
   "id": "644896c5",
   "metadata": {},
   "source": [
    "- From the correlation heat map below we can see that there are no serious feature multicolinearity problems\n",
    "- The mean references age and the references publication year std have a high correlation (0.63) which is expected, but removing one of them from the model drops its accuracy"
   ]
  },
  {
   "cell_type": "code",
   "execution_count": 95,
   "id": "121f625f",
   "metadata": {
    "scrolled": false
   },
   "outputs": [
    {
     "data": {
      "text/plain": [
       "<AxesSubplot:>"
      ]
     },
     "execution_count": 95,
     "metadata": {},
     "output_type": "execute_result"
    },
    {
     "data": {
      "image/png": "[encoded data removed]",
      "text/plain": [
       "<Figure size 576x576 with 2 Axes>"
      ]
     },
     "metadata": {
      "needs_background": "light"
     },
     "output_type": "display_data"
    }
   ],
   "source": [
    "import seaborn as sns\n",
    "import matplotlib.pyplot as plt\n",
    "correlation_mat = X.corr()\n",
    "plt.figure(figsize=(8,8))\n",
    "sns.heatmap(correlation_mat, annot = True)"
   ]
  },
  {
   "cell_type": "markdown",
   "id": "34128b3c",
   "metadata": {},
   "source": [
    "We can now create and fit our model."
   ]
  },
  {
   "cell_type": "code",
   "execution_count": 96,
   "id": "7eb967cb",
   "metadata": {},
   "outputs": [
    {
     "data": {
      "text/plain": [
       "XGBRegressor(base_score=0.5, booster='gbtree', callbacks=None,\n",
       "             colsample_bylevel=1, colsample_bynode=1, colsample_bytree=1,\n",
       "             early_stopping_rounds=None, enable_categorical=False,\n",
       "             eval_metric=None, feature_types=None, gamma=0, gpu_id=-1,\n",
       "             grow_policy='depthwise', importance_type=None,\n",
       "             interaction_constraints='', learning_rate=0.1, max_bin=256,\n",
       "             max_cat_threshold=64, max_cat_to_onehot=4, max_delta_step=0,\n",
       "             max_depth=4, max_leaves=0, min_child_weight=1, missing=nan,\n",
       "             monotone_constraints='()', n_estimators=200, n_jobs=0,\n",
       "             num_parallel_tree=1, predictor='auto', random_state=0, ...)"
      ]
     },
     "execution_count": 96,
     "metadata": {},
     "output_type": "execute_result"
    }
   ],
   "source": [
    "xgb_reg = xgb.XGBRegressor(max_depth=4, n_estimators=200, learning_rate=0.1, objective='reg:squarederror',\n",
    "                          booster='gbtree')\n",
    "\n",
    "xgb_reg.fit(X_train, y_train)"
   ]
  },
  {
   "cell_type": "markdown",
   "id": "c62d9058",
   "metadata": {},
   "source": [
    "- Based on the metrics below, our model looks similar to the model in our initial approach\n",
    "- `mean_absolute_error`, `mean_squared_error` and $R^2$ (Test) are identical\n",
    "- There is no sign of overfitting as the testing and training $R^2$ are similar"
   ]
  },
  {
   "cell_type": "code",
   "execution_count": 97,
   "id": "67b0e8d1",
   "metadata": {},
   "outputs": [
    {
     "name": "stdout",
     "output_type": "stream",
     "text": [
      "MAE: 0.02\n",
      "MSE: 0.01\n",
      "R2 (Test): 0.96\n",
      "R2 (Train): 0.97\n"
     ]
    }
   ],
   "source": [
    "# make predictions on the test dataset\n",
    "preds = xgb_reg.predict(X_test)\n",
    "\n",
    "# calculate the evaluation metrics\n",
    "mae = mean_absolute_error(y_test, preds)\n",
    "mse = mean_squared_error(y_test, preds)\n",
    "r2 = r2_score(y_test, preds)\n",
    "\n",
    "# print the results\n",
    "print(f\"MAE: {mae:.2f}\")\n",
    "print(f\"MSE: {mse:.2f}\")\n",
    "print(f\"R2 (Test): {r2:.2f}\")\n",
    "print(f\"R2 (Train): {xgb_reg.score(X_train, y_train):.2f}\")"
   ]
  },
  {
   "cell_type": "markdown",
   "id": "2982c7a7",
   "metadata": {},
   "source": [
    "Comparing now the true and predicted values of our testing dataset we conclude to the following:\n",
    "- the plot has little or no differences to our initial approach\n",
    "- the model performs well in the `cdindex` areas where we have enough sample data (0 and 1)\n",
    "- the model makes inaccurate predictions for `cdindex` areas with little or no sample\n",
    "- the data imbalance affects it heavily"
   ]
  },
  {
   "cell_type": "code",
   "execution_count": 98,
   "id": "e677925e",
   "metadata": {},
   "outputs": [
    {
     "data": {
      "image/png": "[encoded data removed]",
      "text/plain": [
       "<Figure size 360x360 with 1 Axes>"
      ]
     },
     "metadata": {
      "needs_background": "light"
     },
     "output_type": "display_data"
    }
   ],
   "source": [
    "fig, ax = plt.subplots(figsize=(5, 5))\n",
    "plt.scatter(y_test, preds, alpha=0.2)\n",
    "ax.plot([0, 1], [0, 1], transform=ax.transAxes, ls=\"--\", c=\"red\")\n",
    "plt.title(\"XGB Regressor\")\n",
    "plt.ylabel(\"Model predictions\")\n",
    "plt.xlabel(\"Truths\")\n",
    "plt.xlim([-1.1, 1.1])\n",
    "_ = plt.ylim([-1.1, 1.1])"
   ]
  },
  {
   "cell_type": "markdown",
   "id": "55423a3a",
   "metadata": {},
   "source": [
    "**Fact:** Although the Truths vs Predictions plot is not that good, the $R^2$ metric is exceptionally high. This happens because of the fact that the values that the model fails to predict account for a very small percentage of the total sample and thus do not affect the `mean_absolute_error` and `mean_squared_error` metrics."
   ]
  },
  {
   "cell_type": "markdown",
   "id": "3f13011d",
   "metadata": {},
   "source": [
    "**Feature Importances:**\n",
    "- by far the most improtant feature in predicting the `cdindex` turns out to be the number of references\n",
    "- the publication year standard deviation and the mean references age also contribute enough\n",
    "- the importance of the number of authors and subjects is low compared to the other features"
   ]
  },
  {
   "cell_type": "code",
   "execution_count": 99,
   "id": "c4a395c5",
   "metadata": {
    "scrolled": true
   },
   "outputs": [
    {
     "data": {
      "image/png": "[encoded data removed]",
      "text/plain": [
       "<Figure size 576x288 with 1 Axes>"
      ]
     },
     "metadata": {
      "needs_background": "light"
     },
     "output_type": "display_data"
    }
   ],
   "source": [
    "fig = plt.figure(figsize=(8, 4))\n",
    "_ = xgb.plot_importance(xgb_reg, ax = fig.gca())"
   ]
  },
  {
   "cell_type": "markdown",
   "id": "872a70db",
   "metadata": {},
   "source": [
    "We make another attempt by implementing another model. We will use the `RandomForestRegressor`, a decission tree based regressor similar to the xgb."
   ]
  },
  {
   "cell_type": "code",
   "execution_count": 100,
   "id": "7bfc61c2",
   "metadata": {},
   "outputs": [
    {
     "data": {
      "text/plain": [
       "RandomForestRegressor(max_depth=5, n_estimators=5000, n_jobs=-1)"
      ]
     },
     "execution_count": 100,
     "metadata": {},
     "output_type": "execute_result"
    }
   ],
   "source": [
    "from sklearn.ensemble import RandomForestRegressor\n",
    "\n",
    "# create a random forest regressor with multiple trees\n",
    "rf = RandomForestRegressor(n_estimators=5000,max_depth=5,n_jobs=-1)\n",
    "\n",
    "# fit the regressor to the training data\n",
    "rf.fit(X_train, y_train)"
   ]
  },
  {
   "cell_type": "markdown",
   "id": "142ae2f9",
   "metadata": {},
   "source": [
    "After training our model, we use the test dataset to acess it.\n",
    "\n",
    "- `mean_absolute_error`, `mean_squared_error` and $R^2$ (Test) are identical to the xgb approach\n",
    "- there is no sign of overfitting as the test and training $R^2$ are similar"
   ]
  },
  {
   "cell_type": "code",
   "execution_count": 101,
   "id": "777cc7d2",
   "metadata": {},
   "outputs": [
    {
     "name": "stdout",
     "output_type": "stream",
     "text": [
      "MAE: 0.02\n",
      "MSE: 0.01\n",
      "R2 (Test): 0.96\n",
      "R2 (Train): 0.96\n"
     ]
    }
   ],
   "source": [
    "# make predictions on the test dataset\n",
    "preds = rf.predict(X_test)\n",
    "\n",
    "# calculate the evaluation metrics\n",
    "mae = mean_absolute_error(y_test, preds)\n",
    "mse = mean_squared_error(y_test, preds)\n",
    "r2 = r2_score(y_test, preds)\n",
    "\n",
    "# print the results\n",
    "print(f\"MAE: {mae:.2f}\")\n",
    "print(f\"MSE: {mse:.2f}\")\n",
    "print(f\"R2 (Test): {r2:.2f}\")\n",
    "print(f\"R2 (Train): {rf.score(X_train, y_train):.2f}\")"
   ]
  },
  {
   "cell_type": "markdown",
   "id": "64189ffe",
   "metadata": {},
   "source": [
    "- the random forest regressor seems to be more accurate when predicting `cdindex` values around 0 than the xgb\n",
    "- When the true value of the `cdindex` is 0, our model returns a value ranging from 0 to 0.25 (excluding some outliers) whereas the xgb model returns values from -0.1 to 0.3 "
   ]
  },
  {
   "cell_type": "code",
   "execution_count": 102,
   "id": "673e0f91",
   "metadata": {},
   "outputs": [
    {
     "data": {
      "image/png": "[encoded data removed]",
      "text/plain": [
       "<Figure size 360x360 with 1 Axes>"
      ]
     },
     "metadata": {
      "needs_background": "light"
     },
     "output_type": "display_data"
    }
   ],
   "source": [
    "fig, ax = plt.subplots(figsize=(5, 5))\n",
    "plt.scatter(y_test, preds, alpha=0.2)\n",
    "ax.plot([0, 1], [0, 1], transform=ax.transAxes, ls=\"--\", c=\"red\", )\n",
    "plt.title(\"Random Forest\")\n",
    "plt.ylabel(\"Model predictions\")\n",
    "plt.xlabel(\"Truths\")\n",
    "plt.xlim([-1.1, 1.1])\n",
    "_ = plt.ylim([-1.1, 1.1])"
   ]
  },
  {
   "cell_type": "markdown",
   "id": "22df1dd0",
   "metadata": {},
   "source": [
    "Quite interesting is the fact that the feature importances for those two models (which have been trained on the same dataset) are significantly different. Both models highlight the importance of the number of references factor but the random forest regressor does not account for any other feature except for the mean references age. <br>\n",
    "\n",
    "It is not surprising that the two models assign different levels of importance to the same features, as they may be prioritizing different aspects of the data and use different techniques on calculating them."
   ]
  },
  {
   "cell_type": "code",
   "execution_count": 103,
   "id": "38265e24",
   "metadata": {
    "scrolled": false
   },
   "outputs": [
    {
     "data": {
      "image/png": "[encoded data removed]",
      "text/plain": [
       "<Figure size 576x288 with 1 Axes>"
      ]
     },
     "metadata": {
      "needs_background": "light"
     },
     "output_type": "display_data"
    }
   ],
   "source": [
    "fig = plt.figure(figsize=(8, 4))\n",
    "_ = plt.barh(range(len(rf.feature_importances_)), rf.feature_importances_)\n",
    "_ = plt.yticks(range(len(rf.feature_importances_)), X_train.columns)\n",
    "_ = plt.xlabel(\"Features\")\n",
    "_ = plt.ylabel(\"Importance\")\n",
    "_ = plt.title(\"Feature Importance Random Forest Regressor\")\n",
    "plt.show()"
   ]
  },
  {
   "cell_type": "markdown",
   "id": "ea64fb0c",
   "metadata": {},
   "source": [
    "Overall, despite some small differences in the predictions and the feature importances, both models had a similar performance."
   ]
  },
  {
   "cell_type": "markdown",
   "id": "1145c6ed",
   "metadata": {},
   "source": [
    "### Lets now use a neural network on the same problem"
   ]
  },
  {
   "cell_type": "markdown",
   "id": "d4b493a6",
   "metadata": {},
   "source": [
    "The features that we will use are the following:\n",
    "\n",
    "- number of subjects\n",
    "- number of references\n",
    "- number of authors\n",
    "- references age\n",
    "- standard deviation of the references publication year\n",
    "\n",
    "Those were the features that performed the best in our current dataset"
   ]
  },
  {
   "cell_type": "code",
   "execution_count": 104,
   "id": "f58d56aa",
   "metadata": {},
   "outputs": [],
   "source": [
    "fact_data = works.copy()\n",
    "fact_data.drop(columns=['doi', 'published_month', 'title', 'abstract', 'published_day', 'lang'], inplace=True)\n",
    "cdindex_work = pd.merge(works.loc[:,['doi','id']], cdindex, on='doi')\n",
    "fact_data = pd.merge(fact_data, cdindex_work.loc[:,['id', 'cdindex']], on='id')\n",
    "fact_data.set_index('id', inplace=True)\n",
    "\n",
    "# number of subjects\n",
    "fact_data = pd.merge(fact_data, work_num_subjects, left_index=True, right_index=True, how='left')\n",
    "# number of authors\n",
    "fact_data = pd.merge(fact_data, work_num_authors, left_index=True, right_index=True, how='left')\n",
    "# number of references\n",
    "fact_data = pd.merge(fact_data, work_num_references, left_index=True, right_index=True, how='left')\n",
    "# the mean age of the referenced papers\n",
    "fact_data = pd.merge(fact_data, works_ref_year, left_index=True, right_index=True, how='left')\n",
    "fact_data['mean_references_age'] = fact_data['published_year'] - fact_data['mean_age']\n",
    "fact_data.drop(columns='mean_age', inplace=True)\n",
    "# the age variance of the referenced papers\n",
    "fact_data = pd.merge(fact_data, works_ref_year_std, left_index=True, right_index=True, how='left')\n",
    "\n",
    "fact_data.drop(columns=['published_year'], inplace=True)\n",
    "\n",
    "# replace the negative values with nan in order to fill them with the mean\n",
    "fact_data['mean_references_age'] = fact_data['mean_references_age'].mask(fact_data['mean_references_age'] < 0, np.nan)\n",
    "# fill na values with the mean of each metric\n",
    "fact_data['num_subjects'] = fact_data['num_subjects'].fillna(fact_data['num_subjects'].mean())\n",
    "fact_data['num_authors'] = fact_data['num_authors'].fillna(fact_data['num_authors'].mean())\n",
    "fact_data['num_references'] = fact_data['num_references'].fillna(fact_data['num_references'].mean())\n",
    "fact_data['mean_references_age'] = fact_data['mean_references_age'].fillna(fact_data['mean_references_age'].mean())\n",
    "fact_data['ref_year_std'] = fact_data['ref_year_std'].fillna(fact_data['ref_year_std'].mean())"
   ]
  },
  {
   "cell_type": "code",
   "execution_count": 105,
   "id": "7f191c65",
   "metadata": {
    "scrolled": false
   },
   "outputs": [
    {
     "data": {
      "text/html": [
       "<div>\n",
       "<style scoped>\n",
       "    .dataframe tbody tr th:only-of-type {\n",
       "        vertical-align: middle;\n",
       "    }\n",
       "\n",
       "    .dataframe tbody tr th {\n",
       "        vertical-align: top;\n",
       "    }\n",
       "\n",
       "    .dataframe thead th {\n",
       "        text-align: right;\n",
       "    }\n",
       "</style>\n",
       "<table border=\"1\" class=\"dataframe\">\n",
       "  <thead>\n",
       "    <tr style=\"text-align: right;\">\n",
       "      <th></th>\n",
       "      <th>cdindex</th>\n",
       "      <th>num_subjects</th>\n",
       "      <th>num_authors</th>\n",
       "      <th>num_references</th>\n",
       "      <th>mean_references_age</th>\n",
       "      <th>ref_year_std</th>\n",
       "    </tr>\n",
       "  </thead>\n",
       "  <tbody>\n",
       "    <tr>\n",
       "      <th>count</th>\n",
       "      <td>46164.000000</td>\n",
       "      <td>46164.000000</td>\n",
       "      <td>46164.000000</td>\n",
       "      <td>46164.000000</td>\n",
       "      <td>46164.000000</td>\n",
       "      <td>46164.000000</td>\n",
       "    </tr>\n",
       "    <tr>\n",
       "      <th>mean</th>\n",
       "      <td>0.299760</td>\n",
       "      <td>2.325664</td>\n",
       "      <td>3.594685</td>\n",
       "      <td>23.468839</td>\n",
       "      <td>11.827446</td>\n",
       "      <td>8.389787</td>\n",
       "    </tr>\n",
       "    <tr>\n",
       "      <th>std</th>\n",
       "      <td>0.461007</td>\n",
       "      <td>1.278080</td>\n",
       "      <td>2.379164</td>\n",
       "      <td>16.616962</td>\n",
       "      <td>5.593484</td>\n",
       "      <td>3.719458</td>\n",
       "    </tr>\n",
       "    <tr>\n",
       "      <th>min</th>\n",
       "      <td>-1.000000</td>\n",
       "      <td>1.000000</td>\n",
       "      <td>1.000000</td>\n",
       "      <td>0.000000</td>\n",
       "      <td>0.000000</td>\n",
       "      <td>0.000000</td>\n",
       "    </tr>\n",
       "    <tr>\n",
       "      <th>25%</th>\n",
       "      <td>-0.002168</td>\n",
       "      <td>1.000000</td>\n",
       "      <td>2.000000</td>\n",
       "      <td>12.000000</td>\n",
       "      <td>9.500000</td>\n",
       "      <td>7.366652</td>\n",
       "    </tr>\n",
       "    <tr>\n",
       "      <th>50%</th>\n",
       "      <td>0.000000</td>\n",
       "      <td>2.000000</td>\n",
       "      <td>3.000000</td>\n",
       "      <td>23.468839</td>\n",
       "      <td>11.827446</td>\n",
       "      <td>8.389787</td>\n",
       "    </tr>\n",
       "    <tr>\n",
       "      <th>75%</th>\n",
       "      <td>1.000000</td>\n",
       "      <td>3.000000</td>\n",
       "      <td>5.000000</td>\n",
       "      <td>27.000000</td>\n",
       "      <td>11.827446</td>\n",
       "      <td>8.389787</td>\n",
       "    </tr>\n",
       "    <tr>\n",
       "      <th>max</th>\n",
       "      <td>1.000000</td>\n",
       "      <td>11.000000</td>\n",
       "      <td>12.000000</td>\n",
       "      <td>107.000000</td>\n",
       "      <td>77.000000</td>\n",
       "      <td>46.669048</td>\n",
       "    </tr>\n",
       "  </tbody>\n",
       "</table>\n",
       "</div>"
      ],
      "text/plain": [
       "            cdindex  num_subjects   num_authors  num_references  \\\n",
       "count  46164.000000  46164.000000  46164.000000    46164.000000   \n",
       "mean       0.299760      2.325664      3.594685       23.468839   \n",
       "std        0.461007      1.278080      2.379164       16.616962   \n",
       "min       -1.000000      1.000000      1.000000        0.000000   \n",
       "25%       -0.002168      1.000000      2.000000       12.000000   \n",
       "50%        0.000000      2.000000      3.000000       23.468839   \n",
       "75%        1.000000      3.000000      5.000000       27.000000   \n",
       "max        1.000000     11.000000     12.000000      107.000000   \n",
       "\n",
       "       mean_references_age  ref_year_std  \n",
       "count         46164.000000  46164.000000  \n",
       "mean             11.827446      8.389787  \n",
       "std               5.593484      3.719458  \n",
       "min               0.000000      0.000000  \n",
       "25%               9.500000      7.366652  \n",
       "50%              11.827446      8.389787  \n",
       "75%              11.827446      8.389787  \n",
       "max              77.000000     46.669048  "
      ]
     },
     "execution_count": 105,
     "metadata": {},
     "output_type": "execute_result"
    }
   ],
   "source": [
    "fact_data.describe()"
   ]
  },
  {
   "cell_type": "markdown",
   "id": "ce344cb8",
   "metadata": {},
   "source": [
    "**Importnant Note:** The metrics added to this neural network are the best ones based on the current dataset. In the event of a more balanced and complete dataset, another feature combination could perform better meaning that some of the variables we calculated before which were not included (ex nlp on abstracts and titles) could help our model be more precise with another dataset."
   ]
  },
  {
   "cell_type": "markdown",
   "id": "36c53925",
   "metadata": {},
   "source": [
    "We proceed by creating a training and test dataset."
   ]
  },
  {
   "cell_type": "code",
   "execution_count": 106,
   "id": "302d9516",
   "metadata": {},
   "outputs": [],
   "source": [
    "# split the data into the features and the dependent variable\n",
    "cols_to_keep = fact_data.columns.difference(['cdindex'])\n",
    "X = fact_data.loc[:,cols_to_keep]\n",
    "y = fact_data['cdindex']\n",
    "\n",
    "# create the training and test datasets\n",
    "X_train, X_test, y_train, y_test = train_test_split(X, y, random_state=42, test_size=0.3)"
   ]
  },
  {
   "cell_type": "markdown",
   "id": "a05c67e3",
   "metadata": {},
   "source": [
    "- we import the libraries and packages needed to train a neural network using `tensorflow`\n",
    "- we also set the seed value for the random number generators of three different libraries: NumPy, Python's built-in `random` library, and TensorFlow to grant reproducibility"
   ]
  },
  {
   "cell_type": "code",
   "execution_count": 107,
   "id": "0ba5bafb",
   "metadata": {},
   "outputs": [],
   "source": [
    "from tensorflow import keras\n",
    "from tensorflow.keras import layers\n",
    "import tensorflow as tf\n",
    "import random\n",
    "\n",
    "np.random.seed(0)\n",
    "random.seed(48) \n",
    "tf.random.set_seed(48)\n",
    "tf.keras.utils.set_random_seed(48)"
   ]
  },
  {
   "cell_type": "markdown",
   "id": "6d058e30",
   "metadata": {},
   "source": [
    "Our neural network will consist of 4 total layers (1 input, 2 hidden and 1 output)\n",
    "- the first layer will be a Normalization one as it improves convergence speed, increasing generalization performance, and reduces the likelihood of overfitting\n",
    "- the next 2 (Dense) hidden layers will have 64 neurons each and `relu` as the activation function\n",
    "- the last - output layer will have a single neuron as we need a single output from the network (regression problem predicting a continuous variable)"
   ]
  },
  {
   "cell_type": "markdown",
   "id": "d4ff358b",
   "metadata": {},
   "source": [
    "- notice that we use `adapt` for the Normalization layer to get to know the mean, variance and count of the dataset\n",
    "- the Normalizer adapts only on the train dataset as we can then ensure that the model is not influenced by the testing data"
   ]
  },
  {
   "cell_type": "code",
   "execution_count": 108,
   "id": "e9e04ce0",
   "metadata": {},
   "outputs": [
    {
     "name": "stderr",
     "output_type": "stream",
     "text": [
      "2023-02-26 19:39:48.809207: I tensorflow/core/platform/cpu_feature_guard.cc:193] This TensorFlow binary is optimized with oneAPI Deep Neural Network Library (oneDNN) to use the following CPU instructions in performance-critical operations:  SSE4.1 SSE4.2\n",
      "To enable them in other operations, rebuild TensorFlow with the appropriate compiler flags.\n"
     ]
    },
    {
     "name": "stdout",
     "output_type": "stream",
     "text": [
      "tf.Tensor([[11.82  3.59 23.44  2.32  8.39]], shape=(1, 5), dtype=float32)\n",
      "tf.Tensor([[ 31.33   5.64 275.9    1.65  13.88]], shape=(1, 5), dtype=float32)\n",
      "<tf.Variable 'count:0' shape=() dtype=int64, numpy=32314>\n"
     ]
    }
   ],
   "source": [
    "# adapt the normalization layer on the train dataset\n",
    "normalizer = layers.Normalization(axis=-1)\n",
    "normalizer.adapt(np.array(X_train))\n",
    "with np.printoptions(precision=2):\n",
    "    print(normalizer.mean)\n",
    "    print(normalizer.variance)\n",
    "    print(normalizer.count)"
   ]
  },
  {
   "cell_type": "markdown",
   "id": "e10e390f",
   "metadata": {},
   "source": [
    "We can then produce the network \n",
    "- as we have a regression problem implemented in the neural network, we use the `mean_squared_error` as a loss function \n",
    "- we also use the adam optimizer with 0.001 learning rate"
   ]
  },
  {
   "cell_type": "code",
   "execution_count": 109,
   "id": "2e02a79c",
   "metadata": {},
   "outputs": [],
   "source": [
    "initializer = tf.keras.initializers.GlorotUniform(seed=42)\n",
    "# specify the architecture of the model \n",
    "def build_compile_model():\n",
    "    model = keras.Sequential([\n",
    "        normalizer,\n",
    "        layers.Dense(64, activation='relu'),\n",
    "        layers.Dense(64, activation='relu'),\n",
    "        layers.Dense(1)\n",
    "    ])\n",
    "\n",
    "    model.compile(loss='mean_squared_error',\n",
    "                  optimizer=tf.keras.optimizers.Adam(0.001))\n",
    "    \n",
    "    return model\n",
    "\n",
    "model = build_compile_model()"
   ]
  },
  {
   "cell_type": "code",
   "execution_count": 110,
   "id": "e1fad4f1",
   "metadata": {},
   "outputs": [
    {
     "name": "stdout",
     "output_type": "stream",
     "text": [
      "Model: \"sequential\"\n",
      "_________________________________________________________________\n",
      " Layer (type)                Output Shape              Param #   \n",
      "=================================================================\n",
      " normalization (Normalizatio  (None, 5)                11        \n",
      " n)                                                              \n",
      "                                                                 \n",
      " dense (Dense)               (None, 64)                384       \n",
      "                                                                 \n",
      " dense_1 (Dense)             (None, 64)                4160      \n",
      "                                                                 \n",
      " dense_2 (Dense)             (None, 1)                 65        \n",
      "                                                                 \n",
      "=================================================================\n",
      "Total params: 4,620\n",
      "Trainable params: 4,609\n",
      "Non-trainable params: 11\n",
      "_________________________________________________________________\n"
     ]
    }
   ],
   "source": [
    "model.summary()"
   ]
  },
  {
   "cell_type": "markdown",
   "id": "0a959e1b",
   "metadata": {},
   "source": [
    "- we train our neural network on the train dataset in 100 epochs\n",
    "- in each epoch, we keep 20% of the data for validation\n",
    "- we keep the batch size to default (32)"
   ]
  },
  {
   "cell_type": "code",
   "execution_count": 111,
   "id": "b6ce0c2f",
   "metadata": {
    "scrolled": true
   },
   "outputs": [
    {
     "name": "stdout",
     "output_type": "stream",
     "text": [
      "Epoch 1/100\n",
      "808/808 [==============================] - 1s 585us/step - loss: 0.0707 - val_loss: 0.0285\n",
      "Epoch 2/100\n",
      "808/808 [==============================] - 0s 509us/step - loss: 0.0282 - val_loss: 0.0223\n",
      "Epoch 3/100\n",
      "808/808 [==============================] - 0s 506us/step - loss: 0.0240 - val_loss: 0.0191\n",
      "Epoch 4/100\n",
      "808/808 [==============================] - 0s 507us/step - loss: 0.0223 - val_loss: 0.0184\n",
      "Epoch 5/100\n",
      "808/808 [==============================] - 0s 508us/step - loss: 0.0210 - val_loss: 0.0169\n",
      "Epoch 6/100\n",
      "808/808 [==============================] - 0s 507us/step - loss: 0.0194 - val_loss: 0.0163\n",
      "Epoch 7/100\n",
      "808/808 [==============================] - 0s 506us/step - loss: 0.0176 - val_loss: 0.0145\n",
      "Epoch 8/100\n",
      "808/808 [==============================] - 0s 505us/step - loss: 0.0161 - val_loss: 0.0150\n",
      "Epoch 9/100\n",
      "808/808 [==============================] - 0s 503us/step - loss: 0.0149 - val_loss: 0.0138\n",
      "Epoch 10/100\n",
      "808/808 [==============================] - 0s 512us/step - loss: 0.0139 - val_loss: 0.0112\n",
      "Epoch 11/100\n",
      "808/808 [==============================] - 0s 506us/step - loss: 0.0130 - val_loss: 0.0118\n",
      "Epoch 12/100\n",
      "808/808 [==============================] - 0s 507us/step - loss: 0.0122 - val_loss: 0.0101\n",
      "Epoch 13/100\n",
      "808/808 [==============================] - 0s 510us/step - loss: 0.0120 - val_loss: 0.0141\n",
      "Epoch 14/100\n",
      "808/808 [==============================] - 0s 519us/step - loss: 0.0114 - val_loss: 0.0105\n",
      "Epoch 15/100\n",
      "808/808 [==============================] - 0s 506us/step - loss: 0.0109 - val_loss: 0.0098\n",
      "Epoch 16/100\n",
      "808/808 [==============================] - 0s 505us/step - loss: 0.0109 - val_loss: 0.0119\n",
      "Epoch 17/100\n",
      "808/808 [==============================] - 0s 506us/step - loss: 0.0108 - val_loss: 0.0090\n",
      "Epoch 18/100\n",
      "808/808 [==============================] - 0s 507us/step - loss: 0.0100 - val_loss: 0.0088\n",
      "Epoch 19/100\n",
      "808/808 [==============================] - 0s 508us/step - loss: 0.0102 - val_loss: 0.0083\n",
      "Epoch 20/100\n",
      "808/808 [==============================] - 0s 508us/step - loss: 0.0097 - val_loss: 0.0080\n",
      "Epoch 21/100\n",
      "808/808 [==============================] - 0s 507us/step - loss: 0.0099 - val_loss: 0.0085\n",
      "Epoch 22/100\n",
      "808/808 [==============================] - 0s 509us/step - loss: 0.0096 - val_loss: 0.0081\n",
      "Epoch 23/100\n",
      "808/808 [==============================] - 0s 508us/step - loss: 0.0096 - val_loss: 0.0086\n",
      "Epoch 24/100\n",
      "808/808 [==============================] - 0s 508us/step - loss: 0.0094 - val_loss: 0.0074\n",
      "Epoch 25/100\n",
      "808/808 [==============================] - 0s 507us/step - loss: 0.0095 - val_loss: 0.0083\n",
      "Epoch 26/100\n",
      "808/808 [==============================] - 0s 512us/step - loss: 0.0098 - val_loss: 0.0089\n",
      "Epoch 27/100\n",
      "808/808 [==============================] - 0s 507us/step - loss: 0.0092 - val_loss: 0.0082\n",
      "Epoch 28/100\n",
      "808/808 [==============================] - 0s 507us/step - loss: 0.0097 - val_loss: 0.0081\n",
      "Epoch 29/100\n",
      "808/808 [==============================] - 0s 506us/step - loss: 0.0091 - val_loss: 0.0077\n",
      "Epoch 30/100\n",
      "808/808 [==============================] - 0s 508us/step - loss: 0.0092 - val_loss: 0.0090\n",
      "Epoch 31/100\n",
      "808/808 [==============================] - 0s 509us/step - loss: 0.0089 - val_loss: 0.0073\n",
      "Epoch 32/100\n",
      "808/808 [==============================] - 0s 507us/step - loss: 0.0089 - val_loss: 0.0089\n",
      "Epoch 33/100\n",
      "808/808 [==============================] - 0s 506us/step - loss: 0.0096 - val_loss: 0.0098\n",
      "Epoch 34/100\n",
      "808/808 [==============================] - 0s 504us/step - loss: 0.0091 - val_loss: 0.0081\n",
      "Epoch 35/100\n",
      "808/808 [==============================] - 0s 507us/step - loss: 0.0094 - val_loss: 0.0073\n",
      "Epoch 36/100\n",
      "808/808 [==============================] - 0s 507us/step - loss: 0.0089 - val_loss: 0.0073\n",
      "Epoch 37/100\n",
      "808/808 [==============================] - 0s 504us/step - loss: 0.0090 - val_loss: 0.0082\n",
      "Epoch 38/100\n",
      "808/808 [==============================] - 0s 509us/step - loss: 0.0090 - val_loss: 0.0080\n",
      "Epoch 39/100\n",
      "808/808 [==============================] - 0s 508us/step - loss: 0.0092 - val_loss: 0.0072\n",
      "Epoch 40/100\n",
      "808/808 [==============================] - 0s 508us/step - loss: 0.0088 - val_loss: 0.0077\n",
      "Epoch 41/100\n",
      "808/808 [==============================] - 0s 503us/step - loss: 0.0086 - val_loss: 0.0080\n",
      "Epoch 42/100\n",
      "808/808 [==============================] - 0s 507us/step - loss: 0.0092 - val_loss: 0.0080\n",
      "Epoch 43/100\n",
      "808/808 [==============================] - 0s 508us/step - loss: 0.0087 - val_loss: 0.0075\n",
      "Epoch 44/100\n",
      "808/808 [==============================] - 0s 508us/step - loss: 0.0094 - val_loss: 0.0076\n",
      "Epoch 45/100\n",
      "808/808 [==============================] - 0s 508us/step - loss: 0.0086 - val_loss: 0.0077\n",
      "Epoch 46/100\n",
      "808/808 [==============================] - 0s 506us/step - loss: 0.0089 - val_loss: 0.0085\n",
      "Epoch 47/100\n",
      "808/808 [==============================] - 0s 508us/step - loss: 0.0087 - val_loss: 0.0077\n",
      "Epoch 48/100\n",
      "808/808 [==============================] - 0s 506us/step - loss: 0.0091 - val_loss: 0.0076\n",
      "Epoch 49/100\n",
      "808/808 [==============================] - 0s 509us/step - loss: 0.0087 - val_loss: 0.0088\n",
      "Epoch 50/100\n",
      "808/808 [==============================] - 0s 507us/step - loss: 0.0086 - val_loss: 0.0082\n",
      "Epoch 51/100\n",
      "808/808 [==============================] - 0s 505us/step - loss: 0.0087 - val_loss: 0.0072\n",
      "Epoch 52/100\n",
      "808/808 [==============================] - 0s 508us/step - loss: 0.0087 - val_loss: 0.0077\n",
      "Epoch 53/100\n",
      "808/808 [==============================] - 0s 508us/step - loss: 0.0087 - val_loss: 0.0079\n",
      "Epoch 54/100\n",
      "808/808 [==============================] - 0s 513us/step - loss: 0.0089 - val_loss: 0.0116\n",
      "Epoch 55/100\n",
      "808/808 [==============================] - 0s 508us/step - loss: 0.0086 - val_loss: 0.0108\n",
      "Epoch 56/100\n",
      "808/808 [==============================] - 0s 511us/step - loss: 0.0087 - val_loss: 0.0089\n",
      "Epoch 57/100\n",
      "808/808 [==============================] - 0s 509us/step - loss: 0.0088 - val_loss: 0.0075\n",
      "Epoch 58/100\n",
      "808/808 [==============================] - 0s 509us/step - loss: 0.0084 - val_loss: 0.0073\n",
      "Epoch 59/100\n",
      "808/808 [==============================] - 0s 519us/step - loss: 0.0083 - val_loss: 0.0072\n",
      "Epoch 60/100\n",
      "808/808 [==============================] - 0s 509us/step - loss: 0.0087 - val_loss: 0.0075\n",
      "Epoch 61/100\n",
      "808/808 [==============================] - 0s 511us/step - loss: 0.0086 - val_loss: 0.0076\n",
      "Epoch 62/100\n",
      "808/808 [==============================] - 0s 509us/step - loss: 0.0087 - val_loss: 0.0076\n",
      "Epoch 63/100\n",
      "808/808 [==============================] - 0s 508us/step - loss: 0.0083 - val_loss: 0.0076\n",
      "Epoch 64/100\n",
      "808/808 [==============================] - 0s 511us/step - loss: 0.0085 - val_loss: 0.0090\n",
      "Epoch 65/100\n",
      "808/808 [==============================] - 0s 515us/step - loss: 0.0086 - val_loss: 0.0071\n",
      "Epoch 66/100\n",
      "808/808 [==============================] - 0s 519us/step - loss: 0.0087 - val_loss: 0.0087\n",
      "Epoch 67/100\n",
      "808/808 [==============================] - 0s 510us/step - loss: 0.0086 - val_loss: 0.0082\n",
      "Epoch 68/100\n",
      "808/808 [==============================] - 0s 512us/step - loss: 0.0086 - val_loss: 0.0075\n",
      "Epoch 69/100\n",
      "808/808 [==============================] - 0s 510us/step - loss: 0.0087 - val_loss: 0.0111\n",
      "Epoch 70/100\n",
      "808/808 [==============================] - 0s 510us/step - loss: 0.0084 - val_loss: 0.0082\n",
      "Epoch 71/100\n",
      "808/808 [==============================] - 0s 509us/step - loss: 0.0085 - val_loss: 0.0075\n",
      "Epoch 72/100\n",
      "808/808 [==============================] - 0s 509us/step - loss: 0.0084 - val_loss: 0.0073\n",
      "Epoch 73/100\n",
      "808/808 [==============================] - 0s 509us/step - loss: 0.0085 - val_loss: 0.0071\n",
      "Epoch 74/100\n",
      "808/808 [==============================] - 0s 510us/step - loss: 0.0084 - val_loss: 0.0072\n",
      "Epoch 75/100\n",
      "808/808 [==============================] - 0s 510us/step - loss: 0.0084 - val_loss: 0.0071\n",
      "Epoch 76/100\n",
      "808/808 [==============================] - 0s 517us/step - loss: 0.0083 - val_loss: 0.0072\n",
      "Epoch 77/100\n",
      "808/808 [==============================] - 0s 508us/step - loss: 0.0080 - val_loss: 0.0079\n",
      "Epoch 78/100\n",
      "808/808 [==============================] - 0s 506us/step - loss: 0.0089 - val_loss: 0.0090\n",
      "Epoch 79/100\n",
      "808/808 [==============================] - 0s 509us/step - loss: 0.0082 - val_loss: 0.0073\n"
     ]
    },
    {
     "name": "stdout",
     "output_type": "stream",
     "text": [
      "Epoch 80/100\n",
      "808/808 [==============================] - 0s 510us/step - loss: 0.0084 - val_loss: 0.0071\n",
      "Epoch 81/100\n",
      "808/808 [==============================] - 0s 508us/step - loss: 0.0084 - val_loss: 0.0071\n",
      "Epoch 82/100\n",
      "808/808 [==============================] - 0s 508us/step - loss: 0.0084 - val_loss: 0.0080\n",
      "Epoch 83/100\n",
      "808/808 [==============================] - 0s 509us/step - loss: 0.0086 - val_loss: 0.0073\n",
      "Epoch 84/100\n",
      "808/808 [==============================] - 0s 508us/step - loss: 0.0083 - val_loss: 0.0080\n",
      "Epoch 85/100\n",
      "808/808 [==============================] - 0s 509us/step - loss: 0.0085 - val_loss: 0.0076\n",
      "Epoch 86/100\n",
      "808/808 [==============================] - 0s 509us/step - loss: 0.0083 - val_loss: 0.0083\n",
      "Epoch 87/100\n",
      "808/808 [==============================] - 0s 510us/step - loss: 0.0082 - val_loss: 0.0076\n",
      "Epoch 88/100\n",
      "808/808 [==============================] - 0s 509us/step - loss: 0.0083 - val_loss: 0.0074\n",
      "Epoch 89/100\n",
      "808/808 [==============================] - 0s 510us/step - loss: 0.0083 - val_loss: 0.0071\n",
      "Epoch 90/100\n",
      "808/808 [==============================] - 0s 509us/step - loss: 0.0083 - val_loss: 0.0076\n",
      "Epoch 91/100\n",
      "808/808 [==============================] - 0s 509us/step - loss: 0.0082 - val_loss: 0.0080\n",
      "Epoch 92/100\n",
      "808/808 [==============================] - 0s 510us/step - loss: 0.0081 - val_loss: 0.0073\n",
      "Epoch 93/100\n",
      "808/808 [==============================] - 0s 508us/step - loss: 0.0081 - val_loss: 0.0076\n",
      "Epoch 94/100\n",
      "808/808 [==============================] - 0s 510us/step - loss: 0.0084 - val_loss: 0.0070\n",
      "Epoch 95/100\n",
      "808/808 [==============================] - 0s 508us/step - loss: 0.0081 - val_loss: 0.0076\n",
      "Epoch 96/100\n",
      "808/808 [==============================] - 0s 509us/step - loss: 0.0083 - val_loss: 0.0076\n",
      "Epoch 97/100\n",
      "808/808 [==============================] - 0s 509us/step - loss: 0.0081 - val_loss: 0.0074\n",
      "Epoch 98/100\n",
      "808/808 [==============================] - 0s 509us/step - loss: 0.0083 - val_loss: 0.0072\n",
      "Epoch 99/100\n",
      "808/808 [==============================] - 0s 509us/step - loss: 0.0082 - val_loss: 0.0070\n",
      "Epoch 100/100\n",
      "808/808 [==============================] - 0s 510us/step - loss: 0.0083 - val_loss: 0.0073\n"
     ]
    }
   ],
   "source": [
    "num_epochs = 100\n",
    "\n",
    "# fit the model\n",
    "history = model.fit(\n",
    "    np.array(X_train), \n",
    "    np.array(y_train),\n",
    "    epochs=num_epochs, \n",
    "    validation_split=0.2,\n",
    "    verbose=1)"
   ]
  },
  {
   "cell_type": "markdown",
   "id": "e4cd8189",
   "metadata": {},
   "source": [
    "- to evaluate the network, we use the $R^2$ score and the `mean_squared_error` metric\n",
    "- the `model.evaluate()` method returns the `mean_squared_error` score. We use this method on the test dataset\n",
    "\n",
    "- despite the fact that the $R^2$ score is the same as the xgb and random forest models, the `mean_squared_error` metric is significantly smaller\n",
    "    - 0.008 in the neural network\n",
    "    - 0.01 in the decission tree models\n",
    "    \n",
    "In general, the neural network outperforms the other models."
   ]
  },
  {
   "cell_type": "code",
   "execution_count": 112,
   "id": "2ce492cf",
   "metadata": {
    "scrolled": false
   },
   "outputs": [
    {
     "name": "stdout",
     "output_type": "stream",
     "text": [
      "433/433 [==============================] - 0s 302us/step\n",
      "MEAN error:  0.008416855707764626\n",
      "R2 Score: 0.96\n"
     ]
    }
   ],
   "source": [
    "# make predictions on the test dataset\n",
    "test_predictions = model.predict(np.array(X_test)).flatten()\n",
    "# print the evaluation metrics\n",
    "print(\"MEAN error: \", model.evaluate(np.array(X_test), np.array(y_test), verbose=0))\n",
    "print(f\"R2 Score: {r2_score(test_predictions, y_test):.2f}\")"
   ]
  },
  {
   "cell_type": "markdown",
   "id": "3e89ce26",
   "metadata": {},
   "source": [
    "Graphicaly, the truth vs predicted values plot looks like the other models. <br>\n",
    "\n",
    "**Fact:** Although the Truths vs Predictions plot is not that good, the $R^2$ metric is exceptionally high. This happens because of the fact that the values that the model fails to predict account for a very small percentage of the total sample and thus do not affect the `mean_absolute_error` and `mean_squared_error` metrics."
   ]
  },
  {
   "cell_type": "code",
   "execution_count": 113,
   "id": "07f0fd50",
   "metadata": {},
   "outputs": [
    {
     "data": {
      "image/png": "[encoded data removed]",
      "text/plain": [
       "<Figure size 288x288 with 1 Axes>"
      ]
     },
     "metadata": {
      "needs_background": "light"
     },
     "output_type": "display_data"
    }
   ],
   "source": [
    "plt.figure(figsize=(4, 4))\n",
    "a = plt.axes(aspect='equal')\n",
    "plt.scatter(y_test, test_predictions, alpha=0.2)\n",
    "plt.xlabel('True Values')\n",
    "plt.ylabel('Predictions')\n",
    "lims = [-1.2, 1.2]\n",
    "plt.xlim(lims)\n",
    "plt.ylim(lims)\n",
    "_ = plt.plot(lims, lims)"
   ]
  },
  {
   "cell_type": "markdown",
   "id": "3630fae8",
   "metadata": {},
   "source": [
    "- in order to assess the network in terms of overfitting or underfitting, we create graph showing the loss in training and validation\n",
    "- to avoid overfitting, the training loss and validation loss should be close to each other and not diverge much\n",
    "- as we can see in the graph below, the two lines are close to each other and thus the model did not overfit."
   ]
  },
  {
   "cell_type": "code",
   "execution_count": 114,
   "id": "31d4cd6a",
   "metadata": {},
   "outputs": [
    {
     "data": {
      "image/png": "[encoded data removed]",
      "text/plain": [
       "<Figure size 360x216 with 1 Axes>"
      ]
     },
     "metadata": {
      "needs_background": "light"
     },
     "output_type": "display_data"
    }
   ],
   "source": [
    "def plot_loss(history):\n",
    "    plt.figure(figsize=(5, 3))\n",
    "    plt.plot(history.history['loss'], label='loss')\n",
    "    plt.plot(history.history['val_loss'], label='val_loss')\n",
    "    plt.xlabel('Epoch')\n",
    "    plt.ylabel('Error')\n",
    "    plt.legend()\n",
    "    plt.grid(True)\n",
    "plot_loss(history)"
   ]
  },
  {
   "cell_type": "markdown",
   "id": "939545ee",
   "metadata": {},
   "source": [
    "### Turning the regression into a classification problem\n",
    "\n",
    "As we have seen above, the regression models are heavily affected by the strong data imbalance and perform well only on `cdindex` values for which we have sufficient training data. <br>\n",
    "We decide to turn the problem into a classification one. For classification problems, there are many popular techniques to perform sample balancing which seems inevitable for our type of problem."
   ]
  },
  {
   "cell_type": "markdown",
   "id": "61d920c4",
   "metadata": {},
   "source": [
    "- the first step is to find proper bins and define the classes\n",
    "- the histogram below shows that most data have a `cdindex` around 0 and 1\n",
    "- there are also some empty zones (little or no data)\n",
    "    - (-1 -0.25]\n",
    "    - (0.25 - 1]\n",
    "    \n",
    "**Note:** We will use the same fact table i.e. the same features as we used for the above neural network."
   ]
  },
  {
   "cell_type": "code",
   "execution_count": 115,
   "id": "730665ee",
   "metadata": {},
   "outputs": [
    {
     "data": {
      "image/png": "[encoded data removed]",
      "text/plain": [
       "<Figure size 432x288 with 1 Axes>"
      ]
     },
     "metadata": {
      "needs_background": "light"
     },
     "output_type": "display_data"
    }
   ],
   "source": [
    "classification_fact_data = fact_data.copy()\n",
    "_ = sns.histplot(classification_fact_data['cdindex'], bins=100, kde=False)"
   ]
  },
  {
   "cell_type": "code",
   "execution_count": 116,
   "id": "21673afe",
   "metadata": {},
   "outputs": [
    {
     "name": "stdout",
     "output_type": "stream",
     "text": [
      "Values below -0.25:  103\n",
      "Values between 0.25 and : 1 373\n"
     ]
    }
   ],
   "source": [
    "# calculate the outlier counts\n",
    "v1 = sum(classification_fact_data['cdindex'] < -0.25)\n",
    "v2 = sum((classification_fact_data['cdindex'] > 0.25) & (classification_fact_data['cdindex'] < 1))\n",
    "print(\"Values below -0.25: \", v1)\n",
    "print(\"Values between 0.25 and : 1\", v2)"
   ]
  },
  {
   "cell_type": "markdown",
   "id": "034f0b13",
   "metadata": {},
   "source": [
    "- An initial approach could be to create 2 classes. The one would contain the `cdindex` ≈ 0 and the other `cdindex` values ≈ 1\n",
    "- Although, this approach is very specific to our current dataset\n",
    "- Ultimately, we decide to split the dataset based on the `cdindex` values in 3 equally sized bins as shown below"
   ]
  },
  {
   "cell_type": "code",
   "execution_count": 117,
   "id": "e91ad6d3",
   "metadata": {},
   "outputs": [
    {
     "data": {
      "text/plain": [
       "[(-0.333, 0.333], (0.333, 1.0], (-1.002, -0.333]]\n",
       "Categories (3, interval[float64, right]): [(-1.002, -0.333] < (-0.333, 0.333] < (0.333, 1.0]]"
      ]
     },
     "execution_count": 117,
     "metadata": {},
     "output_type": "execute_result"
    }
   ],
   "source": [
    "pd.cut(classification_fact_data['cdindex'], 3).unique()"
   ]
  },
  {
   "cell_type": "code",
   "execution_count": 118,
   "id": "683faf51",
   "metadata": {},
   "outputs": [],
   "source": [
    "classification_fact_data['class'] = pd.cut(fact_data['cdindex'], 3, labels=False)\n",
    "\n",
    "# create a labels dictionary to rename the classes created\n",
    "labels = {\n",
    "    0 : 'low',\n",
    "    1 : 'medium',\n",
    "    2 : 'high'\n",
    "}\n",
    "classification_fact_data.drop(columns='cdindex', inplace=True)"
   ]
  },
  {
   "cell_type": "markdown",
   "id": "8e9e4a82",
   "metadata": {},
   "source": [
    "- After the binning most values belong to the `cdindex` medium class\n",
    "- The data imbalance persists as we have few data in the low class"
   ]
  },
  {
   "cell_type": "code",
   "execution_count": 119,
   "id": "caa2591f",
   "metadata": {},
   "outputs": [
    {
     "data": {
      "text/plain": [
       "<AxesSubplot:>"
      ]
     },
     "execution_count": 119,
     "metadata": {},
     "output_type": "execute_result"
    },
    {
     "data": {
      "image/png": "[encoded data removed]",
      "text/plain": [
       "<Figure size 432x288 with 1 Axes>"
      ]
     },
     "metadata": {
      "needs_background": "light"
     },
     "output_type": "display_data"
    }
   ],
   "source": [
    "classification_fact_data['class'].map(labels).value_counts().plot.barh()"
   ]
  },
  {
   "cell_type": "markdown",
   "id": "39a1f3fa",
   "metadata": {},
   "source": [
    "- As noted above, there are many popular techniques to balance the dataset in a classification problem\n",
    "- We will use the `SMOTE` oversampler which generates synthetic examples of the minority class by interpolating between the existing examples. It does this by selecting a random minority-class example and then choosing one or more of its nearest neighbors (also minority-class examples).\n",
    "- The balancing is applied on the train dataset."
   ]
  },
  {
   "cell_type": "code",
   "execution_count": 120,
   "id": "79316252",
   "metadata": {},
   "outputs": [],
   "source": [
    "# split the independent features from the dependent variable\n",
    "cols_to_keep = classification_fact_data.columns.difference(['class'])\n",
    "X = classification_fact_data.loc[:,cols_to_keep]\n",
    "y = classification_fact_data['class']\n",
    "\n",
    "# create the training and testing dataset\n",
    "X_train_class, X_test_class, y_train_class, y_test_class = train_test_split(X, y, random_state=42, test_size=0.3)"
   ]
  },
  {
   "cell_type": "markdown",
   "id": "ff195303",
   "metadata": {},
   "source": [
    "Notice that after the oversampling all of the 3 classes have equal number of data."
   ]
  },
  {
   "cell_type": "code",
   "execution_count": 121,
   "id": "35b14aca",
   "metadata": {},
   "outputs": [
    {
     "name": "stdout",
     "output_type": "stream",
     "text": [
      "Before SMOTE: [   51 22448  9815]\n",
      "After SMOTE: [22448 22448 22448]\n"
     ]
    }
   ],
   "source": [
    "from imblearn.over_sampling import SMOTE\n",
    "\n",
    "# balance the dataset using the SMOTE oversampling technique\n",
    "smote_features, smote_labels = SMOTE().fit_resample(X_train_class, y_train_class)\n",
    "print('Before SMOTE:', np.bincount(y_train_class))\n",
    "print('After SMOTE:', np.bincount(smote_labels))"
   ]
  },
  {
   "cell_type": "markdown",
   "id": "a46360d5",
   "metadata": {},
   "source": [
    "We will train an `XGBClassifier` on our train dataset."
   ]
  },
  {
   "cell_type": "code",
   "execution_count": 122,
   "id": "f5674a0e",
   "metadata": {},
   "outputs": [
    {
     "data": {
      "text/plain": [
       "XGBClassifier(base_score=0.5, booster='gbtree', callbacks=None,\n",
       "              colsample_bylevel=1, colsample_bynode=1, colsample_bytree=1,\n",
       "              early_stopping_rounds=None, enable_categorical=False,\n",
       "              eval_metric=None, feature_types=None, gamma=0, gpu_id=-1,\n",
       "              grow_policy='depthwise', importance_type=None,\n",
       "              interaction_constraints='', learning_rate=0.1, max_bin=256,\n",
       "              max_cat_threshold=64, max_cat_to_onehot=4, max_delta_step=0,\n",
       "              max_depth=5, max_leaves=0, min_child_weight=1, missing=nan,\n",
       "              monotone_constraints='()', n_estimators=1000, n_jobs=0,\n",
       "              num_parallel_tree=1, objective='multi:softprob', predictor='auto', ...)"
      ]
     },
     "execution_count": 122,
     "metadata": {},
     "output_type": "execute_result"
    }
   ],
   "source": [
    "from sklearn.metrics import confusion_matrix\n",
    "from sklearn.metrics import classification_report\n",
    "\n",
    "clf = xgb.XGBClassifier(n_estimators=1000, learning_rate=0.1, max_depth=5)\n",
    "\n",
    "# Train the classifier on the training set\n",
    "clf.fit(smote_features, smote_labels)"
   ]
  },
  {
   "cell_type": "markdown",
   "id": "5bfd50e8",
   "metadata": {},
   "source": [
    "At first sight, the results seem promising as the Accuracy Score on the test dataset is ≈ 98.5%"
   ]
  },
  {
   "cell_type": "code",
   "execution_count": 123,
   "id": "a298835e",
   "metadata": {},
   "outputs": [
    {
     "name": "stdout",
     "output_type": "stream",
     "text": [
      "Accuracy: 98.42%\n"
     ]
    }
   ],
   "source": [
    "from sklearn.metrics import accuracy_score\n",
    "\n",
    "# Make predictions on the test set\n",
    "y_pred = clf.predict(X_test_class)\n",
    "\n",
    "# Evaluate the accuracy of the classifier\n",
    "accuracy = accuracy_score(y_test_class, y_pred)\n",
    "print(\"Accuracy: %.2f%%\" % (accuracy * 100.0))"
   ]
  },
  {
   "cell_type": "markdown",
   "id": "f8f251e0",
   "metadata": {},
   "source": [
    "Lets define some evaluation metrics for a classification problem first\n",
    "\n",
    "- Precision: Precision measures the proportion of true positives among the instances that the model predicted as positive. In other words, precision measures how often the model is correct when it predicts a positive label.\n",
    "\n",
    "- Recall:Recall measures the proportion of true positives among all the instances that are actually positive. In other words, recall measures how often the model correctly identifies positive instances.\n",
    "\n",
    "- Accuracy: Accuracy measures the proportion of correct predictions among all the instances. In other words, accuracy measures how often the model is correct in predicting both positive and negative labels."
   ]
  },
  {
   "cell_type": "markdown",
   "id": "e74c4026",
   "metadata": {},
   "source": [
    "- After asessing the classification report we can conclude to the fact that our model is not that accurate\n",
    "- Notice that both `precision` and `recall` metrics for class 0 (low) are disappointing\n",
    "- The model works perfectly for the medium (1) and high (2) class\n",
    "- Despite the SMOTE balancing technique we applied, the model is not performing well in the (initial) minority class\n",
    "    - this happens as for the class 0 (low) we have little data meaning that the oversampling technique cannot generate a representative amount of data"
   ]
  },
  {
   "cell_type": "code",
   "execution_count": 124,
   "id": "258c07a6",
   "metadata": {},
   "outputs": [
    {
     "name": "stdout",
     "output_type": "stream",
     "text": [
      "              precision    recall  f1-score   support\n",
      "\n",
      "           0       0.17      0.04      0.07        23\n",
      "           1       0.98      0.99      0.99      9528\n",
      "           2       0.99      0.97      0.98      4299\n",
      "\n",
      "    accuracy                           0.98     13850\n",
      "   macro avg       0.71      0.67      0.68     13850\n",
      "weighted avg       0.98      0.98      0.98     13850\n",
      "\n"
     ]
    }
   ],
   "source": [
    "cr = classification_report(y_test_class, y_pred)\n",
    "print(cr)"
   ]
  },
  {
   "cell_type": "markdown",
   "id": "916e3a94",
   "metadata": {},
   "source": [
    "Our conclusions are also validated from the confusion matrix\n",
    "\n",
    "- Out of 23 samples in the 0 (low) class the model correclty identifies only 1 of them. The other 22 are misclassified in class 1 (medium)\n",
    "- In classes 1 (medium) and 2 (high) the model predicts the overwhelming majority of samples correctly"
   ]
  },
  {
   "cell_type": "code",
   "execution_count": 125,
   "id": "9dec0a44",
   "metadata": {
    "scrolled": false
   },
   "outputs": [
    {
     "data": {
      "image/png": "[encoded data removed]",
      "text/plain": [
       "<Figure size 360x360 with 2 Axes>"
      ]
     },
     "metadata": {
      "needs_background": "light"
     },
     "output_type": "display_data"
    }
   ],
   "source": [
    "def plot_cm(labels, predictions, p=0.5):\n",
    "    cm = confusion_matrix(labels, predictions)\n",
    "    plt.figure(figsize=(5,5))\n",
    "    sns.heatmap(cm, annot=True, fmt=\"d\")\n",
    "    plt.title('Confusion matrix'.format(p))\n",
    "    plt.ylabel('Actual label')\n",
    "    plt.xlabel('Predicted label')\n",
    "    \n",
    "    return cm\n",
    "cm = plot_cm(y_test_class, y_pred)"
   ]
  },
  {
   "cell_type": "markdown",
   "id": "7c735a9e",
   "metadata": {},
   "source": [
    "In the event of having the whole dataset at our disposal, an approach with 5 equal sized bins would be better. The bins split could happen based on the intervals below\n",
    "- $\\left[ -1, -0.6 \\right)$\n",
    "- $\\left[ -0.6, -0.2 \\right)$\n",
    "- $\\left[ -0.2, 0.2 \\right)$\n",
    "- $\\left[ 0.2, 0.6 \\right)$\n",
    "- $\\left[ 0.6, 1\\right]$\n",
    "\n"
   ]
  },
  {
   "cell_type": "markdown",
   "id": "3335aa12",
   "metadata": {},
   "source": [
    "### Word embeddings\n",
    "\n",
    "We will try to exploit the abstracts in a more in depth way by using word embeddings.\n",
    "\n",
    "Word embeddings are a type of numerical representation of words in natural language processing (NLP). These embeddings are designed to capture the semantic meaning of words in a language by mapping each word to a high-dimensional vector. Word embeddings are usually learned from large datasets using machine learning algorithms, such as neural networks.\n",
    "\n",
    "Instead of training a model to find the word embeddings on our datasets vocabulary, we will use a pre-trained model. This approach also helps avoid using future information, as training a model on our dataset and getting the word embeddings for a papers abstract entails using words which have not been used before its publication date (ex special terminology). Also, a pre-trained model saves us a lot of time and effort to get the vectors on our own. On the other hand, a pre-trained model might fail to identify words on which it has not been trained on.\n",
    "\n",
    "After getting the embeddings vector for each word of each abstract, we will combine this information with the above metrics."
   ]
  },
  {
   "cell_type": "code",
   "execution_count": 126,
   "id": "b2b90899",
   "metadata": {},
   "outputs": [],
   "source": [
    "# get the abstracts of the works we will use\n",
    "to_embed = works.loc[:,['id', 'doi', 'title', 'abstract']]\n",
    "to_embed = pd.merge(to_embed, cdindex, on='doi')"
   ]
  },
  {
   "cell_type": "markdown",
   "id": "62171618",
   "metadata": {},
   "source": [
    "Our fact table containing the calculated metrics will look like the one we used to train the regression neural network"
   ]
  },
  {
   "cell_type": "code",
   "execution_count": 127,
   "id": "cf376771",
   "metadata": {},
   "outputs": [],
   "source": [
    "fact_data = works.copy()\n",
    "fact_data.drop(columns=['doi', 'published_month', 'title', 'abstract', 'published_day', 'lang'], inplace=True)\n",
    "cdindex_work = pd.merge(works.loc[:,['doi','id']], cdindex, on='doi')\n",
    "fact_data = pd.merge(fact_data, cdindex_work.loc[:,['id', 'cdindex']], on='id')\n",
    "fact_data.set_index('id', inplace=True)\n",
    "\n",
    "# number of subjects\n",
    "fact_data = pd.merge(fact_data, work_num_subjects, left_index=True, right_index=True, how='left')\n",
    "# number of authors\n",
    "fact_data = pd.merge(fact_data, work_num_authors, left_index=True, right_index=True, how='left')\n",
    "# number of references\n",
    "fact_data = pd.merge(fact_data, work_num_references, left_index=True, right_index=True, how='left')\n",
    "# the mean age of the referenced papers\n",
    "fact_data = pd.merge(fact_data, works_ref_year, left_index=True, right_index=True, how='left')\n",
    "fact_data['mean_references_age'] = fact_data['published_year'] - fact_data['mean_age']\n",
    "fact_data.drop(columns='mean_age', inplace=True)\n",
    "# the age variance of the referenced papers\n",
    "fact_data = pd.merge(fact_data, works_ref_year_std, left_index=True, right_index=True, how='left')\n",
    "\n",
    "# remove values which have a negative mean references age \n",
    "fact_data['mean_references_age'] = fact_data['mean_references_age'].mask(fact_data['mean_references_age'] < 0, np.nan)\n",
    "\n",
    "# fill all the nan values with the mean of the corresponding metric\n",
    "fact_data['num_subjects'] = fact_data['num_subjects'].fillna(fact_data['num_subjects'].mean())\n",
    "fact_data['num_authors'] = fact_data['num_authors'].fillna(fact_data['num_authors'].mean())\n",
    "fact_data['num_references'] = fact_data['num_references'].fillna(fact_data['num_references'].mean())\n",
    "fact_data['mean_references_age'] = fact_data['mean_references_age'].fillna(fact_data['mean_references_age'].mean())\n",
    "fact_data['ref_year_std'] = fact_data['ref_year_std'].fillna(fact_data['ref_year_std'].mean())\n",
    "\n",
    "fact_data.drop(columns=['published_year'], inplace=True)\n",
    "# fact_data.dropna(inplace=True)"
   ]
  },
  {
   "cell_type": "code",
   "execution_count": 128,
   "id": "973b75e2",
   "metadata": {
    "scrolled": false
   },
   "outputs": [
    {
     "data": {
      "text/html": [
       "<div>\n",
       "<style scoped>\n",
       "    .dataframe tbody tr th:only-of-type {\n",
       "        vertical-align: middle;\n",
       "    }\n",
       "\n",
       "    .dataframe tbody tr th {\n",
       "        vertical-align: top;\n",
       "    }\n",
       "\n",
       "    .dataframe thead th {\n",
       "        text-align: right;\n",
       "    }\n",
       "</style>\n",
       "<table border=\"1\" class=\"dataframe\">\n",
       "  <thead>\n",
       "    <tr style=\"text-align: right;\">\n",
       "      <th></th>\n",
       "      <th>cdindex</th>\n",
       "      <th>num_subjects</th>\n",
       "      <th>num_authors</th>\n",
       "      <th>num_references</th>\n",
       "      <th>mean_references_age</th>\n",
       "      <th>ref_year_std</th>\n",
       "    </tr>\n",
       "  </thead>\n",
       "  <tbody>\n",
       "    <tr>\n",
       "      <th>count</th>\n",
       "      <td>46164.000000</td>\n",
       "      <td>46164.000000</td>\n",
       "      <td>46164.000000</td>\n",
       "      <td>46164.000000</td>\n",
       "      <td>46164.000000</td>\n",
       "      <td>46164.000000</td>\n",
       "    </tr>\n",
       "    <tr>\n",
       "      <th>mean</th>\n",
       "      <td>0.299760</td>\n",
       "      <td>2.325664</td>\n",
       "      <td>3.594685</td>\n",
       "      <td>23.468839</td>\n",
       "      <td>11.827446</td>\n",
       "      <td>8.389787</td>\n",
       "    </tr>\n",
       "    <tr>\n",
       "      <th>std</th>\n",
       "      <td>0.461007</td>\n",
       "      <td>1.278080</td>\n",
       "      <td>2.379164</td>\n",
       "      <td>16.616962</td>\n",
       "      <td>5.593484</td>\n",
       "      <td>3.719458</td>\n",
       "    </tr>\n",
       "    <tr>\n",
       "      <th>min</th>\n",
       "      <td>-1.000000</td>\n",
       "      <td>1.000000</td>\n",
       "      <td>1.000000</td>\n",
       "      <td>0.000000</td>\n",
       "      <td>0.000000</td>\n",
       "      <td>0.000000</td>\n",
       "    </tr>\n",
       "    <tr>\n",
       "      <th>25%</th>\n",
       "      <td>-0.002168</td>\n",
       "      <td>1.000000</td>\n",
       "      <td>2.000000</td>\n",
       "      <td>12.000000</td>\n",
       "      <td>9.500000</td>\n",
       "      <td>7.366652</td>\n",
       "    </tr>\n",
       "    <tr>\n",
       "      <th>50%</th>\n",
       "      <td>0.000000</td>\n",
       "      <td>2.000000</td>\n",
       "      <td>3.000000</td>\n",
       "      <td>23.468839</td>\n",
       "      <td>11.827446</td>\n",
       "      <td>8.389787</td>\n",
       "    </tr>\n",
       "    <tr>\n",
       "      <th>75%</th>\n",
       "      <td>1.000000</td>\n",
       "      <td>3.000000</td>\n",
       "      <td>5.000000</td>\n",
       "      <td>27.000000</td>\n",
       "      <td>11.827446</td>\n",
       "      <td>8.389787</td>\n",
       "    </tr>\n",
       "    <tr>\n",
       "      <th>max</th>\n",
       "      <td>1.000000</td>\n",
       "      <td>11.000000</td>\n",
       "      <td>12.000000</td>\n",
       "      <td>107.000000</td>\n",
       "      <td>77.000000</td>\n",
       "      <td>46.669048</td>\n",
       "    </tr>\n",
       "  </tbody>\n",
       "</table>\n",
       "</div>"
      ],
      "text/plain": [
       "            cdindex  num_subjects   num_authors  num_references  \\\n",
       "count  46164.000000  46164.000000  46164.000000    46164.000000   \n",
       "mean       0.299760      2.325664      3.594685       23.468839   \n",
       "std        0.461007      1.278080      2.379164       16.616962   \n",
       "min       -1.000000      1.000000      1.000000        0.000000   \n",
       "25%       -0.002168      1.000000      2.000000       12.000000   \n",
       "50%        0.000000      2.000000      3.000000       23.468839   \n",
       "75%        1.000000      3.000000      5.000000       27.000000   \n",
       "max        1.000000     11.000000     12.000000      107.000000   \n",
       "\n",
       "       mean_references_age  ref_year_std  \n",
       "count         46164.000000  46164.000000  \n",
       "mean             11.827446      8.389787  \n",
       "std               5.593484      3.719458  \n",
       "min               0.000000      0.000000  \n",
       "25%               9.500000      7.366652  \n",
       "50%              11.827446      8.389787  \n",
       "75%              11.827446      8.389787  \n",
       "max              77.000000     46.669048  "
      ]
     },
     "execution_count": 128,
     "metadata": {},
     "output_type": "execute_result"
    }
   ],
   "source": [
    "fact_data.describe()"
   ]
  },
  {
   "cell_type": "code",
   "execution_count": 129,
   "id": "05f557e0",
   "metadata": {},
   "outputs": [],
   "source": [
    "# split the features from the dependent variable\n",
    "cols_to_keep = fact_data.columns.difference(['cdindex'])\n",
    "X = fact_data.loc[:,cols_to_keep]\n",
    "y = fact_data['cdindex']\n",
    "\n",
    "# create a train and testing dataset\n",
    "X_train, X_test, y_train, y_test = train_test_split(X, y, random_state=42, test_size=0.3)"
   ]
  },
  {
   "cell_type": "markdown",
   "id": "de107dfd",
   "metadata": {},
   "source": [
    "As we did with the other NLP tasks, we will preprocess our abstarcts.\n",
    "- we lower all the words\n",
    "- remove punctuation and special characters\n",
    "- remove stop words \n",
    "- apply stemming and tokenization"
   ]
  },
  {
   "cell_type": "code",
   "execution_count": 130,
   "id": "45172b22",
   "metadata": {},
   "outputs": [
    {
     "name": "stderr",
     "output_type": "stream",
     "text": [
      "[nltk_data] Downloading package stopwords to\n",
      "[nltk_data]     /Users/dimitrisbouris/nltk_data...\n",
      "[nltk_data]   Package stopwords is already up-to-date!\n",
      "[nltk_data] Downloading package wordnet to\n",
      "[nltk_data]     /Users/dimitrisbouris/nltk_data...\n",
      "[nltk_data]   Package wordnet is already up-to-date!\n"
     ]
    }
   ],
   "source": [
    "import nltk\n",
    "from nltk.corpus import stopwords\n",
    "from nltk.stem import PorterStemmer, WordNetLemmatizer\n",
    "import re\n",
    "\n",
    "# Download stopwords and initialize stemmer and lemmatizer\n",
    "nltk.download('stopwords')\n",
    "nltk.download('wordnet')\n",
    "stop_words = set(stopwords.words('english'))\n",
    "stemmer = PorterStemmer()\n",
    "lemmatizer = WordNetLemmatizer()\n",
    "\n",
    "def preprocess(text):\n",
    "    # Lowercase the text\n",
    "    text = text.lower()\n",
    "    # Remove punctuation and special characters\n",
    "    text = re.sub(r'[^\\w\\s]', '', text)\n",
    "    text = re.sub(r'[\\W_]+|\\w*\\d\\w*', ' ', text)\n",
    "    # Tokenize the text\n",
    "    tokens = nltk.word_tokenize(text)\n",
    "    # Remove stop words and apply stemming/lemmatization\n",
    "    processed_tokens = [lemmatizer.lemmatize(stemmer.stem(token)) for token in tokens if token not in stop_words]\n",
    "    # Join the processed tokens back into a string\n",
    "    processed_text = ' '.join(processed_tokens)\n",
    "    return processed_text\n",
    "\n",
    "to_embed['title'] = to_embed['title'].apply(preprocess)"
   ]
  },
  {
   "cell_type": "markdown",
   "id": "249a4c65",
   "metadata": {},
   "source": [
    "We can now load the pretrained model.\n",
    "\n",
    "- We will use a GloVe (Global Vectors for Word Representation) pre-trained model\n",
    "- The model has been trained on  datasets from Wikipedia, Common Crawl, and the Gigaword\n",
    "- We use the 200 dim model meaning that each word will be represented by a 200 dimension matrix \n",
    "- We use `gensim` to obtain the model"
   ]
  },
  {
   "cell_type": "code",
   "execution_count": 131,
   "id": "2d990905",
   "metadata": {},
   "outputs": [],
   "source": [
    "import gensim.downloader as api\n",
    "\n",
    "# Load the GloVe embeddings into Python using gensim\n",
    "glove_vectors = api.load('glove-wiki-gigaword-200')"
   ]
  },
  {
   "cell_type": "markdown",
   "id": "696710f0",
   "metadata": {},
   "source": [
    "- as we said, each word is represented by a 200 dimension vector \n",
    "- a common way to represent a corpus of words using the embeddings (ie the abstract) is to get create a matrix `(number of words, 200)` containing the embedding for each word in the abstract and then use the mean of each column\n",
    "    - this way, we have a single 200 dimension representation for each abstract `(1, 200)`\n",
    "- we will use this implementation"
   ]
  },
  {
   "cell_type": "code",
   "execution_count": 132,
   "id": "37fd7e09",
   "metadata": {},
   "outputs": [],
   "source": [
    "# define a function to return the vector representation for each abstract\n",
    "def text_to_vector(text):\n",
    "    words = text.split()\n",
    "    # we use the model loaded before to get the embedding\n",
    "    vectors = [glove_vectors[word] for word in words if word in glove_vectors.key_to_index]\n",
    "    # if we have at least one word identified, we calculate the mean as noted above\n",
    "    if vectors:\n",
    "        return np.mean(vectors, axis=0)\n",
    "    # if we have no words identified, we add a 200 dim zero matri\n",
    "    else:\n",
    "        return np.zeros(200)  # Return a zero vector if the text contains no known words\n",
    "\n",
    "# Convert the abstracts to vectors of word embeddings\n",
    "X = np.array([text_to_vector(abstract) for abstract in to_embed['abstract']])"
   ]
  },
  {
   "cell_type": "code",
   "execution_count": 133,
   "id": "27f0db43",
   "metadata": {},
   "outputs": [],
   "source": [
    "# get the dependent variable\n",
    "y = to_embed['cdindex']"
   ]
  },
  {
   "cell_type": "code",
   "execution_count": 134,
   "id": "ceb95a5b",
   "metadata": {},
   "outputs": [],
   "source": [
    "# get the additional features we calculated before\n",
    "additional_features = fact_data.drop(columns='cdindex')\n",
    "additional_features.reset_index(inplace=True, drop=True)\n",
    "# we will concat the embeddings with the other metrics we have calculated\n",
    "X = pd.concat([pd.DataFrame(X), additional_features], axis=1)"
   ]
  },
  {
   "cell_type": "code",
   "execution_count": 135,
   "id": "f0f949e0",
   "metadata": {},
   "outputs": [],
   "source": [
    "from sklearn.model_selection import train_test_split\n",
    "\n",
    "X_train, X_test, y_train, y_test = train_test_split(X, y, random_state=42, test_size=0.3)"
   ]
  },
  {
   "cell_type": "code",
   "execution_count": 136,
   "id": "dfe1e745",
   "metadata": {},
   "outputs": [
    {
     "data": {
      "text/plain": [
       "XGBRegressor(base_score=0.5, booster='gbtree', callbacks=None,\n",
       "             colsample_bylevel=1, colsample_bynode=1, colsample_bytree=1,\n",
       "             early_stopping_rounds=None, enable_categorical=False,\n",
       "             eval_metric=None, feature_types=None, gamma=0, gpu_id=-1,\n",
       "             grow_policy='depthwise', importance_type=None,\n",
       "             interaction_constraints='', learning_rate=0.1, max_bin=256,\n",
       "             max_cat_threshold=64, max_cat_to_onehot=4, max_delta_step=0,\n",
       "             max_depth=4, max_leaves=0, min_child_weight=1, missing=nan,\n",
       "             monotone_constraints='()', n_estimators=100, n_jobs=0,\n",
       "             num_parallel_tree=1, predictor='auto', random_state=0, ...)"
      ]
     },
     "execution_count": 136,
     "metadata": {},
     "output_type": "execute_result"
    }
   ],
   "source": [
    "xgb_reg = xgb.XGBRegressor(max_depth=4, n_estimators=100, learning_rate=0.1)\n",
    "xgb_reg.fit(X_train, y_train)"
   ]
  },
  {
   "cell_type": "markdown",
   "id": "d3639f78",
   "metadata": {},
   "source": [
    "The model seems equivalent to all the other models we have tried\n",
    "- Again, there is no sign of overfitting"
   ]
  },
  {
   "cell_type": "code",
   "execution_count": 137,
   "id": "964cff1e",
   "metadata": {},
   "outputs": [
    {
     "name": "stdout",
     "output_type": "stream",
     "text": [
      "MAE: 0.02\n",
      "MSE: 0.01\n",
      "R2 (Test): 0.96\n",
      "R2 (Train): 0.97\n"
     ]
    }
   ],
   "source": [
    "# make predictions on the test dataset\n",
    "preds = xgb_reg.predict(X_test)\n",
    "\n",
    "# calculate the evaluation metrics\n",
    "mae = mean_absolute_error(y_test, preds)\n",
    "mse = mean_squared_error(y_test, preds)\n",
    "r2 = r2_score(y_test, preds)\n",
    "\n",
    "# print the results \n",
    "print(f\"MAE: {mae:.2f}\")\n",
    "print(f\"MSE: {mse:.2f}\")\n",
    "print(f\"R2 (Test): {r2:.2f}\")\n",
    "print(f\"R2 (Train): {xgb_reg.score(X_train, y_train):.2f}\")"
   ]
  },
  {
   "cell_type": "code",
   "execution_count": 138,
   "id": "568cacde",
   "metadata": {
    "scrolled": true
   },
   "outputs": [
    {
     "data": {
      "image/png": "[encoded data removed]",
      "text/plain": [
       "<Figure size 360x360 with 1 Axes>"
      ]
     },
     "metadata": {
      "needs_background": "light"
     },
     "output_type": "display_data"
    }
   ],
   "source": [
    "fig, ax = plt.subplots(figsize=(5, 5))\n",
    "plt.scatter(y_test, preds, alpha=0.3)\n",
    "ax.plot([0, 1], [0, 1], transform=ax.transAxes, ls=\"--\", c=\"red\")\n",
    "plt.title(\"XGB Regressor + Embeddings\")\n",
    "plt.ylabel(\"Model predictions\")\n",
    "plt.xlabel(\"Truths\")\n",
    "plt.xlim([-1.1, 1.1])\n",
    "_ = plt.ylim([-1.1, 1.1])"
   ]
  },
  {
   "cell_type": "markdown",
   "id": "c8a82a64",
   "metadata": {},
   "source": [
    "As far as the Feature Importances are concerned:\n",
    "- the number of references parameter is still the most influencial\n",
    "- the parameters mean references age and references publication year std are also quite important\n",
    "- lots of the dimensions of the embeddings seem to have a significant contribution"
   ]
  },
  {
   "cell_type": "code",
   "execution_count": 139,
   "id": "4e2aa63e",
   "metadata": {},
   "outputs": [
    {
     "data": {
      "image/png": "[encoded data removed]",
      "text/plain": [
       "<Figure size 576x288 with 1 Axes>"
      ]
     },
     "metadata": {
      "needs_background": "light"
     },
     "output_type": "display_data"
    }
   ],
   "source": [
    "fig = plt.figure(figsize=(8, 4))\n",
    "_ = xgb.plot_importance(xgb_reg, ax = fig.gca(), max_num_features=10, title='Top 10 Feature Importances with Embeddings')"
   ]
  },
  {
   "cell_type": "markdown",
   "id": "7b721928",
   "metadata": {},
   "source": [
    "Overall, adding the embeddings in our model did not help make our predictions more accurate."
   ]
  },
  {
   "cell_type": "markdown",
   "id": "1d630487",
   "metadata": {},
   "source": [
    "## Conclusion"
   ]
  },
  {
   "cell_type": "markdown",
   "id": "f7b65bad",
   "metadata": {},
   "source": [
    "- The imbalance in our dataset created many problems\n",
    "- Some of the features proposed apprear to be biased beacuse of our sample\n",
    "- On our dataset, the nlp techniques implemented did not help the model to be more accurate\n",
    "- The features added to each model are the ones which more accurately predict the `cdindex` based on our dataset which are not necessarily the best ones for a model trained on the whole dataset\n",
    "- In the case of having the whole dataset, we might need to change both our model parameters and our feature combinations by adding some of the features we calculated and not used."
   ]
  },
  {
   "cell_type": "markdown",
   "id": "50b5c81e",
   "metadata": {},
   "source": []
  }
 ],
 "metadata": {
  "kernelspec": {
   "display_name": "Python 3 (ipykernel)",
   "language": "python",
   "name": "python3"
  },
  "language_info": {
   "codemirror_mode": {
    "name": "ipython",
    "version": 3
   },
   "file_extension": ".py",
   "mimetype": "text/x-python",
   "name": "python",
   "nbconvert_exporter": "python",
   "pygments_lexer": "ipython3",
   "version": "3.9.12"
  },
  "vscode": {
   "interpreter": {
    "hash": "aee8b7b246df8f9039afb4144a1f6fd8d2ca17a180786b69acc140d282b71a49"
   }
  }
 },
 "nbformat": 4,
 "nbformat_minor": 5
}
